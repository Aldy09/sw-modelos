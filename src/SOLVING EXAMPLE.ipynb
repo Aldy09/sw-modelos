{
 "cells": [
  {
   "cell_type": "code",
   "execution_count": null,
   "id": "5f64678b",
   "metadata": {},
   "outputs": [
    {
     "name": "stdout",
     "output_type": "stream",
     "text": [
      "Model: guia5problematipo2\n",
      " - number of variables: 3\n",
      "   - binary=0, integer=0, continuous=3\n",
      " - number of constraints: 9\n",
      "   - linear=9\n",
      " - parameters: defaults\n",
      " - objective: none\n",
      " - problem type is: LP\n",
      "--------------------\n",
      "Model: guia5problematipo2\n",
      "Constraints:\n",
      "   Disp_Equipo1: 0.800A+0.800B+0.300C <= 160\n",
      "   Disp_Equipo2: 0.600A+1.200B <= 180\n",
      "   Disp_Equipo3: 0.600A+B+0.600C <= 110\n",
      "   DemandMax_A: A <= 100\n",
      "   DemandMax_B: B <= 120\n",
      "   DemandMin_B: B >= 80\n",
      "Objective: 50A+40B+30C\n",
      " Maximize\n",
      "--------------------\n",
      "* Production model solved with objective: 5700\n",
      "* Total benefit=5700\n",
      "Production of A: 50.0\n",
      "Production of B: 80.0\n",
      "Production of C: 0\n"
     ]
    }
   ],
   "source": [
    "# Cargar los datos y obtener el modelo\n",
    "from data_and_model_construction.data import create_data_dict\n",
    "from data_and_model_construction.common_model import create_model, print_model, solve_model\n",
    "\n",
    "data = create_data_dict()\n",
    "mdl, production_vars, products = create_model(data)\n",
    "print_model(mdl)\n",
    "solve_model(mdl, production_vars, products)\n"
   ]
  }
 ],
 "metadata": {
  "language_info": {
   "name": "python",
   "pygments_lexer": "ipython3"
  }
 },
 "nbformat": 4,
 "nbformat_minor": 5
}
