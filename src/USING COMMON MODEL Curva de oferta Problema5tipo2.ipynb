{
 "cells": [
  {
   "cell_type": "code",
   "execution_count": null,
   "id": "878cbede",
   "metadata": {},
   "outputs": [
    {
     "name": "stdout",
     "output_type": "stream",
     "text": [
      "Model: guia5problematipo2\n",
      " - number of variables: 3\n",
      "   - binary=0, integer=0, continuous=3\n",
      " - number of constraints: 9\n",
      "   - linear=9\n",
      " - parameters: defaults\n",
      " - objective: none\n",
      " - problem type is: LP\n",
      "* Production model solved with objective: 5700\n",
      "* Total benefit=5700\n",
      "Production of A: 50.0\n",
      "Production of B: 80.0\n",
      "Production of C: 0\n"
     ]
    }
   ],
   "source": [
    "# Cargar los datos y obtener el modelo\n",
    "from common import *\n",
    "mdl, produccion_vars, products = create_model()\n",
    "solve_model(mdl, produccion_vars, products)"
   ]
  },
  {
   "cell_type": "code",
   "execution_count": null,
   "id": "6aeef1b7",
   "metadata": {},
   "outputs": [],
   "source": [
    "#***Added by JL - 2024 Mar 03th - Checking sensitivity analysis *****')\n",
    "\n",
    "# Initialize lists to store the results\n",
    "\n",
    "#prices = []\n",
    "#quantities = []\n",
    "\n",
    "#real_price_value = 0\n",
    "\n",
    "#m = 0.01\n"
   ]
  },
  {
   "cell_type": "code",
   "execution_count": null,
   "id": "e90d2f01",
   "metadata": {},
   "outputs": [],
   "source": [
    "def get_prod_var_for(product_name):\n",
    "    prod_var = next((value for key, value in produccion_vars.items() if key[0] == product_name), None)\n",
    "    print(f\"prod_var: {prod_var}\")\n",
    "    if prod_var is None:\n",
    "        raise ValueError(f\"ERROR: no se encontró {product_name} en produccion_vars.\")\n",
    "    return prod_var"
   ]
  },
  {
   "cell_type": "code",
   "execution_count": null,
   "id": "e3344fef",
   "metadata": {},
   "outputs": [],
   "source": [
    "# Aux: específica de Curva de oferta\n",
    "# Perform sensitivity analysis of the objective\n",
    "# Devuelve el lower y upper del rango actual para el coeficiente del funcional\n",
    "# de la variable prod_var.\n",
    "def perform_sensitivity_analysis(mdl, prod_name):\n",
    "    lp = LinearRelaxer.make_relaxed_model(mdl)\n",
    "    lp.solve()\n",
    "    cpx = lp.get_engine().get_cplex()\n",
    "    \n",
    "    prod_var=get_prod_var_for(prod_name)\n",
    "\n",
    "    idx=prod_var.index\n",
    "    ranges = cpx.solution.sensitivity.objective()\n",
    "    print(\"[debug] lower, upper:\", ranges[idx])\n",
    "\n",
    "    return ranges[idx]\n"
   ]
  },
  {
   "cell_type": "code",
   "execution_count": null,
   "id": "27177e80",
   "metadata": {},
   "outputs": [],
   "source": [
    "# Solves the model for a given price por a product\n",
    "# price: price to consider\n",
    "# prod_name: product name (\"A\", \"B\", \"C\")\n",
    "# prod_number: product number considering their position in the objective (1 = \"A\", 2 = \"B\", 3 = \"C\", ...)\n",
    "# Al prod_name le pone el price, y resuelve.\n",
    "def solve_model_for_price(prod_name, price, mdl, products, produccion_vars):\n",
    "\n",
    "    # Función objetivo\n",
    "    # Toma los coeficientes de los datos excepto por el de la variable prod_name para la cual considera el coeficiente 'price'\n",
    "    total_benefit = mdl.sum(produccion_vars[p] * (p[1] if p[0] != prod_name else price) for p in products)\n",
    "    mdl.maximize(total_benefit)\n",
    "\n",
    "    solution = mdl.solve()\n",
    "    if solution is not None:\n",
    "        print(\"* Production model solved with objective: {:g}\".format(solution.objective_value))\n",
    "        print(\"* Total benefit=%g\" % solution.objective_value)\n",
    "        for p in products:\n",
    "            print(\"Production of {product}: {prod_var}\".format(product=p[0], prod_var=produccion_vars[p].solution_value))\n",
    "\n",
    "        return solution\n",
    "    else:\n",
    "        print(\"No solution found for price value: {0}\".format(price))\n",
    "        return None  # Return None to indicate that the model is infeasible at this point\n"
   ]
  },
  {
   "cell_type": "code",
   "execution_count": null,
   "id": "7000c6aa",
   "metadata": {},
   "outputs": [],
   "source": [
    "# Get quantity of the product in the solution\n",
    "def get_y(prod_var):\n",
    "    return prod_var.solution_value"
   ]
  },
  {
   "cell_type": "code",
   "execution_count": null,
   "id": "eede5781",
   "metadata": {},
   "outputs": [],
   "source": [
    "# aux: ver cantidad de parámetros.\n",
    "# pre: se resolvió el modelo y existe solución.\n",
    "#def iterate_over_price_en_construccion(constraint_nameX, constraint_nameY, mdl, products, produccion_vars, get_y_function): # aux: var mdl, 'm', y funciones.\n",
    "def iterate_over_price_en_construccion(prod_name, prod_var, mdl, products, produccion_vars, get_y_function): # aux: var mdl, 'm', y funciones.\n",
    "    PRICE_POSITION_IN_PRODUCTS = 1 # price position in products vector (0=name, 1=benefit, 2=max demand, 3=min demand)\n",
    "\n",
    "    # Obtengo punto actual\n",
    "    # Obs: Esto, a diferencia la iteración para otros gráficos (rhs) No requiere llamar a perform_sensitivity_analysis.\n",
    "    # Buscamos el product_name en el array \"products\" para consultar en su primera posición su precio\n",
    "    # (aux: products tiene tuplas, esto obtiene la tupla que tiene 'product_name' como primer valor)\n",
    "    idx = next((i for i, prod in enumerate(products) if prod[0] == prod_name), None)\n",
    "    current_price_value = products[idx][PRICE_POSITION_IN_PRODUCTS]\n",
    "    current_quantity_value = get_y(prod_var)\n",
    "    print(f\"[DEBUG] QUANTITY DE CURRENT_PRICE: {current_quantity_value}\")\n",
    "\n",
    "    # Obtengo punto actual\n",
    "    # Buscamos el product_name en el array \"products\" para consultar en su primera posición su precio\n",
    "    # (aux: products tiene tuplas, esto obtiene la tupla que tiene 'product_name' como primer valor)\n",
    "    idx = next((i for i, prod in enumerate(products) if prod[0] == prod_name), None)\n",
    "    current_price_value = products[idx][PRICE_POSITION_IN_PRODUCTS]\n",
    "    current_quantity_value = get_y(prod_var)\n",
    "    print(f\"[DEBUG] QUANTITY DE CURRENT_PRICE: {current_quantity_value}\")\n",
    "    \n",
    "    #return current_price_value, prices, quantities\n",
    "    #return iterate_internal(constraint_nameX, constraint_nameY, c, mdl, products, produccion_vars, get_y_function) # aux: var mdl, 'm', y funciones.\n",
    "    return iterate_internal(prod_name, prod_var, current_price_value, current_quantity_value, mdl, products, produccion_vars, get_y_function, perform_sensitivity_analysis, solve_model_for_price) # aux: var mdl, 'm', y funciones.\n",
    "\n",
    "#################################\n"
   ]
  },
  {
   "cell_type": "code",
   "execution_count": null,
   "id": "6c971746",
   "metadata": {},
   "outputs": [],
   "source": [
    "def iterate_over_price_for_var(product_name):\n",
    "    # esto da, por ejemplo prod_var_or_min_dem_constraint=list(produccion_vars.values())[0] ## \"A\"\n",
    "    prod_var = next((value for key, value in produccion_vars.items() if key[0] == product_name), None)\n",
    "    print(f\"prod_var: {prod_var}\")\n",
    "    if prod_var is None:\n",
    "        raise ValueError(f\"ERROR: no se encontró {product_name} en produccion_vars.\")\n",
    "    \n",
    "    # Iteramos\n",
    "    current_price_value, prices, quantities = iterate_over_price_en_construccion(product_name, prod_var, mdl, products, produccion_vars, get_y)\n",
    "    \n",
    "    # Le agregamos el punto de x=0 al inicio, porque la función que itera solo contempla números no negativos    \n",
    "    price = 0     \n",
    "    _ = solve_model_for_price(product_name, price, mdl, products, produccion_vars)\n",
    "    quantity = get_y(prod_var)\n",
    "    x_values = [price] + prices\n",
    "    y_values = [quantity] + quantities\n",
    "\n",
    "    return current_price_value, x_values, y_values\n"
   ]
  },
  {
   "cell_type": "code",
   "execution_count": null,
   "id": "f7138417",
   "metadata": {},
   "outputs": [
    {
     "name": "stdout",
     "output_type": "stream",
     "text": [
      "prod_var: produccion_A_50_100_0\n",
      "[DEBUG] QUANTITY DE CURRENT_PRICE: 50.0\n",
      "[DEBUG] QUANTITY DE CURRENT_PRICE: 50.0\n",
      "prod_var: produccion_A_50_100_0\n",
      "[debug] lower, upper: (29.999999999999993, 1e+20)\n",
      "[debug] (lower, upper): (29.999999999999993, 1e+20)\n",
      "[debug] Viendo para rhs: 29.98999999999999\n",
      "* Production model solved with objective: 4700\n",
      "* Total benefit=4700\n",
      "Production of A: 0\n",
      "Production of B: 80.0\n",
      "Production of C: 50.0\n",
      "[debug al append] rhs: 29.98999999999999\n",
      "prod_var: produccion_A_50_100_0\n",
      "[debug] lower, upper: (-1e+20, 30.0)\n",
      "[debug] sensitivity (-1e+20, 30.0)\n",
      "[debug] Viendo para rhs: 1e+20\n",
      "* Production model solved with objective: 4700\n",
      "* Total benefit=4700\n",
      "Production of A: 0\n",
      "Production of B: 80.0\n",
      "Production of C: 50.0\n"
     ]
    }
   ],
   "source": [
    "product_name = \"A\"\n",
    "current_price_value, prices, quantities = iterate_over_price_for_var(product_name)"
   ]
  },
  {
   "cell_type": "code",
   "execution_count": null,
   "id": "55a22f00",
   "metadata": {},
   "outputs": [
    {
     "name": "stdout",
     "output_type": "stream",
     "text": [
      "prices: [0, 29.999999999999993, 29.999999999999993, 50]\n",
      "quantities: [0, 0, 50.0, 50.0]\n",
      "current: 50\n"
     ]
    }
   ],
   "source": [
    "print(\"prices:\", prices)\n",
    "print(\"quantities:\", quantities) \n",
    "print(\"current:\", current_price_value) \n",
    "\n",
    "# Round all values in the prices list to 2 decimal places    \n",
    "#prices = [round(price, 2) for price in prices] #"
   ]
  },
  {
   "cell_type": "code",
   "execution_count": null,
   "id": "667c7de1",
   "metadata": {},
   "outputs": [
    {
     "data": {
      "text/plain": [
       "10.51"
      ]
     },
     "execution_count": 11,
     "metadata": {},
     "output_type": "execute_result"
    }
   ],
   "source": [
    "### Aux, probando\n",
    "round(10.006, 2)\n",
    "round(10.505, 2) \n",
    "#round(10.555, 2)"
   ]
  },
  {
   "cell_type": "code",
   "execution_count": null,
   "id": "5f503802",
   "metadata": {},
   "outputs": [],
   "source": [
    "def get_text_for_plot(xunit, yunit):\n",
    "    xlabel='Precio {0}\\n{1}'.format(product_name, xunit)\n",
    "    ylabel='Cantidad\\nProducida {0}\\n{1}'.format(product_name, yunit)\n",
    "    title='Curva de Oferta del Producto {}'.format(product_name)\n",
    "\n",
    "    return {\"xlabel\": xlabel, \"ylabel\": ylabel, \"title\": title}"
   ]
  },
  {
   "cell_type": "code",
   "execution_count": null,
   "id": "21644b11",
   "metadata": {},
   "outputs": [
    {
     "name": "stdout",
     "output_type": "stream",
     "text": [
      "plt.hline dual_values[i], rhs_values[i], rhs_values[i + 1]: 0 0 29.999999999999993\n",
      "plt.hline dual_values[i], rhs_values[i], rhs_values[i + 1]: 0 29.999999999999993 29.999999999999993\n",
      "plt.hline dual_values[i], rhs_values[i], rhs_values[i + 1]: 50.0 29.999999999999993 50\n",
      "[debug] current_x_value: 50\n"
     ]
    },
    {
     "data": {
      "image/png": "[encoded data removed]",
      "text/plain": [
       "<Figure size 640x480 with 1 Axes>"
      ]
     },
     "metadata": {},
     "output_type": "display_data"
    },
    {
     "data": {
      "text/plain": [
       "<Figure size 2000x1000 with 0 Axes>"
      ]
     },
     "metadata": {},
     "output_type": "display_data"
    }
   ],
   "source": [
    "# Graficar\n",
    "plot_text = get_text_for_plot(\"[$/u]\", \"[u/mes]\")\n",
    "plot(prices, quantities, current_price_value, plot_text)"
   ]
  }
 ],
 "metadata": {
  "language_info": {
   "name": "python",
   "pygments_lexer": "ipython3"
  }
 },
 "nbformat": 4,
 "nbformat_minor": 5
}
