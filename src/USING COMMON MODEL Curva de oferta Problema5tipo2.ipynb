{
 "cells": [
  {
   "cell_type": "code",
   "execution_count": null,
   "id": "878cbede",
   "metadata": {},
   "outputs": [
    {
     "name": "stdout",
     "output_type": "stream",
     "text": [
      "Model: guia5problematipo2\n",
      " - number of variables: 3\n",
      "   - binary=0, integer=0, continuous=3\n",
      " - number of constraints: 9\n",
      "   - linear=9\n",
      " - parameters: defaults\n",
      " - objective: none\n",
      " - problem type is: LP\n",
      "* Production model solved with objective: 12800\n",
      "* Total benefit=12800\n",
      "Production of A: 0\n",
      "Production of B: 80.0\n",
      "Production of C: 320.0\n"
     ]
    }
   ],
   "source": [
    "# Cargar los datos y obtener el modelo\n",
    "from common import *\n",
    "mdl, produccion_vars, products = create_model()\n",
    "solve_model(mdl, produccion_vars, products)"
   ]
  },
  {
   "cell_type": "code",
   "execution_count": null,
   "id": "6aeef1b7",
   "metadata": {},
   "outputs": [],
   "source": [
    "#***Added by JL - 2024 Mar 03th - Checking sensitivity analysis *****')\n",
    "\n",
    "# Initialize lists to store the results\n",
    "\n",
    "#prices = []\n",
    "#quantities = []\n",
    "\n",
    "#real_price_value = 0\n",
    "\n",
    "#m = 0.01\n"
   ]
  },
  {
   "cell_type": "code",
   "execution_count": null,
   "id": "915c068e",
   "metadata": {},
   "outputs": [
    {
     "data": {
      "text/plain": [
       "[('A', 50, 100, 0), ('B', 40, 120, 80), ('C', 30, 999999999999999, 0)]"
      ]
     },
     "execution_count": 3,
     "metadata": {},
     "output_type": "execute_result"
    }
   ],
   "source": [
    "products"
   ]
  },
  {
   "cell_type": "code",
   "execution_count": null,
   "id": "14684004",
   "metadata": {},
   "outputs": [
    {
     "data": {
      "text/plain": [
       "{('A', 50, 100, 0): docplex.mp.Var(type=C,name='produccion_A_50_100_0'),\n",
       " ('B', 40, 120, 80): docplex.mp.Var(type=C,name='produccion_B_40_120_80'),\n",
       " ('C',\n",
       "  30,\n",
       "  999999999999999,\n",
       "  0): docplex.mp.Var(type=C,name='produccion_C_30_999999999999999_0')}"
      ]
     },
     "execution_count": 4,
     "metadata": {},
     "output_type": "execute_result"
    }
   ],
   "source": [
    "produccion_vars"
   ]
  },
  {
   "cell_type": "code",
   "execution_count": null,
   "id": "e3344fef",
   "metadata": {},
   "outputs": [],
   "source": [
    "# Aux: específica de Curva de oferta\n",
    "# Perform sensitivity analysis of the objective\n",
    "# Devuelve el lower y upper del rango actual para el coeficiente del funcional\n",
    "# de la variable prod_var.\n",
    "def perform_sensitivity_analysis(mdl, prod_var):\n",
    "    lp = LinearRelaxer.make_relaxed_model(mdl)\n",
    "    lp.solve()\n",
    "    cpx = lp.get_engine().get_cplex()\n",
    "    \n",
    "    idx=prod_var.index\n",
    "    ranges = cpx.solution.sensitivity.objective()\n",
    "    print(\"[debug] lower, upper:\", ranges[idx])\n",
    "\n",
    "    return ranges[idx]\n"
   ]
  },
  {
   "cell_type": "code",
   "execution_count": null,
   "id": "27177e80",
   "metadata": {},
   "outputs": [],
   "source": [
    "# Solves the model for a given price por a product\n",
    "# price: price to consider\n",
    "# prod_name: product name (\"A\", \"B\", \"C\")\n",
    "# prod_number: product number considering their position in the objective (1 = \"A\", 2 = \"B\", 3 = \"C\", ...)\n",
    "# Al prod_name le pone el price, y resuelve.\n",
    "def solve_model_for_price(prod_name, price, mdl, products, produccion_vars):\n",
    "\n",
    "    # Función objetivo\n",
    "    # Toma los coeficientes de los datos excepto por el de la variable prod_name para la cual considera el coeficiente 'price'\n",
    "    total_benefit = mdl.sum(produccion_vars[p] * (p[1] if p[0] != prod_name else price) for p in products)\n",
    "    mdl.maximize(total_benefit)\n",
    "\n",
    "    solution = mdl.solve()\n",
    "    if solution is not None:\n",
    "        print(\"* Production model solved with objective: {:g}\".format(solution.objective_value))\n",
    "        print(\"* Total benefit=%g\" % solution.objective_value)\n",
    "        for p in products:\n",
    "            print(\"Production of {product}: {prod_var}\".format(product=p[0], prod_var=produccion_vars[p].solution_value))\n",
    "\n",
    "        return solution\n",
    "    else:\n",
    "        print(\"No solution found for price value: {0}\".format(price))\n",
    "        return None  # Return None to indicate that the model is infeasible at this point\n",
    "\n"
   ]
  },
  {
   "cell_type": "code",
   "execution_count": null,
   "id": "569bf5f7",
   "metadata": {},
   "outputs": [],
   "source": [
    "# # Report values for the chart\n",
    "\n",
    "# def report(price, quantity):\n",
    "#     prices.append(price)\n",
    "#     quantities.append(quantity) \n",
    "    "
   ]
  },
  {
   "cell_type": "code",
   "execution_count": null,
   "id": "7000c6aa",
   "metadata": {},
   "outputs": [],
   "source": [
    "# Get quantity of the product in the solution\n",
    "### PROBANDO\n",
    "def get_y(prod_var):\n",
    "    return prod_var.solution_value"
   ]
  },
  {
   "cell_type": "code",
   "execution_count": null,
   "id": "5596781c",
   "metadata": {},
   "outputs": [],
   "source": [
    "# aux: mdl, products, produccion_vars, constraint_nameX, constraint_nameY, report_function\n",
    "       # aux: cant parámetros...\n",
    "def iterate_left(lower, mdl, products, produccion_vars, constraint_nameX, constraint_nameY, get_y_function):\n",
    "    x_list = []\n",
    "    y_list = []\n",
    "    rhs = lower - LITTLE_M\n",
    "    while True:\n",
    "        print(\"[debug] Viendo para rhs:\", rhs)\n",
    "        if rhs < 0:\n",
    "            break ## Stop if the rhs is lower than 0                \n",
    "    \n",
    "        #solution = solve(c, rhs, mdl, products, produccion_vars)\n",
    "        solution = solve_model_for_price(constraint_nameX, rhs, mdl, products, produccion_vars)\n",
    "        if solution is None:\n",
    "            break  # Stop if the model is infeasible\n",
    "        else:\n",
    "            print(f\"[debug al append] price: {rhs}, quantity: {get_y_function(constraint_nameY)}\")\n",
    "            store(x_list, y_list, rhs + LITTLE_M, get_y_function(constraint_nameY))\n",
    "            \n",
    "        # Perform sensitivity analysis to get the new lower bound\n",
    "        new_sensitivity = perform_sensitivity_analysis(mdl, constraint_nameY) ###X\n",
    "        print(\"[debug] sensitivity\", new_sensitivity)            \n",
    "        # for c_new_sens, (new_lower, _) in zip(mdl.iter_constraints(), new_sensitivity):\n",
    "        #     if c_new_sens.name == constraint_nameX: \n",
    "\n",
    "        (new_lower, _) = new_sensitivity\n",
    "        rhs = new_lower\n",
    "        if rhs < 0:\n",
    "            break ## Stop if the rhs is lower than 0                \n",
    "            \n",
    "        solution = solve_model_for_price(constraint_nameX, rhs, mdl, products, produccion_vars)\n",
    "        if solution is None:\n",
    "            break  # Stop if the model is infeasible\n",
    "        store(x_list, y_list, rhs, get_y_function(constraint_nameY))\n",
    "        \n",
    "        rhs = new_lower - LITTLE_M #### aux: es para la sgte vuelta del while\n",
    "    \n",
    "    return x_list, y_list\n",
    "    \n",
    "\n",
    "# aux: mdl, products, produccion_vars, constraint_nameX, constraint_nameY, report_function\n",
    "       # aux: cant parámetros...\n",
    "def iterate_right(upper, mdl, products, produccion_vars, constraint_nameX, constraint_nameY, get_y_function):\n",
    "    x_list = []\n",
    "    y_list = []\n",
    "    rhs = upper + LITTLE_M\n",
    "    ### Aux mientras refactorizo: constraint_nameX y rhs son acá prod_name y price\n",
    "    \n",
    "    while True:\n",
    "        print(\"[debug] Viendo para rhs:\", rhs)\n",
    "        if rhs >= mdl.infinity:\n",
    "            break ## Stop if the rhs reaches or exceeds infinity\n",
    "\n",
    "        solution = solve_model_for_price(constraint_nameX, rhs, mdl, products, produccion_vars)\n",
    "        if solution is None:\n",
    "            break  # Stop if the model is infeasible\n",
    "        else:\n",
    "            store(x_list, y_list, rhs-LITTLE_M, get_y_function(constraint_nameY))\n",
    "\n",
    "        # Perform sensitivity analysis to get the new upper bound\n",
    "        new_sensitivity = perform_sensitivity_analysis(mdl, constraint_nameY) ##X\n",
    "        # for c_new_sens, (_, new_upper) in zip(mdl.iter_constraints(), new_sensitivity):\n",
    "        #     if c_new_sens.name == constraint_nameX:\n",
    "        (_, new_upper) = new_sensitivity\n",
    "        rhs = new_upper\n",
    "        if rhs >= mdl.infinity:\n",
    "            break ## Stop if the rhs reaches or exceeds infinity\n",
    "\n",
    "        solution = solve_model_for_price(constraint_nameX, rhs, mdl, products, produccion_vars)\n",
    "        if solution is None:\n",
    "            break  # Stop if the model is infeasible\n",
    "        store(x_list, y_list, rhs, get_y_function(constraint_nameY))\n",
    "        \n",
    "        rhs = new_upper + LITTLE_M\n",
    "        \n",
    "    return x_list, y_list\n",
    "\n",
    "# aux: ver cantidad de parámetros.\n",
    "# pre: se resolvió el modelo y existe solución.\n",
    "#def iterate_over_price_en_construccion(constraint_nameX, constraint_nameY, mdl, products, produccion_vars, get_y_function): # aux: var mdl, 'm', y funciones.\n",
    "def iterate_over_price_en_construccion(prod_name, prod_var, mdl, products, produccion_vars, get_y_function): # aux: var mdl, 'm', y funciones.\n",
    "    PRICE_POSITION_IN_PRODUCTS = 1 # price position in products vector (0=name, 1=benefit, 2=max demand, 3=min demand)\n",
    "    \n",
    "    # Inicializo listas para acumular los resultados\n",
    "    prices = []\n",
    "    quantities = []\n",
    "\n",
    "    # Obtengo lower y upper iniciales\n",
    "    initial_lower, initial_upper = perform_sensitivity_analysis(mdl, prod_var)\n",
    "    print(\"[debug] (lower, upper):\", (initial_lower, initial_upper)) \n",
    "\n",
    "    # Obtengo punto actual\n",
    "    # Buscamos el product_name en el array \"products\" para consultar en su primera posición su precio\n",
    "    # (aux: products tiene tuplas, esto obtiene la tupla que tiene 'product_name' como primer valor)\n",
    "    idx = next((i for i, prod in enumerate(products) if prod[0] == prod_name), None)\n",
    "    current_price_value = products[idx][PRICE_POSITION_IN_PRODUCTS]\n",
    "    current_quantity_value = get_y(prod_var)\n",
    "    print(f\"[DEBUG] QUANTITY DE CURRENT_PRICE: {current_quantity_value}\")\n",
    "\n",
    "    # AUX: ACÁ DEBO AGREGAR AL 0, lo agrego desde afuera, al principio de todo\n",
    "\n",
    "    # Guardo puntos hacia atrás\n",
    "    #Decrease rhs starting from lower bound - m\n",
    "    left_x_list, left_y_list = iterate_left(initial_lower, mdl, products, produccion_vars, prod_name, prod_var, get_y_function)\n",
    "    prices.extend(reversed(left_x_list))\n",
    "    quantities.extend(reversed(left_y_list))\n",
    "\n",
    "    # Guardo lower inicial, actual, y upper inicial\n",
    "    if initial_lower >= 0: ### AUX: agrego este check, xq da -1e20 para curva de oferta\n",
    "    #if initial_lower > -1*mdl.infinity: ### AUX: agrego este check, xq da -1e20 para curva de oferta        \n",
    "        store(prices, quantities, initial_lower, current_quantity_value) #aux: puede ser none xq sol infeaseable, pero recién en la sgte vuelta de lower-m (y no aća)\n",
    "    \n",
    "    store(prices, quantities, current_price_value, current_quantity_value)\n",
    "    rhs = initial_upper\n",
    "    if rhs < mdl.infinity:\n",
    "        store(prices, quantities, initial_upper, current_quantity_value)\n",
    "    \n",
    "\n",
    "    # Guardo puntos hacia adelante\n",
    "    # Increase rhs starting from upper bound + m\n",
    "    right_x_list, right_y_list = iterate_right(initial_upper, mdl, products, produccion_vars, prod_name, prod_var, get_y_function)\n",
    "    prices.extend(right_x_list)\n",
    "    quantities.extend(right_y_list)\n",
    "    \n",
    "    # Devuelvo el current\n",
    "    \n",
    "    return current_price_value, prices, quantities\n",
    "\n",
    "#################################\n"
   ]
  },
  {
   "cell_type": "code",
   "execution_count": null,
   "id": "0b166bbe",
   "metadata": {},
   "outputs": [],
   "source": [
    "# # Iterate over prices (from 0 to infinity) starting from current price value\n",
    "# # prod_name: product name (\"A\", \"B\", \"C\"), case insentive\n",
    "# def old__iterate_over_price(prod_name, prod_var):\n",
    "#     PRICE_POSITION_IN_PRODUCTS = 1 # price position in products vector (0=name, 1=benefit, 2=max demand, 3=min demand)\n",
    "            \n",
    "#     # Perform initial sensitivity analysis to get the starting lower and upper bounds\n",
    "#     lower, upper = perform_sensitivity_analysis(prod_var)\n",
    "            \n",
    "#     #Print price 0\n",
    "#     price = 0 \n",
    "#     solution = solve_model_for_price(price, prod_name) # Solution nunca valdrá None para Curva de oferta\n",
    "#     quantity = get_y(prod_var)\n",
    "#     report(price, quantity)\n",
    "#     # ********* End of price 0 *********\n",
    "    \n",
    "#     #Print real price\n",
    "#     # Buscamos el product_name en el array \"products\" para consultar en su primera posición su precio\n",
    "#     # (aux: products tiene tuplas, esto obtiene la tupla que tiene 'product_name' como primer valor)\n",
    "#     idx = next((i for i, prod in enumerate(products) if prod[0] == prod_name), None)\n",
    "#     real_price_value = products[idx][PRICE_POSITION_IN_PRODUCTS]\n",
    "\n",
    "#     solution = solve_model_for_price(real_price_value, prod_name)\n",
    "#     quantity = get_y(prod_var)\n",
    "#     report(real_price_value, quantity)\n",
    "#     # ********* End of real price *********\n",
    "\n",
    "#     # *********Store and report the initial lower and upper bounds for the chart*********\n",
    "#     # Print the lower and upper bounds for price\n",
    "#     print(\"---Initial lower bound:\", lower)            \n",
    "#     price = lower            \n",
    "#     if price >= 0:\n",
    "#         solution = solve_model_for_price(price, prod_name)\n",
    "#         quantity = get_y(prod_var)\n",
    "#         report(price, quantity)\n",
    "        \n",
    "#     print(\"---Initial upper bound:\", upper)\n",
    "#     price = upper\n",
    "#     # if price <= mdl.infinity:\n",
    "#     #    solution = solve_model_for_price(price, prod_name)\n",
    "#     #    if solution is not None:\n",
    "#     #        quantity = get_y(prod_var)\n",
    "#     #        if quantity is not None:\n",
    "#     #            report(price, quantity)            \n",
    "#     # ********* End of lower and upper bounds *********\n",
    "                \n",
    "#     #Decrease price starting from lower bound - m\n",
    "#     price = lower - m\n",
    "\n",
    "#     while True:\n",
    "#         if price < 0:\n",
    "#             break ## Stop if the price is lower than 0                \n",
    "    \n",
    "#         solution = solve_model_for_price(price, prod_name)\n",
    "#         if solution is None:\n",
    "#             break  # Stop if the model is infeasible\n",
    "\n",
    "#         quantity = get_y(prod_var)\n",
    "#         report(price+m, quantity) #(xq justo antes de entrar al while se le restó m)\n",
    "            \n",
    "#         # Perform sensitivity analysis to get the new lower bound\n",
    "#         new_lower, _ = perform_sensitivity_analysis(prod_var)\n",
    "        \n",
    "#         price = new_lower\n",
    "#         print(\"NEW LOWER:\", new_lower)\n",
    "#         if price < 0:\n",
    "#             break ## Stop if the price is lower than 0                \n",
    "            \n",
    "#         solution = solve_model_for_price(price, prod_name)\n",
    "#         if solution is None:\n",
    "#             break  # Stop if the model is infeasible\n",
    "\n",
    "#         quantity = get_y(prod_var)\n",
    "#         if quantity is not None:\n",
    "#             report(price, quantity)            \n",
    "                \n",
    "#         price = new_lower - m\n",
    "        \n",
    "\n",
    "#     # Increase price starting from upper bound + m\n",
    "    \n",
    "#     return real_price_value\n",
    "                        "
   ]
  },
  {
   "cell_type": "code",
   "execution_count": null,
   "id": "6c971746",
   "metadata": {},
   "outputs": [],
   "source": [
    "### PROBANDO\n",
    "def iterate_over_price_for_var(product_name):\n",
    "    # esto da, por ejemplo prod_var_or_min_dem_constraint=list(produccion_vars.values())[0] ## \"A\"\n",
    "    prod_var = next((value for key, value in produccion_vars.items() if key[0] == product_name), None)\n",
    "    print(f\"prod_var: {prod_var}\")\n",
    "    if prod_var is None:\n",
    "        raise ValueError(f\"ERROR: no se encontró {product_name} en produccion_vars.\")\n",
    "    #return iterate_over_price(product_name, prod_var)\n",
    "\n",
    "    # Iteramos\n",
    "    current_price_value, prices, quantities = iterate_over_price_en_construccion(product_name, prod_var, mdl, products, produccion_vars, get_y)\n",
    "    # Le agregamos el punto de x=0 al inicio, porque la función que itera solo contempla números no negativos    \n",
    "    price = 0     \n",
    "    _ = solve_model_for_price(product_name, price, mdl, products, produccion_vars)\n",
    "    quantity = get_y(prod_var)\n",
    "    x_values = [price] + prices\n",
    "    y_values = [quantity] + quantities\n",
    "\n",
    "    return current_price_value, x_values, y_values\n",
    "\n",
    "\n"
   ]
  },
  {
   "cell_type": "code",
   "execution_count": null,
   "id": "f7138417",
   "metadata": {},
   "outputs": [
    {
     "name": "stdout",
     "output_type": "stream",
     "text": [
      "prod_var: produccion_A_50_100_0\n"
     ]
    },
    {
     "name": "stdout",
     "output_type": "stream",
     "text": [
      "[debug] lower, upper: (-1e+20, 80.0)\n",
      "[debug] (lower, upper): (-1e+20, 80.0)\n",
      "[DEBUG] QUANTITY DE CURRENT_PRICE: 0\n",
      "[debug] Viendo para rhs: -1e+20\n",
      "[debug] Viendo para rhs: 80.01\n",
      "* Production model solved with objective: 12801\n",
      "* Total benefit=12801\n",
      "Production of A: 100.0\n",
      "Production of B: 80.0\n",
      "Production of C: 53.333333333333314\n",
      "[debug] lower, upper: (80.00000000000001, 1e+20)\n",
      "* Production model solved with objective: 12800\n",
      "* Total benefit=12800\n",
      "Production of A: 0\n",
      "Production of B: 80.0\n",
      "Production of C: 320.0\n"
     ]
    }
   ],
   "source": [
    "product_name = \"A\"\n",
    "current_price_value, prices, quantities = iterate_over_price_for_var(product_name)\n",
    "#real_price_value = iterate_over_price(product_name)"
   ]
  },
  {
   "cell_type": "code",
   "execution_count": null,
   "id": "55a22f00",
   "metadata": {},
   "outputs": [
    {
     "name": "stdout",
     "output_type": "stream",
     "text": [
      "prices: [0, 50, 80.0, 80.0]\n",
      "quantities: [0, 0, 0, 100.0]\n",
      "current: 50\n"
     ]
    }
   ],
   "source": [
    "print(\"prices:\", prices)\n",
    "print(\"quantities:\", quantities) \n",
    "print(\"current:\", current_price_value) \n",
    "\n",
    "# Round all values in the prices list to 2 decimal places    \n",
    "#prices = [round(price, 2) for price in prices] #"
   ]
  },
  {
   "cell_type": "code",
   "execution_count": null,
   "id": "667c7de1",
   "metadata": {},
   "outputs": [
    {
     "data": {
      "text/plain": [
       "10.51"
      ]
     },
     "execution_count": 14,
     "metadata": {},
     "output_type": "execute_result"
    }
   ],
   "source": [
    "### Aux, probando\n",
    "round(10.006, 2)\n",
    "round(10.505, 2) \n",
    "#round(10.555, 2)"
   ]
  },
  {
   "cell_type": "code",
   "execution_count": null,
   "id": "7493e35d",
   "metadata": {},
   "outputs": [],
   "source": [
    "# ### Mejora1\n",
    "# # Armo pares y los ordeno según 'x'\n",
    "# pairs = []\n",
    "# for i in range(len(prices)):\n",
    "#     pairs.append((prices[i], quantities[i]))\n",
    "\n",
    "# print(\"pairs\", pairs)\n",
    "\n",
    "# #pairs.sort()\n",
    "# # Ordeno ascendentemente por la primera componente y Asc por la segunda si hay empates\n",
    "# pairs.sort(key=lambda x: (x[0], x[1]))\n",
    "\n",
    "# print(\"pairs\", pairs)\n",
    "\n",
    "# # Los vuelvo a separar en listas, para no cambiar la función plot\n",
    "# new_x, new_y = [], []\n",
    "# for elem in pairs:\n",
    "#     new_x.append(elem[0])\n",
    "#     new_y.append(elem[1])\n",
    "# print(\"new_x\", new_x)\n",
    "# print(\"new_y\", new_y)"
   ]
  },
  {
   "cell_type": "code",
   "execution_count": null,
   "id": "5f503802",
   "metadata": {},
   "outputs": [],
   "source": [
    "def get_text_for_plot(xunit, yunit):\n",
    "    xlabel='Precio {0}\\n{1}'.format(product_name, xunit)\n",
    "    ylabel='Cantidad\\nProducida {0}\\n{1}'.format(product_name, yunit)\n",
    "    title='Curva de Oferta del Producto {}'.format(product_name)\n",
    "\n",
    "    return {\"xlabel\": xlabel, \"ylabel\": ylabel, \"title\": title}"
   ]
  },
  {
   "cell_type": "code",
   "execution_count": null,
   "id": "21644b11",
   "metadata": {},
   "outputs": [
    {
     "name": "stdout",
     "output_type": "stream",
     "text": [
      "plt.hline dual_values[i], rhs_values[i], rhs_values[i + 1]: 0 0 50\n",
      "plt.hline dual_values[i], rhs_values[i], rhs_values[i + 1]: 0 50 80.0\n",
      "plt.hline dual_values[i], rhs_values[i], rhs_values[i + 1]: 0 80.0 80.0\n",
      "[debug] current_x_value: 50\n"
     ]
    },
    {
     "data": {
      "image/png": "[encoded data removed]",
      "text/plain": [
       "<Figure size 640x480 with 1 Axes>"
      ]
     },
     "metadata": {},
     "output_type": "display_data"
    },
    {
     "data": {
      "text/plain": [
       "<Figure size 2000x1000 with 0 Axes>"
      ]
     },
     "metadata": {},
     "output_type": "display_data"
    }
   ],
   "source": [
    "# Graficar\n",
    "plot_text = get_text_for_plot(\"[$/u]\", \"[u/mes]\")\n",
    "plot(prices, quantities, current_price_value, plot_text)"
   ]
  }
 ],
 "metadata": {
  "language_info": {
   "name": "python",
   "pygments_lexer": "ipython3"
  }
 },
 "nbformat": 4,
 "nbformat_minor": 5
}
