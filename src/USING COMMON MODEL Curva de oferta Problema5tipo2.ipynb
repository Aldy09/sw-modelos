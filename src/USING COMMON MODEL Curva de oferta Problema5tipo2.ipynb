{
 "cells": [
  {
   "cell_type": "code",
   "execution_count": null,
   "id": "878cbede",
   "metadata": {},
   "outputs": [
    {
     "name": "stdout",
     "output_type": "stream",
     "text": [
      "Model: guia5problematipo2\n",
      " - number of variables: 3\n",
      "   - binary=0, integer=0, continuous=3\n",
      " - number of constraints: 9\n",
      "   - linear=9\n",
      " - parameters: defaults\n",
      " - objective: none\n",
      " - problem type is: LP\n",
      "* Production model solved with objective: 5700\n",
      "* Total benefit=5700\n",
      "Production of A: 50.0\n",
      "Production of B: 80.0\n",
      "Production of C: 0\n"
     ]
    }
   ],
   "source": [
    "# Cargar los datos y obtener el modelo\n",
    "from data_and_model_construction.data import create_data_dict\n",
    "from data_and_model_construction.common_model import create_model, solve_model\n",
    "from plot_kind.curva_of_cant_vs_precio import CurvaDeOferta\n",
    "\n",
    "data = create_data_dict()\n",
    "mdl, production_vars, products = create_model(data)\n",
    "solve_model(mdl, production_vars, products)"
   ]
  },
  {
   "cell_type": "code",
   "execution_count": null,
   "id": "f7138417",
   "metadata": {},
   "outputs": [
    {
     "name": "stdout",
     "output_type": "stream",
     "text": [
      "[debug] (lower, upper): (29.999999999999993, 1e+20)\n",
      "* Production model solved with objective: 4700\n",
      "* Total benefit=4700\n",
      "Production of A: 0\n",
      "Production of B: 80.0\n",
      "Production of C: 50.0\n",
      "* Production model solved with objective: 4700\n",
      "* Total benefit=4700\n",
      "Production of A: 0\n",
      "Production of B: 80.0\n",
      "Production of C: 50.0\n"
     ]
    }
   ],
   "source": [
    "product_name = \"A\"\n",
    "curva_of = CurvaDeOferta(mdl, products, production_vars)\n",
    "current_price_value, prices, quantities = curva_of.iterate(product_name)"
   ]
  },
  {
   "cell_type": "code",
   "execution_count": null,
   "id": "21644b11",
   "metadata": {},
   "outputs": [
    {
     "name": "stdout",
     "output_type": "stream",
     "text": [
      "[debug] current_x_value: 50\n"
     ]
    },
    {
     "data": {
      "text/plain": [
       "<Figure size 640x480 with 1 Axes>"
      ]
     },
     "metadata": {},
     "output_type": "display_data"
    },
    {
     "data": {
      "text/plain": [
       "<Figure size 2000x1000 with 0 Axes>"
      ]
     },
     "metadata": {},
     "output_type": "display_data"
    }
   ],
   "source": [
    "curva_of.plot(product_name, \"[$/u]\", \"[u/mes]\")"
   ]
  }
 ],
 "metadata": {
  "language_info": {
   "name": "python",
   "pygments_lexer": "ipython3"
  }
 },
 "nbformat": 4,
 "nbformat_minor": 5
}
