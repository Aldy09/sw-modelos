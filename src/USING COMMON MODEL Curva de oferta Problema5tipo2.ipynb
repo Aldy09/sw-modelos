{
 "cells": [
  {
   "cell_type": "code",
   "execution_count": null,
   "id": "878cbede",
   "metadata": {},
   "outputs": [
    {
     "name": "stdout",
     "output_type": "stream",
     "text": [
      "Model: guia5problematipo2\n",
      " - number of variables: 3\n",
      "   - binary=0, integer=0, continuous=3\n",
      " - number of constraints: 9\n",
      "   - linear=9\n",
      " - parameters: defaults\n",
      " - objective: none\n",
      " - problem type is: LP\n",
      "* Production model solved with objective: 5700\n",
      "* Total benefit=5700\n",
      "Production of A: 50.0\n",
      "Production of B: 80.0\n",
      "Production of C: 0\n"
     ]
    }
   ],
   "source": [
    "# Cargar los datos y obtener el modelo\n",
    "from common_model import *\n",
    "mdl, produccion_vars, products = create_model()\n",
    "solve_model(mdl, produccion_vars, products)"
   ]
  },
  {
   "cell_type": "code",
   "execution_count": null,
   "id": "6aeef1b7",
   "metadata": {},
   "outputs": [],
   "source": [
    "#***Added by JL - 2024 Mar 03th - Checking sensitivity analysis *****')\n",
    "\n",
    "# Initialize lists to store the results\n",
    "\n",
    "prices = []\n",
    "quantities = []\n",
    "\n",
    "real_price_value = 0\n",
    "\n",
    "m = 0.01\n"
   ]
  },
  {
   "cell_type": "code",
   "execution_count": null,
   "id": "e3344fef",
   "metadata": {},
   "outputs": [],
   "source": [
    "# Perform sensitivity analysis of the objective\n",
    "\n",
    "def perform_sensitivity_analysis():\n",
    "    lp = LinearRelaxer.make_relaxed_model(mdl)\n",
    "    lp.solve()\n",
    "    cpx = lp.get_engine().get_cplex()\n",
    "    \n",
    "    print(\"objective:\", cpx.solution.sensitivity.objective())\n",
    "    return cpx.solution.sensitivity.objective()\n"
   ]
  },
  {
   "cell_type": "code",
   "execution_count": null,
   "id": "27177e80",
   "metadata": {},
   "outputs": [],
   "source": [
    "# Solves the model for a given price por a product\n",
    "# price: price to consider\n",
    "# prod_name: product name (\"A\", \"B\", \"C\")\n",
    "# prod_number: product number considering their position in the objective (1 = \"A\", 2 = \"B\", 3 = \"C\", ...)\n",
    "def solve_model_for_price(price, prod_name, prod_number):\n",
    "\n",
    "    # Función objetivo\n",
    "    total_benefit = mdl.sum(produccion_vars[p] * (p[1] if p[0] != prod_name else price) for p in products)\n",
    "    mdl.maximize(total_benefit)\n",
    "\n",
    "    solution = mdl.solve()\n",
    "    if solution is not None:\n",
    "        print(\"* Production model solved with objective: {:g}\".format(solution.objective_value))\n",
    "        print(\"* Total benefit=%g\" % solution.objective_value)\n",
    "        for p in products:\n",
    "            print(\"Production of {product}: {prod_var}\".format(product=p[0], prod_var=produccion_vars[p].solution_value))\n",
    "\n",
    "        return solution\n",
    "    else:\n",
    "        print(\"No solution found for price value: {0}\".format(price))\n",
    "        return None  # Return None to indicate that the model is infeasible at this point\n",
    "\n"
   ]
  },
  {
   "cell_type": "code",
   "execution_count": null,
   "id": "569bf5f7",
   "metadata": {},
   "outputs": [],
   "source": [
    "# Report values for the chart\n",
    "\n",
    "def report(price, quantity):\n",
    "    prices.append(price)\n",
    "    quantities.append(quantity) \n",
    "    "
   ]
  },
  {
   "cell_type": "code",
   "execution_count": null,
   "id": "7000c6aa",
   "metadata": {},
   "outputs": [],
   "source": [
    "# Get quantity of the product in the solution\n",
    "def get_quantity(prod_number):\n",
    "    produccion_vars_list = list(produccion_vars.values())\n",
    "    i = prod_number - 1\n",
    "    if i >= 0:\n",
    "        quantity = produccion_vars_list[i].solution_value\n",
    "        return quantity\n",
    "    else:\n",
    "        return None"
   ]
  },
  {
   "cell_type": "code",
   "execution_count": null,
   "id": "6673a2ef",
   "metadata": {},
   "outputs": [
    {
     "data": {
      "text/plain": [
       "2"
      ]
     },
     "execution_count": 7,
     "metadata": {},
     "output_type": "execute_result"
    }
   ],
   "source": [
    "### Probando\n",
    "ord(\"A\") #65\n",
    "ord(\"A\") - ord(\"A\") + 1 #1\n",
    "ord(\"a\") - ord(\"A\") + 1 #33\n",
    "ord(\"a\".upper()) - ord(\"A\") + 1 #1\n",
    "ord(\"b\".upper()) - ord(\"A\") + 1 #2\n"
   ]
  },
  {
   "cell_type": "code",
   "execution_count": null,
   "id": "0b166bbe",
   "metadata": {},
   "outputs": [],
   "source": [
    "# Iterate over prices (from 0 to infinity) starting from current price value\n",
    "# prod_name: product name (\"A\", \"B\", \"C\"), case insentive\n",
    "def iterate_over_price(prod_name):\n",
    "    prod_number = ord(prod_name.upper()) - ord(\"A\") + 1 # position of the product in the objective (1 = \"A\", 2 = \"B\", 3 = \"C\", ...)\n",
    "    price_position_in_products_vec = 1 # price position in products vector (0=name, 1=benefit, 2=max demand, 3=min demand)\n",
    "            \n",
    "    # Perform initial sensitivity analysis to get the starting lower and upper bounds\n",
    "    objective = perform_sensitivity_analysis()\n",
    "\n",
    "    # Iterate over the lower and upper bounds of the objective of the given product\n",
    "    for i in range(len(objective)): #Objective has all the coefficients for all products\n",
    "        \n",
    "        if i+1 == prod_number: #For the given product\n",
    "            \n",
    "            #Print price 0\n",
    "            price = 0 \n",
    "            solution = solve_model_for_price(price, prod_name, prod_number)\n",
    "            quantity = get_quantity(prod_number)\n",
    "            if quantity is not None:\n",
    "                report(price, quantity)\n",
    "            # ********* End of price 0 *********\n",
    "            \n",
    "            #Print real price\n",
    "            prod_idx = prod_number - 1\n",
    "            if (prod_idx >= 0):\n",
    "                global real_price_value #use the global keyword to declare that you want the function to update the global variable\n",
    "                real_price_value = products[prod_idx][price_position_in_products_vec] \n",
    "                solution = solve_model_for_price(real_price_value, prod_name, prod_number)\n",
    "                quantity = get_quantity(prod_number)\n",
    "                if quantity is not None:\n",
    "                    report(real_price_value, quantity)\n",
    "            # ********* End of real price *********\n",
    "                    \n",
    "            lower = objective[i][0] #Lower price of the current range\n",
    "            upper = objective[i][1] #Upper price of the current range\n",
    "    \n",
    "            # *********Store and report the initial lower and upper bounds for the chart*********\n",
    "            # Print the lower and upper bounds for price\n",
    "            print(\"---Initial lower bound:\", lower)            \n",
    "            price = lower            \n",
    "            if price >= 0:\n",
    "                solution = solve_model_for_price(price, prod_name, prod_number)\n",
    "                quantity = get_quantity(prod_number)\n",
    "                if quantity is not None:\n",
    "                    report(price, quantity)\n",
    "                \n",
    "            print(\"---Initial upper bound:\", upper)\n",
    "            price = upper\n",
    "            # if price <= mdl.infinity:\n",
    "            #    solution = solve_model_for_price(price, prod_name, prod_number)\n",
    "            #    if solution is not None:\n",
    "            #        quantity = get_quantity(prod_number)\n",
    "            #        if quantity is not None:\n",
    "            #            report(price, quantity)            \n",
    "            # ********* End of lower and upper bounds *********\n",
    "                       \n",
    "            #Decrease price starting from lower bound - m\n",
    "            price = lower - m\n",
    "\n",
    "            while True:\n",
    "                if price < 0:\n",
    "                    break ## Stop if the price is lower than 0                \n",
    "            \n",
    "                solution = solve_model_for_price(price, prod_name, prod_number)\n",
    "                if solution is None:\n",
    "                    break  # Stop if the model is infeasible\n",
    "\n",
    "                quantity = get_quantity(prod_number)\n",
    "                if quantity is not None:\n",
    "                    report(price+m, quantity) #(xq justo antes de entrar al while se le restó m)\n",
    "                    \n",
    "                # Perform sensitivity analysis to get the new lower bound\n",
    "                new_objective = perform_sensitivity_analysis()\n",
    "                # Iterate over the lower and upper bounds of the objective of the given product\n",
    "                for i in range(len(new_objective)): #Objective has all the coefficients for all products\n",
    "\n",
    "                    if i+1 == prod_number: #For the given product\n",
    "                        new_lower = new_objective[i][0] #Lower price of the current range\n",
    "                        #new_upper = new_objective[i][1] #Upper price of the current range\n",
    "                        \n",
    "                        price = new_lower\n",
    "                        print(\"NEW LOWER:\", new_lower)\n",
    "                        if price < 0:\n",
    "                            break ## Stop if the price is lower than 0                \n",
    "                            \n",
    "                        solution = solve_model_for_price(price, prod_name, prod_number)\n",
    "                        if solution is None:\n",
    "                            break  # Stop if the model is infeasible\n",
    "\n",
    "                        quantity = get_quantity(prod_number)\n",
    "                        if quantity is not None:\n",
    "                            report(price, quantity)            \n",
    "                             \n",
    "                        price = new_lower - m\n",
    "\n",
    "                        break\n",
    "\n",
    "\n",
    "            # Increase price starting from upper bound + m\n",
    "            price = upper + m\n",
    "            \n",
    "            while True:\n",
    "                if price >= mdl.infinity:\n",
    "                    break ## Stop if the price reaches or exceeds infinity\n",
    "\n",
    "                solution = solve_model_for_price(price, prod_name, prod_number)\n",
    "                \n",
    "                if solution is None:\n",
    "                    break  # Stop if the model is infeasible\n",
    "                \n",
    "                quantity = get_quantity(prod_number)\n",
    "                if quantity is not None:\n",
    "                    report(price-m, quantity) #(xq justo antes de entrar al while se le sumó m)\n",
    "\n",
    "                # Perform sensitivity analysis to get the new upper bound\n",
    "                new_objective = perform_sensitivity_analysis()\n",
    "                # Iterate over the lower and upper bounds of the objective of the given product\n",
    "                for i in range(len(new_objective)): #Objective has all the coefficients for all products\n",
    "\n",
    "                    \n",
    "                    if i+1 == prod_number: #For the given product\n",
    "                        #new_lower = new_objective[i][0] #Lower price of the current range\n",
    "                        new_upper = new_objective[i][1] #Upper price of the current range\n",
    "\n",
    "                        price = new_upper\n",
    "                        if price >= mdl.infinity:\n",
    "                            break ## Stop if the price reaches or exceeds infinity\n",
    "\n",
    "                        solution = solve_model_for_price(price, prod_name, prod_number)\n",
    "                        if solution is None:\n",
    "                            break  # Stop if the model is infeasible\n",
    "\n",
    "                        quantity = get_quantity(prod_number)\n",
    "                        if quantity is not None:\n",
    "                            report(price, quantity)  \n",
    "\n",
    "                        price = new_upper + m #aux: para la sgte vuelta del while\n",
    "                        break\n",
    "                        "
   ]
  },
  {
   "cell_type": "code",
   "execution_count": null,
   "id": "f7138417",
   "metadata": {},
   "outputs": [
    {
     "name": "stdout",
     "output_type": "stream",
     "text": [
      "objective: [(29.999999999999993, 1e+20), (-1e+20, 83.33333333333334), (-1e+20, 50.00000000000001)]\n",
      "* Production model solved with objective: 4700\n",
      "* Total benefit=4700\n",
      "Production of A: 0\n",
      "Production of B: 80.0\n",
      "Production of C: 50.0\n",
      "* Production model solved with objective: 5700\n",
      "* Total benefit=5700\n",
      "Production of A: 50.0\n",
      "Production of B: 80.0\n",
      "Production of C: 0\n",
      "---Initial lower bound: 29.999999999999993\n",
      "* Production model solved with objective: 4700\n",
      "* Total benefit=4700\n",
      "Production of A: 50.0\n",
      "Production of B: 80.0\n",
      "Production of C: 0\n",
      "---Initial upper bound: 1e+20\n",
      "* Production model solved with objective: 4700\n",
      "* Total benefit=4700\n",
      "Production of A: 0\n",
      "Production of B: 80.0\n",
      "Production of C: 50.0\n",
      "objective: [(-1e+20, 30.0), (-1e+20, 50.0), (29.98999999999999, 1e+20)]\n",
      "NEW LOWER: -1e+20\n"
     ]
    }
   ],
   "source": [
    "product_name = \"A\"\n",
    "iterate_over_price(product_name)"
   ]
  },
  {
   "cell_type": "code",
   "execution_count": null,
   "id": "667c7de1",
   "metadata": {},
   "outputs": [
    {
     "data": {
      "text/plain": [
       "10.51"
      ]
     },
     "execution_count": 10,
     "metadata": {},
     "output_type": "execute_result"
    }
   ],
   "source": [
    "### Aux, probando\n",
    "round(10.006, 2)\n",
    "round(10.505, 2) \n",
    "#round(10.555, 2)"
   ]
  },
  {
   "cell_type": "code",
   "execution_count": null,
   "id": "3caedad5",
   "metadata": {},
   "outputs": [
    {
     "name": "stdout",
     "output_type": "stream",
     "text": [
      "prices: [0, 50, 29.999999999999993, 29.999999999999993]\n",
      "quantities: [0, 50.0, 50.0, 0]\n"
     ]
    }
   ],
   "source": [
    "print(\"prices:\", prices)\n",
    "print(\"quantities:\", quantities) "
   ]
  },
  {
   "cell_type": "code",
   "execution_count": null,
   "id": "ec1698ae",
   "metadata": {},
   "outputs": [],
   "source": [
    "# Plot the chart: quantity (Y) vs. price (X)\n",
    "\n",
    "import matplotlib.pyplot as plt\n",
    "import matplotlib\n",
    "\n",
    "# Optional: xunit: unit to plot for x-axis\n",
    "# Optional: yunit: unit to plot for y-axis\n",
    "def plot(xunit, yunit, prices, quantities):\n",
    "    \n",
    "    # Round all values in the prices list to 2 decimal places    \n",
    "    prices = [round(price, 2) for price in prices] #\n",
    "\n",
    "    print(\"prices:\", prices)\n",
    "    print(\"quantities:\", quantities) # aux: typo, existían quantities y quantitities\n",
    "    \n",
    "    # Set default font size for all text elements\n",
    "    matplotlib.rcParams.update({'font.size': 18})\n",
    "        \n",
    "    # Dibujar líneas horizontales entre los puntos\n",
    "    for i in range(len(prices) - 1):\n",
    "        plt.hlines(quantities[i], prices[i], prices[i + 1], linewidth=6, color='C0')\n",
    "                              \n",
    "    plt.xticks(prices)\n",
    "    plt.yticks(quantities)\n",
    "\n",
    "    #Print current real value\n",
    "    plt.axvline(x=real_price_value, color='g', linestyle='--', label='Valor actual')\n",
    "\n",
    "    plt.xlabel('Precio {0}\\n{1}'.format(product_name, xunit), labelpad=20, color='#DC143C')\n",
    "    plt.ylabel('Cantidad \\nProducida {0}\\n{1}'.format(product_name, yunit), rotation=0, labelpad=90, color='#DC143C')\n",
    "    plt.title('Curva de Oferta del Producto {}'.format(product_name), pad=30)\n",
    "    plt.grid(True, which='both', linestyle='--', linewidth=0.2, color='gray', alpha=0.7)\n",
    "    #plt.tight_layout()\n",
    "\n",
    "    # Extender el último rango un poco hacia la derecha\n",
    "    x_start = prices[-1] # Punto donde comienza la línea\n",
    "    x_offset = 20\n",
    "    y_value = quantities[-1]\n",
    "    plt.hlines(y=y_value, xmin=x_start, xmax=x_start + x_offset, color='C0', linewidth=6)\n",
    "    \n",
    "    # Dibujar un vector con origen en el último punto y dirección hacia el infinito horizontalmente\n",
    "    plt.annotate('', xy=(plt.xlim()[1], quantities[-1]), xytext=(x_start + x_offset, quantities[-1]),\n",
    "             arrowprops=dict(arrowstyle=\"->\", lw=2, color='C0'))\n",
    "\n",
    "    # Se puede ajustar la rotación y tamaño, si los números están muy cerca y se enciman\n",
    "    plt.xticks(rotation=0, ha='center') # rotation=45, fontsize 18\n",
    "    \n",
    "    # Set the figure size to provide more space for the tick labels\n",
    "    plt.figure(figsize=(10, 6))\n",
    "    plt.show()  \n",
    "    "
   ]
  },
  {
   "cell_type": "code",
   "execution_count": null,
   "id": "7493e35d",
   "metadata": {},
   "outputs": [
    {
     "name": "stdout",
     "output_type": "stream",
     "text": [
      "pairs [(0, 0), (50, 50.0), (29.999999999999993, 50.0), (29.999999999999993, 0)]\n",
      "pairs [(0, 0), (29.999999999999993, 0), (29.999999999999993, 50.0), (50, 50.0)]\n",
      "new_x [0, 29.999999999999993, 29.999999999999993, 50]\n",
      "new_y [0, 0, 50.0, 50.0]\n"
     ]
    }
   ],
   "source": [
    "### Mejora1\n",
    "# Armo pares y los ordeno según 'x'\n",
    "pairs = []\n",
    "for i in range(len(prices)):\n",
    "    pairs.append((prices[i], quantities[i]))\n",
    "\n",
    "print(\"pairs\", pairs)\n",
    "\n",
    "#pairs.sort()\n",
    "# Ordeno ascendentemente por la primera componente y Asc por la segunda si hay empates\n",
    "pairs.sort(key=lambda x: (x[0], x[1]))\n",
    "\n",
    "print(\"pairs\", pairs)\n",
    "\n",
    "## Agrego acá la Mejora 2: elimino el 'infinito' si está\n",
    "#print(\"aux:\", pairs[-1][0])\n",
    "# Podría No appendearse el infinito directam, tmb\n",
    "# if pairs[-1][0] == mdl.infinity:\n",
    "#     pairs.pop()\n",
    "#     print(\"pairs\", pairs)\n",
    "\n",
    "# Los vuelvo a separar en listas, para no cambiar la función plot\n",
    "new_x, new_y = [], []\n",
    "for elem in pairs:\n",
    "    new_x.append(elem[0])\n",
    "    new_y.append(elem[1])\n",
    "print(\"new_x\", new_x)\n",
    "print(\"new_y\", new_y)"
   ]
  },
  {
   "cell_type": "code",
   "execution_count": null,
   "id": "21644b11",
   "metadata": {},
   "outputs": [
    {
     "name": "stdout",
     "output_type": "stream",
     "text": [
      "prices: [0, 30.0, 30.0, 50]\n",
      "quantities: [0, 0, 50.0, 50.0]\n"
     ]
    },
    {
     "data": {
      "image/png": "[encoded data removed]",
      "text/plain": [
       "<Figure size 640x480 with 1 Axes>"
      ]
     },
     "metadata": {},
     "output_type": "display_data"
    },
    {
     "data": {
      "text/plain": [
       "<Figure size 1000x600 with 0 Axes>"
      ]
     },
     "metadata": {},
     "output_type": "display_data"
    }
   ],
   "source": [
    "# Usage of pLot the chart\n",
    "plot(\"[$/u]\", \"[u/mes]\", new_x, new_y)"
   ]
  }
 ],
 "metadata": {
  "language_info": {
   "name": "python",
   "pygments_lexer": "ipython3"
  }
 },
 "nbformat": 4,
 "nbformat_minor": 5
}
