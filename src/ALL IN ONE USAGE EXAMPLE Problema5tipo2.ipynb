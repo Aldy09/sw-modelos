{
 "cells": [
  {
   "cell_type": "markdown",
   "id": "884abf59",
   "metadata": {},
   "source": [
    "## Carga de datos y creación del modelo"
   ]
  },
  {
   "cell_type": "code",
   "execution_count": null,
   "id": "edf96648",
   "metadata": {},
   "outputs": [
    {
     "name": "stdout",
     "output_type": "stream",
     "text": [
      "Model: guia5problematipo2\n",
      " - number of variables: 3\n",
      "   - binary=0, integer=0, continuous=3\n",
      " - number of constraints: 9\n",
      "   - linear=9\n",
      " - parameters: defaults\n",
      " - objective: none\n",
      " - problem type is: LP\n",
      "* Production model solved with objective: 5700\n",
      "* Total benefit=5700\n",
      "Production of A: 50.0\n",
      "Production of B: 80.0\n",
      "Production of C: 0\n"
     ]
    }
   ],
   "source": [
    "# Cargar los datos y obtener el modelo\n",
    "from data_and_model_construction.data import create_data_dict\n",
    "from data_and_model_construction.common_model import create_model, solve_model, print_model\n",
    "\n",
    "data = create_data_dict()\n",
    "mdl, production_vars, products = create_model(data)\n",
    "solve_model(mdl, production_vars, products)"
   ]
  },
  {
   "cell_type": "markdown",
   "id": "4c82064c",
   "metadata": {},
   "source": [
    "## Costo oportunidad"
   ]
  },
  {
   "cell_type": "code",
   "execution_count": null,
   "id": "9545df0d",
   "metadata": {},
   "outputs": [],
   "source": [
    "from plot_kind.costo_op_vs_disp import CostoOportunidad"
   ]
  },
  {
   "cell_type": "code",
   "execution_count": null,
   "id": "6bab410a",
   "metadata": {},
   "outputs": [
    {
     "name": "stdout",
     "output_type": "stream",
     "text": [
      "Demanda mínima encontrada para el producto B.\n"
     ]
    },
    {
     "name": "stdout",
     "output_type": "stream",
     "text": [
      "[debug] (lower, upper): (80.0, 140.0)\n",
      "---\n",
      "- Adjusting RHS to: 79.99\n",
      "No solution found for RHS value: 79.99\n",
      "---\n",
      "- Adjusting RHS to: 140.01\n",
      "* Production model solved with objective: 8200.5\n",
      "* Total benefit=8200.5\n",
      "Production of A: 100.0\n",
      "Production of B: 80.0\n",
      "Production of C: 0.01666666666665151\n",
      "---\n",
      "- Adjusting RHS to: 172.0\n",
      "* Production model solved with objective: 9800\n",
      "* Total benefit=9800\n",
      "Production of A: 100.0\n",
      "Production of B: 80.0\n",
      "Production of C: 53.33333333333334\n",
      "---\n",
      "- Adjusting RHS to: 172.01\n",
      "* Production model solved with objective: 9800.3\n",
      "* Total benefit=9800.3\n",
      "Production of A: 99.99000000000001\n",
      "Production of B: 80.0\n",
      "Production of C: 53.359999999999985\n",
      "---\n",
      "- Adjusting RHS to: 272.0\n",
      "* Production model solved with objective: 12800\n",
      "* Total benefit=12800\n",
      "Production of A: 0\n",
      "Production of B: 80.0\n",
      "Production of C: 320.0\n",
      "---\n",
      "- Adjusting RHS to: 272.01\n",
      "* Production model solved with objective: 12800\n",
      "* Total benefit=12800\n",
      "Production of A: 0\n",
      "Production of B: 80.0\n",
      "Production of C: 320.0\n",
      "---\n",
      "- Adjusting RHS to: 110\n",
      "* Production model solved with objective: 5700\n",
      "* Total benefit=5700\n",
      "Production of A: 50.0\n",
      "Production of B: 80.0\n",
      "Production of C: 0\n"
     ]
    }
   ],
   "source": [
    "# Usage of the iterate_over_rhs method, checking whether there exists demmin or not\n",
    "constraint_nameX = 'Disp_Equipo3'  # The name of the constraint to analyze\n",
    "product_name=\"B\"\n",
    "\n",
    "costo_op = CostoOportunidad(mdl, products, production_vars)\n",
    "current_rhs_value, rhs_values, dual_values = costo_op.iterate(constraint_nameX, product_name)"
   ]
  },
  {
   "cell_type": "code",
   "execution_count": null,
   "id": "55b40eb3",
   "metadata": {},
   "outputs": [
    {
     "name": "stdout",
     "output_type": "stream",
     "text": [
      "[debug] current_x_value: 110\n"
     ]
    },
    {
     "data": {
      "text/plain": [
       "<Figure size 640x480 with 1 Axes>"
      ]
     },
     "metadata": {},
     "output_type": "display_data"
    },
    {
     "data": {
      "text/plain": [
       "<Figure size 2000x1000 with 0 Axes>"
      ]
     },
     "metadata": {},
     "output_type": "display_data"
    }
   ],
   "source": [
    "costo_op.plot(constraint_nameX, product_name, \"[hs/mes]\", \"[$/un]\")"
   ]
  },
  {
   "cell_type": "markdown",
   "id": "430c9ef3",
   "metadata": {},
   "source": [
    "## Valor Marginal"
   ]
  },
  {
   "cell_type": "code",
   "execution_count": null,
   "id": "e60a2f85",
   "metadata": {},
   "outputs": [
    {
     "name": "stdout",
     "output_type": "stream",
     "text": [
      "[debug] (lower, upper): (104.0, 1e+20)\n",
      "---\n",
      "- Adjusting RHS to: 103.99\n",
      "* Production model solved with objective: 5699.6\n",
      "* Total benefit=5699.6\n",
      "Production of A: 49.97999999999999\n",
      "Production of B: 80.0\n",
      "Production of C: 0.020000000000010232\n",
      "---\n",
      "- Adjusting RHS to: 79.0\n",
      "* Production model solved with objective: 4700\n",
      "* Total benefit=4700\n",
      "Production of A: 0\n",
      "Production of B: 80.0\n",
      "Production of C: 50.0\n",
      "---\n",
      "- Adjusting RHS to: 78.99\n",
      "* Production model solved with objective: 4699\n",
      "* Total benefit=4699\n",
      "Production of A: 0\n",
      "Production of B: 80.0\n",
      "Production of C: 49.966666666666654\n",
      "---\n",
      "- Adjusting RHS to: 64.0\n",
      "* Production model solved with objective: 3200\n",
      "* Total benefit=3200\n",
      "Production of A: 0\n",
      "Production of B: 80.0\n",
      "Production of C: 0\n",
      "---\n",
      "- Adjusting RHS to: 63.99\n",
      "No solution found for RHS value: 63.99\n",
      "---\n",
      "- Adjusting RHS to: 160\n",
      "* Production model solved with objective: 5700\n",
      "* Total benefit=5700\n",
      "Production of A: 50.0\n",
      "Production of B: 80.0\n",
      "Production of C: 0\n"
     ]
    }
   ],
   "source": [
    "from plot_kind.vm_vs_disp import VM\n",
    "# Usage of the iterate_over_rhs method\n",
    "constraint_nameX = 'Disp_Equipo1'  # The name of the constraint X to analyze\n",
    "\n",
    "vm = VM(mdl, products, production_vars)\n",
    "current_rhs_value, rhs_values, dual_values = vm.iterate(constraint_nameX)"
   ]
  },
  {
   "cell_type": "code",
   "execution_count": null,
   "id": "a5e7b6c5",
   "metadata": {},
   "outputs": [
    {
     "name": "stdout",
     "output_type": "stream",
     "text": [
      "[debug] current_x_value: 160\n"
     ]
    },
    {
     "data": {
      "text/plain": [
       "<Figure size 640x480 with 1 Axes>"
      ]
     },
     "metadata": {},
     "output_type": "display_data"
    },
    {
     "data": {
      "text/plain": [
       "<Figure size 2000x1000 with 0 Axes>"
      ]
     },
     "metadata": {},
     "output_type": "display_data"
    }
   ],
   "source": [
    "# Graficamos\n",
    "vm.plot(constraint_nameX,\"[hs/mes]\", \"[$/un]\")"
   ]
  },
  {
   "cell_type": "markdown",
   "id": "64bd8f43",
   "metadata": {},
   "source": [
    "## Funcional"
   ]
  },
  {
   "cell_type": "code",
   "execution_count": null,
   "id": "cc63805d",
   "metadata": {},
   "outputs": [
    {
     "name": "stdout",
     "output_type": "stream",
     "text": [
      "---Initial lower bound: 80.0\n",
      "---\n",
      "- Adjusting RHS to: 80.0\n",
      "* Production model solved with objective: 3200\n",
      "* Total benefit=3200\n",
      "Production of A: 0\n",
      "Production of B: 80.0\n",
      "Production of C: 0\n",
      "---Initial upper bound: 140.0\n",
      "---\n",
      "- Adjusting RHS to: 140.0\n",
      "* Production model solved with objective: 8200\n",
      "* Total benefit=8200\n",
      "Production of A: 100.0\n",
      "Production of B: 80.0\n",
      "Production of C: 0\n",
      "---\n",
      "- Adjusting RHS to: 79.99\n",
      "No solution found for RHS value: 79.99\n",
      "---\n",
      "- Adjusting RHS to: 140.01\n",
      "* Production model solved with objective: 8200.5\n",
      "* Total benefit=8200.5\n",
      "Production of A: 100.0\n",
      "Production of B: 80.0\n",
      "Production of C: 0.01666666666665151\n",
      "---\n",
      "- Adjusting RHS to: 172.0\n",
      "* Production model solved with objective: 9800\n",
      "* Total benefit=9800\n",
      "Production of A: 100.0\n",
      "Production of B: 80.0\n",
      "Production of C: 53.33333333333334\n",
      "---\n",
      "- Adjusting RHS to: 172.01\n",
      "* Production model solved with objective: 9800.3\n",
      "* Total benefit=9800.3\n",
      "Production of A: 99.99000000000001\n",
      "Production of B: 80.0\n",
      "Production of C: 53.359999999999985\n",
      "---\n",
      "- Adjusting RHS to: 272.0\n",
      "* Production model solved with objective: 12800\n",
      "* Total benefit=12800\n",
      "Production of A: 0\n",
      "Production of B: 80.0\n",
      "Production of C: 320.0\n",
      "---\n",
      "- Adjusting RHS to: 272.01\n",
      "* Production model solved with objective: 12800\n",
      "* Total benefit=12800\n",
      "Production of A: 0\n",
      "Production of B: 80.0\n",
      "Production of C: 320.0\n",
      "---\n",
      "- Adjusting RHS to: 110\n",
      "* Production model solved with objective: 5700\n",
      "* Total benefit=5700\n",
      "Production of A: 50.0\n",
      "Production of B: 80.0\n",
      "Production of C: 0\n"
     ]
    }
   ],
   "source": [
    "from plot_kind.funcional_vs_disp import Funcional\n",
    "# Usage of the iterate_over_rhs method\n",
    "constraint_name = 'Disp_Equipo3'  # The name of the constraint to analyze\n",
    "funcional = Funcional(mdl, products, production_vars)\n",
    "real_rhs_value, rhs_values, objective_values = funcional.iterate(constraint_name)"
   ]
  },
  {
   "cell_type": "code",
   "execution_count": null,
   "id": "745581ea",
   "metadata": {},
   "outputs": [
    {
     "name": "stdout",
     "output_type": "stream",
     "text": [
      "[debug] pairs [(110, 5700.0), (80.0, 3200.0), (140.0, 8200.0), (172.0, 9800.0), (272.0, 12800.0)]\n",
      "[debug] pairs [(80.0, 3200.0), (110, 5700.0), (140.0, 8200.0), (172.0, 9800.0), (272.0, 12800.0)]\n",
      "[debug] new_rhs [80.0, 110, 140.0, 172.0, 272.0]\n",
      "[debug] new_dual [3200.0, 5700.0, 8200.0, 9800.0, 12800.0]\n",
      "[debug] current_x_value: 110\n"
     ]
    },
    {
     "data": {
      "text/plain": [
       "<Figure size 640x480 with 1 Axes>"
      ]
     },
     "metadata": {},
     "output_type": "display_data"
    },
    {
     "data": {
      "text/plain": [
       "<Figure size 2000x1000 with 0 Axes>"
      ]
     },
     "metadata": {},
     "output_type": "display_data"
    }
   ],
   "source": [
    "funcional.plot(constraint_name, \"[hs/mes]\", \"[$/mes]\")"
   ]
  },
  {
   "cell_type": "markdown",
   "id": "68a52f13",
   "metadata": {},
   "source": [
    "## Curva de oferta"
   ]
  },
  {
   "cell_type": "code",
   "execution_count": null,
   "id": "fc4ac4c0",
   "metadata": {},
   "outputs": [
    {
     "name": "stdout",
     "output_type": "stream",
     "text": [
      "[debug] (lower, upper): (-1e+20, 83.33333333333334)\n",
      "* Production model solved with objective: 9167.77\n",
      "* Total benefit=9167.77\n",
      "Production of A: 0\n",
      "Production of B: 110.0\n",
      "Production of C: 0\n",
      "* Production model solved with objective: 2500\n",
      "* Total benefit=2500\n",
      "Production of A: 50.0\n",
      "Production of B: 80.0\n",
      "Production of C: 0\n",
      "* Production model solved with objective: 5700\n",
      "* Total benefit=5700\n",
      "Production of A: 50.0\n",
      "Production of B: 80.0\n",
      "Production of C: 0\n"
     ]
    }
   ],
   "source": [
    "from plot_kind.curva_of_cant_vs_precio import CurvaDeOferta\n",
    "product_name = \"B\"\n",
    "curva_of = CurvaDeOferta(mdl, products, production_vars)\n",
    "current_price_value, prices, quantities = curva_of.iterate(product_name)"
   ]
  },
  {
   "cell_type": "code",
   "execution_count": null,
   "id": "737435fd",
   "metadata": {},
   "outputs": [
    {
     "name": "stdout",
     "output_type": "stream",
     "text": [
      "[debug] current_x_value: 40\n"
     ]
    },
    {
     "data": {
      "text/plain": [
       "<Figure size 640x480 with 1 Axes>"
      ]
     },
     "metadata": {},
     "output_type": "display_data"
    },
    {
     "data": {
      "text/plain": [
       "<Figure size 2000x1000 with 0 Axes>"
      ]
     },
     "metadata": {},
     "output_type": "display_data"
    }
   ],
   "source": [
    "curva_of.plot(product_name, \"[$/u]\", \"[u/mes]\")"
   ]
  }
 ],
 "metadata": {
  "language_info": {
   "name": "python",
   "pygments_lexer": "ipython3"
  }
 },
 "nbformat": 4,
 "nbformat_minor": 5
}
