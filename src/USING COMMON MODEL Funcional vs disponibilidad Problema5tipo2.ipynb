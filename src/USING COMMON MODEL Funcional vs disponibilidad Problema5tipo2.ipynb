{
 "cells": [
  {
   "cell_type": "code",
   "execution_count": null,
   "id": "5f64678b",
   "metadata": {},
   "outputs": [
    {
     "name": "stdout",
     "output_type": "stream",
     "text": [
      "Model: guia5problematipo2\n",
      " - number of variables: 3\n",
      "   - binary=0, integer=0, continuous=3\n",
      " - number of constraints: 9\n",
      "   - linear=9\n",
      " - parameters: defaults\n",
      " - objective: none\n",
      " - problem type is: LP\n",
      "* Production model solved with objective: 12800\n",
      "* Total benefit=12800\n",
      "Production of A: 0\n",
      "Production of B: 80.0\n",
      "Production of C: 320.0\n"
     ]
    }
   ],
   "source": [
    "# Cargar los datos y obtener el modelo\n",
    "from common import *\n",
    "del iterate_over_rhs, perform_sensitivity_analysis # Aux temp\n",
    "mdl, produccion_vars, products = create_model()\n",
    "solve_model(mdl, produccion_vars, products)"
   ]
  },
  {
   "cell_type": "code",
   "execution_count": null,
   "id": "bd23f3bd",
   "metadata": {},
   "outputs": [],
   "source": [
    "#***Added by JL - 2024 Mar 03th - Checking sensitivity analysis *****')\n",
    "\n",
    "# Initialize lists to store the results\n",
    "rhs_values = []\n",
    "objective_values = []\n",
    "\n",
    "#real_rhs_value = 0\n",
    "\n",
    "m = 0.01\n"
   ]
  },
  {
   "cell_type": "code",
   "execution_count": null,
   "id": "574376be",
   "metadata": {},
   "outputs": [],
   "source": [
    "# Report values for the chart\n",
    "### Aux: misma función que VM (cambian las listas nomás)\n",
    "\n",
    "def report(rhs_value, obj):\n",
    "    rhs_values.append(rhs_value)\n",
    "    objective_values.append(obj)\n",
    "    "
   ]
  },
  {
   "cell_type": "code",
   "execution_count": null,
   "id": "c492f821",
   "metadata": {},
   "outputs": [],
   "source": [
    "### ANTERIOR!!!\n",
    "# # Perform sensitivity analysis of the RHS\n",
    "# ### Aux: VM, Funcional, costo op\n",
    "# aux: esta es la versión anterior, pero usa esto xq la iterate no es la refactorizada.\n",
    "def perform_sensitivity_analysis(mdl):\n",
    "    lp = LinearRelaxer.make_relaxed_model(mdl)\n",
    "    lp.solve()\n",
    "    cpx = lp.get_engine().get_cplex()\n",
    "\n",
    "    return cpx.solution.sensitivity.rhs()"
   ]
  },
  {
   "cell_type": "code",
   "execution_count": null,
   "id": "12bef3fd",
   "metadata": {},
   "outputs": [],
   "source": [
    "# Iterate over RHS (from 0 to infinity) starting from current RHS value\n",
    "\n",
    "def iterate_over_rhs(constraint_name):\n",
    "    c = mdl.get_constraint_by_name(constraint_name)\n",
    "    if c is None:\n",
    "        print(\"Constraint with name '{0}' not found.\".format(constraint_name))\n",
    "        return\n",
    "        \n",
    "    # Perform initial sensitivity analysis to get the starting lower and upper bounds\n",
    "    initial_sensitivity = perform_sensitivity_analysis(mdl)\n",
    "    \n",
    "    # Find the sensitivity range for the specified constraint\n",
    "    for c_sens, (lower, upper) in zip(mdl.iter_constraints(), initial_sensitivity):\n",
    "        if c_sens.name == constraint_name:\n",
    "            \n",
    "            # Report the real RHS value for the chart\n",
    "            real_rhs_value = c_sens.rhs.constant\n",
    "            report(real_rhs_value, mdl.objective_value)\n",
    "        \n",
    "            # *********Store and report the initial lower and upper bounds for the chart*********\n",
    "            print(\"---Initial lower bound: {0}\".format(lower))\n",
    "            rhs = lower\n",
    "            solution = solve(c, rhs, mdl, products, produccion_vars)\n",
    "            if solution is not None:\n",
    "                report(rhs, mdl.objective_value)\n",
    "\n",
    "            print(\"---Initial upper bound: {0}\".format(upper))\n",
    "            rhs = upper\n",
    "            solution = solve(c, rhs, mdl, products, produccion_vars)\n",
    "            if solution is not None and rhs < mdl.infinity:\n",
    "                report(rhs, mdl.objective_value)\n",
    "            # ********* End of lower and upper bounds *********\n",
    "            \n",
    "            \n",
    "            #Decrease rhs starting from lower bound - m\n",
    "            rhs = lower - m\n",
    "            while True:\n",
    "                if rhs < 0:\n",
    "                    break ## Stop if the rhs is lower than 0                \n",
    "                \n",
    "                solution = solve(c, rhs, mdl, products, produccion_vars)#+m) # aux: no son escalones, un \"m\" afecta al Z # TEMP # Da Timeout\n",
    "                                        # claro, siempre obtengo el mismo rango xq me quedé en el inicial si\n",
    "                                        # le vuevo a sumar el m que le resté, #ja.\n",
    "                if solution is None:\n",
    "                    break  # Stop if the model is infeasible\n",
    "                \n",
    "                #report(c_sens.rhs.constant+m, mdl.objective_value) ### AUX PROBANDO\n",
    "                # Perform sensitivity analysis to get the new lower bound\n",
    "                new_sensitivity = perform_sensitivity_analysis(mdl)                \n",
    "                for c_new_sens, (new_lower, _) in zip(mdl.iter_constraints(), new_sensitivity):\n",
    "                    if c_new_sens.name == constraint_name: \n",
    "                        rhs = new_lower\n",
    "                        if rhs < 0:\n",
    "                            break ## Stop if the rhs is lower than 0                \n",
    "                            \n",
    "                        solution = solve(c, rhs, mdl, products, produccion_vars)\n",
    "                        if solution is None:\n",
    "                            break  # Stop if the model is infeasible\n",
    "                        report(c_new_sens.rhs.constant, mdl.objective_value)\n",
    "                        \n",
    "                        rhs = new_lower - m\n",
    "\n",
    "                        break\n",
    "\n",
    "\n",
    "            # Increase rhs starting from upper bound + m\n",
    "            rhs = upper + m\n",
    "            \n",
    "            while True:\n",
    "                if rhs >= mdl.infinity:\n",
    "                    break ## Stop if the rhs reaches or exceeds infinity\n",
    "\n",
    "                solution = solve(c, rhs, mdl, products, produccion_vars)#-m) # aux: no son escalones, un \"m\" afecta al Z # TEMP\n",
    "                if solution is None:\n",
    "                    break  # Stop if the model is infeasible\n",
    "\n",
    "                #report(c_sens.rhs.constant-m, mdl.objective_value) ### AUX PROBANDO\n",
    "                # Perform sensitivity analysis to get the new upper bound\n",
    "                new_sensitivity = perform_sensitivity_analysis(mdl)\n",
    "                for c_new_sens, (_, new_upper) in zip(mdl.iter_constraints(), new_sensitivity):\n",
    "                    if c_new_sens.name == constraint_name:                        \n",
    "                        rhs = new_upper\n",
    "                        if rhs >= mdl.infinity:\n",
    "                            break ## Stop if the rhs reaches or exceeds infinity\n",
    "\n",
    "                        solution = solve(c, rhs, mdl, products, produccion_vars)\n",
    "                        if solution is None:\n",
    "                            break  # Stop if the model is infeasible\n",
    "                        report(c_new_sens.rhs.constant, mdl.objective_value)\n",
    "                        \n",
    "                        rhs = new_upper + m\n",
    "\n",
    "                        break\n",
    "    return real_rhs_value"
   ]
  },
  {
   "cell_type": "code",
   "execution_count": null,
   "id": "6bab410a",
   "metadata": {},
   "outputs": [
    {
     "name": "stdout",
     "output_type": "stream",
     "text": [
      "---Initial lower bound: 272.0\n",
      "---\n",
      "- Adjusting RHS to: 272.0\n",
      "* Production model solved with objective: 12800\n",
      "* Total benefit=12800\n",
      "Production of A: 0\n",
      "Production of B: 80.0\n",
      "Production of C: 320.0\n",
      "---Initial upper bound: 1e+20\n",
      "---\n",
      "- Adjusting RHS to: 1e+20\n",
      "* Production model solved with objective: 12800\n",
      "* Total benefit=12800\n",
      "Production of A: 0\n",
      "Production of B: 80.0\n",
      "Production of C: 320.0\n",
      "---\n",
      "- Adjusting RHS to: 271.99\n",
      "* Production model solved with objective: 12799.7\n",
      "* Total benefit=12799.7\n",
      "Production of A: 0.010000000000005116\n",
      "Production of B: 80.0\n",
      "Production of C: 319.97333333333336\n",
      "---\n",
      "- Adjusting RHS to: 172.0\n",
      "* Production model solved with objective: 9800\n",
      "* Total benefit=9800\n",
      "Production of A: 100.0\n",
      "Production of B: 80.0\n",
      "Production of C: 53.33333333333333\n",
      "---\n",
      "- Adjusting RHS to: 171.99\n",
      "* Production model solved with objective: 9799.5\n",
      "* Total benefit=9799.5\n",
      "Production of A: 100.0\n",
      "Production of B: 80.0\n",
      "Production of C: 53.31666666666669\n",
      "---\n",
      "- Adjusting RHS to: 140.0\n",
      "* Production model solved with objective: 8200\n",
      "* Total benefit=8200\n",
      "Production of A: 100.0\n",
      "Production of B: 80.0\n",
      "Production of C: 0\n",
      "---\n",
      "- Adjusting RHS to: 139.99\n",
      "* Production model solved with objective: 8199.17\n",
      "* Total benefit=8199.17\n",
      "Production of A: 99.98333333333335\n",
      "Production of B: 80.0\n",
      "Production of C: 0\n",
      "---\n",
      "- Adjusting RHS to: 80.0\n",
      "* Production model solved with objective: 3200\n",
      "* Total benefit=3200\n",
      "Production of A: 0\n",
      "Production of B: 80.0\n",
      "Production of C: 0\n",
      "---\n",
      "- Adjusting RHS to: 79.99\n",
      "No solution found for RHS value: 79.99\n"
     ]
    }
   ],
   "source": [
    "# Usage of the iterate_over_rhs method\n",
    "constraint_name = 'Disp_Equipo3'  # The name of the constraint to analyze\n",
    "real_rhs_value = iterate_over_rhs(constraint_name)"
   ]
  },
  {
   "cell_type": "code",
   "execution_count": null,
   "id": "c3ab5165",
   "metadata": {},
   "outputs": [
    {
     "name": "stdout",
     "output_type": "stream",
     "text": [
      "pairs [(300, 12800.0), (272.0, 12800.0), (172.0, 9800.0), (140.0, 8200.0), (80.0, 3200.0)]\n",
      "pairs [(80.0, 3200.0), (140.0, 8200.0), (172.0, 9800.0), (272.0, 12800.0), (300, 12800.0)]\n",
      "new_rhs [80.0, 140.0, 172.0, 272.0, 300]\n",
      "new_dual [3200.0, 8200.0, 9800.0, 12800.0, 12800.0]\n"
     ]
    }
   ],
   "source": [
    "### Mejora1\n",
    "# Armo pares y los ordeno según 'x'\n",
    "pairs = []\n",
    "for i in range(len(rhs_values)):\n",
    "    pairs.append((rhs_values[i], objective_values[i]))\n",
    "\n",
    "print(\"pairs\", pairs)\n",
    "\n",
    "#pairs.sort()\n",
    "# Ordeno ascendentemente por la primera componente y Asc por la segunda si hay empates\n",
    "pairs.sort(key=lambda x: (x[0], x[1]))\n",
    "\n",
    "print(\"pairs\", pairs)\n",
    "\n",
    "# Los vuelvo a separar en listas, para no cambiar la función plot\n",
    "new_rhs, new_obj = [], []\n",
    "for elem in pairs:\n",
    "    new_rhs.append(elem[0])\n",
    "    new_obj.append(elem[1])\n",
    "print(\"new_rhs\", new_rhs)\n",
    "print(\"new_dual\", new_obj)"
   ]
  },
  {
   "cell_type": "code",
   "execution_count": null,
   "id": "02ad1636",
   "metadata": {},
   "outputs": [
    {
     "name": "stdout",
     "output_type": "stream",
     "text": [
      "[300, 272.0, 172.0, 140.0, 80.0]\n",
      "[12800.0, 12800.0, 9800.0, 8200.0, 3200.0]\n"
     ]
    }
   ],
   "source": [
    "### AUX\n",
    "print(rhs_values)\n",
    "print(objective_values)"
   ]
  },
  {
   "cell_type": "code",
   "execution_count": null,
   "id": "351c6869",
   "metadata": {},
   "outputs": [],
   "source": [
    "\n",
    "def get_text_for_plot(xunit, yunit):   \n",
    "    xlabel='{0}\\n{1}'.format(constraint_name, xunit)\n",
    "    ylabel='Funcional\\n{}'.format(yunit)\n",
    "    title='Funcional vs. {}'.format(constraint_name)\n",
    "\n",
    "    return {\"xlabel\": xlabel, \"ylabel\": ylabel, \"title\": title}\n"
   ]
  },
  {
   "cell_type": "code",
   "execution_count": null,
   "id": "55b40eb3",
   "metadata": {},
   "outputs": [
    {
     "name": "stdout",
     "output_type": "stream",
     "text": [
      "[debug] current_x_value: 300\n"
     ]
    },
    {
     "data": {
      "image/png": "[encoded data removed]",
      "text/plain": [
       "<Figure size 640x480 with 1 Axes>"
      ]
     },
     "metadata": {},
     "output_type": "display_data"
    },
    {
     "data": {
      "text/plain": [
       "<Figure size 2000x1000 with 0 Axes>"
      ]
     },
     "metadata": {},
     "output_type": "display_data"
    }
   ],
   "source": [
    "# Graficamos\n",
    "plot_text = get_text_for_plot(\"[hs/mes]\", \"[$/mes]\")\n",
    "plot(new_rhs, new_obj, real_rhs_value, plot_text, False)"
   ]
  }
 ],
 "metadata": {
  "language_info": {
   "name": "python",
   "pygments_lexer": "ipython3"
  }
 },
 "nbformat": 4,
 "nbformat_minor": 5
}
