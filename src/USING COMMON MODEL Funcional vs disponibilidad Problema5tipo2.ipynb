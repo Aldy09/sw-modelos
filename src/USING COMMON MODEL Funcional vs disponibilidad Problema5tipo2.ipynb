{
 "cells": [
  {
   "cell_type": "code",
   "execution_count": null,
   "id": "5f64678b",
   "metadata": {},
   "outputs": [
    {
     "name": "stdout",
     "output_type": "stream",
     "text": [
      "Model: guia5problematipo2\n",
      " - number of variables: 3\n",
      "   - binary=0, integer=0, continuous=3\n",
      " - number of constraints: 9\n",
      "   - linear=9\n",
      " - parameters: defaults\n",
      " - objective: none\n",
      " - problem type is: LP\n",
      "* Production model solved with objective: 5700\n",
      "* Total benefit=5700\n",
      "Production of A: 50.0\n",
      "Production of B: 80.0\n",
      "Production of C: 0\n"
     ]
    }
   ],
   "source": [
    "# Cargar los datos y obtener el modelo\n",
    "from data import create_data_dict\n",
    "from common import create_model, solve_model\n",
    "from plot_kind.funcional_vs_disp import Funcional\n",
    "\n",
    "data = create_data_dict()\n",
    "mdl, production_vars, products = create_model(data)\n",
    "solve_model(mdl, production_vars, products)"
   ]
  },
  {
   "cell_type": "code",
   "execution_count": null,
   "id": "6bab410a",
   "metadata": {},
   "outputs": [
    {
     "name": "stdout",
     "output_type": "stream",
     "text": [
      "---Initial lower bound: 80.0\n",
      "---\n",
      "- Adjusting RHS to: 80.0\n",
      "* Production model solved with objective: 3200\n",
      "* Total benefit=3200\n",
      "Production of A: 0\n",
      "Production of B: 80.0\n",
      "Production of C: 0\n",
      "---Initial upper bound: 140.0\n",
      "---\n",
      "- Adjusting RHS to: 140.0\n",
      "* Production model solved with objective: 8200\n",
      "* Total benefit=8200\n",
      "Production of A: 100.0\n",
      "Production of B: 80.0\n",
      "Production of C: 0\n",
      "---\n",
      "- Adjusting RHS to: 79.99\n",
      "No solution found for RHS value: 79.99\n",
      "---\n",
      "- Adjusting RHS to: 140.01\n",
      "* Production model solved with objective: 8200.5\n",
      "* Total benefit=8200.5\n",
      "Production of A: 100.0\n",
      "Production of B: 80.0\n",
      "Production of C: 0.01666666666665151\n",
      "---\n",
      "- Adjusting RHS to: 172.0\n",
      "* Production model solved with objective: 9800\n",
      "* Total benefit=9800\n",
      "Production of A: 100.0\n",
      "Production of B: 80.0\n",
      "Production of C: 53.33333333333334\n",
      "---\n",
      "- Adjusting RHS to: 172.01\n",
      "* Production model solved with objective: 9800.3\n",
      "* Total benefit=9800.3\n",
      "Production of A: 99.99000000000001\n",
      "Production of B: 80.0\n",
      "Production of C: 53.359999999999985\n",
      "---\n",
      "- Adjusting RHS to: 272.0\n",
      "* Production model solved with objective: 12800\n",
      "* Total benefit=12800\n",
      "Production of A: 0\n",
      "Production of B: 80.0\n",
      "Production of C: 320.0\n",
      "---\n",
      "- Adjusting RHS to: 272.01\n",
      "* Production model solved with objective: 12800\n",
      "* Total benefit=12800\n",
      "Production of A: 0\n",
      "Production of B: 80.0\n",
      "Production of C: 320.0\n"
     ]
    }
   ],
   "source": [
    "# Usage of the iterate_over_rhs method\n",
    "constraint_name = 'Disp_Equipo3'  # The name of the constraint to analyze\n",
    "funcional = Funcional(mdl, products, production_vars)\n",
    "real_rhs_value, rhs_values, objective_values = funcional.iterate(constraint_name)"
   ]
  },
  {
   "cell_type": "code",
   "execution_count": null,
   "id": "c3ab5165",
   "metadata": {},
   "outputs": [
    {
     "name": "stdout",
     "output_type": "stream",
     "text": [
      "[debug] pairs [(110, 5700.0), (80.0, 3200.0), (140.0, 8200.0), (172.0, 9800.0), (272.0, 12800.0)]\n",
      "[debug] pairs [(80.0, 3200.0), (110, 5700.0), (140.0, 8200.0), (172.0, 9800.0), (272.0, 12800.0)]\n",
      "[debug] new_rhs [80.0, 110, 140.0, 172.0, 272.0]\n",
      "[debug] new_dual [3200.0, 5700.0, 8200.0, 9800.0, 12800.0]\n",
      "[debug] current_x_value: 110\n"
     ]
    },
    {
     "data": {
      "text/plain": [
       "<Figure size 640x480 with 1 Axes>"
      ]
     },
     "metadata": {},
     "output_type": "display_data"
    },
    {
     "data": {
      "text/plain": [
       "<Figure size 2000x1000 with 0 Axes>"
      ]
     },
     "metadata": {},
     "output_type": "display_data"
    }
   ],
   "source": [
    "funcional.plot(constraint_name, \"[hs/mes]\", \"[$/mes]\")"
   ]
  }
 ],
 "metadata": {
  "language_info": {
   "name": "python",
   "pygments_lexer": "ipython3"
  }
 },
 "nbformat": 4,
 "nbformat_minor": 5
}
