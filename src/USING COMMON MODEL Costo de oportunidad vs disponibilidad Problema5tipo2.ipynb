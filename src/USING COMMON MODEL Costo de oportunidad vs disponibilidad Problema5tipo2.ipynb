{
 "cells": [
  {
   "cell_type": "code",
   "execution_count": null,
   "id": "5f64678b",
   "metadata": {},
   "outputs": [
    {
     "name": "stdout",
     "output_type": "stream",
     "text": [
      "Model: guia5problematipo2\n",
      " - number of variables: 3\n",
      "   - binary=0, integer=0, continuous=3\n",
      " - number of constraints: 9\n",
      "   - linear=9\n",
      " - parameters: defaults\n",
      " - objective: none\n",
      " - problem type is: LP\n",
      "* Production model solved with objective: 5700\n",
      "* Total benefit=5700\n",
      "Production of A: 50.0\n",
      "Production of B: 80.0\n",
      "Production of C: 0\n"
     ]
    }
   ],
   "source": [
    "# Execute the common model notebook\n",
    "%run common_model.ipynb\n",
    "\n",
    "# Create the model with constraints and objective\n",
    "mdl, produccion_vars, products = create_model()\n",
    "\n",
    "# Solve the model\n",
    "solve_model(mdl)\n"
   ]
  },
  {
   "cell_type": "code",
   "execution_count": null,
   "id": "bd23f3bd",
   "metadata": {},
   "outputs": [],
   "source": [
    "#***Added by JL - 2024 Mar 03th - Checking sensitivity analysis *****')\n",
    "\n",
    "# Initialize lists to store the results\n",
    "rhs_values = []\n",
    "dual_values = []\n",
    "\n",
    "real_rhs_value = 0\n",
    "\n",
    "m = 0.01\n"
   ]
  },
  {
   "cell_type": "code",
   "execution_count": null,
   "id": "db0bd057",
   "metadata": {},
   "outputs": [],
   "source": [
    "# Perform sensitivity analysis of the RHS ### Aux: misma función que VM\n",
    "\n",
    "def perform_sensitivity_analysis():\n",
    "    lp = LinearRelaxer.make_relaxed_model(mdl)\n",
    "    lp.solve()\n",
    "    cpx = lp.get_engine().get_cplex()\n",
    "\n",
    "    return cpx.solution.sensitivity.rhs()\n"
   ]
  },
  {
   "cell_type": "code",
   "execution_count": null,
   "id": "93f827f2",
   "metadata": {},
   "outputs": [],
   "source": [
    "# Adjust RHS and solve ### Aux: misma función que VM\n",
    "\n",
    "def solve(c, rhs_value):\n",
    "    print(\"---\")\n",
    "    print(\"- Adjusting RHS to: {0}\".format(rhs_value))\n",
    "    c.rhs = rhs_value\n",
    "    solution = mdl.solve()\n",
    "    \n",
    "    if solution is not None:       \n",
    "        print(\"* Production model solved with objective: {:g}\".format(solution.objective_value))\n",
    "        print(\"* Total benefit=%g\" % solution.objective_value)\n",
    "        for p in products:\n",
    "            print(\"Production of {product}: {prod_var}\".format(product=p[0], prod_var=produccion_vars[p].solution_value))\n",
    "        return solution\n",
    "    else:\n",
    "        print(\"No solution found for RHS value: {0}\".format(rhs_value))\n",
    "        return None  # Return None to indicate that the model is infeasible at this point\n",
    "    "
   ]
  },
  {
   "cell_type": "code",
   "execution_count": null,
   "id": "574376be",
   "metadata": {},
   "outputs": [],
   "source": [
    "# Report values for the chart\n",
    "\n",
    "def report(rhs_value, aux):\n",
    "    rhs_values.append(rhs_value)\n",
    "    #dual_values.append(-1 * aux.dual_value) #Diferencia con grafico funcional vs disp\n",
    "    # no existe dual_values.append(aux.reduced_cost) #Diferencia con grafico funcional vs disp\n",
    "    ### dual_values.append(aux.dual_value) #Diferencia con grafico funcional vs disp\n",
    "    #print(\"[DEBUG]: report rhs: {}, aux.d: {}\".format(rhs_value, aux.dual_value))\n",
    "    #auxxx, tenemos: produccion_vars = mdl.continuous_var_dict(products, name='produccion')\n",
    "    #produccion_vars[\"A\"]\n",
    "    dual_values.append(-1 * aux.reduced_cost) ## aux, para A y C reduced_cost; para B dual_value"
   ]
  },
  {
   "cell_type": "code",
   "execution_count": null,
   "id": "3f80bddc",
   "metadata": {},
   "outputs": [
    {
     "data": {
      "text/plain": [
       "{('A', 50, 100, 0): docplex.mp.Var(type=C,name='produccion_A_50_100_0'),\n",
       " ('B', 40, 120, 80): docplex.mp.Var(type=C,name='produccion_B_40_120_80'),\n",
       " ('C',\n",
       "  30,\n",
       "  999999999999999,\n",
       "  0): docplex.mp.Var(type=C,name='produccion_C_30_999999999999999_0')}"
      ]
     },
     "execution_count": 6,
     "metadata": {},
     "output_type": "execute_result"
    }
   ],
   "source": [
    "produccion_vars"
   ]
  },
  {
   "cell_type": "code",
   "execution_count": null,
   "id": "d8557bf6",
   "metadata": {},
   "outputs": [
    {
     "name": "stdout",
     "output_type": "stream",
     "text": [
      "[docplex.mp.Var(type=C,name='produccion_A_50_100_0'), docplex.mp.Var(type=C,name='produccion_B_40_120_80'), docplex.mp.Var(type=C,name='produccion_C_30_999999999999999_0')]\n",
      "--------------------------\n",
      "-20.000000000000007\n",
      "Me guardo la variable:\n"
     ]
    },
    {
     "data": {
      "text/plain": [
       "-20.000000000000007"
      ]
     },
     "execution_count": 7,
     "metadata": {},
     "output_type": "execute_result"
    }
   ],
   "source": [
    "### AUX, PROBANDO\n",
    "\n",
    "#produccion_vars['produccion_A_50_100_0']\n",
    "#produccion_vars.values['produccion_A_50_100_0']\n",
    "#list(produccion_vars.values)\n",
    "print(list(produccion_vars.values()))\n",
    "print(\"--------------------------\")\n",
    "list(produccion_vars.values())[0].reduced_cost\n",
    "print(list(produccion_vars.values())[2].reduced_cost)\n",
    "print(\"Me guardo la variable:\")\n",
    "hola123=list(produccion_vars.values())[2]\n",
    "hola123.reduced_cost"
   ]
  },
  {
   "cell_type": "code",
   "execution_count": null,
   "id": "e670ab02",
   "metadata": {},
   "outputs": [],
   "source": []
  },
  {
   "cell_type": "code",
   "execution_count": null,
   "id": "5d44cd8e",
   "metadata": {},
   "outputs": [],
   "source": [
    "### Aux: misma función que VM, cambia solo parámetros actuales\n",
    "### aux: pEro, esta función no es monótona: no me sirve la forma actual de ordenar, requiere algo más\n",
    "\n",
    "def iterate_over_rhs(constraint_name, min_demand_B_constraint):\n",
    "    c = mdl.get_constraint_by_name(constraint_name)\n",
    "    if c is None:\n",
    "        print(\"Constraint with name '{0}' not found.\".format(constraint_name))\n",
    "        return    \n",
    "            \n",
    "    # Perform initial sensitivity analysis to get the starting lower and upper bounds\n",
    "    initial_sensitivity = perform_sensitivity_analysis()\n",
    "    \n",
    "    # Find the sensitivity range for the specified constraint\n",
    "    for c_sens, (lower, upper) in zip(mdl.iter_constraints(), initial_sensitivity):\n",
    "        if c_sens.name == constraint_name:\n",
    "            \n",
    "            # Report the real RHS value for the chart\n",
    "            global real_rhs_value #use the global keyword to declare that you want the function to update the global variable\n",
    "            real_rhs_value = c_sens.rhs.constant\n",
    "            report(real_rhs_value, min_demand_B_constraint)\n",
    "        \n",
    "            # *********Store and report the initial lower and upper bounds for the chart*********\n",
    "            print(\"---Initial lower bound: {0}\".format(lower))\n",
    "            rhs = lower\n",
    "            solution = solve(c, rhs)\n",
    "            if solution is not None:                \n",
    "                report(rhs, min_demand_B_constraint)\n",
    "\n",
    "            print(\"---Initial upper bound: {0}\".format(upper))\n",
    "            rhs = upper\n",
    "            solution = solve(c, rhs)\n",
    "            if solution is not None:\n",
    "                report(rhs, min_demand_B_constraint)\n",
    "            # ********* End of lower and upper bounds *********\n",
    "            \n",
    "            \n",
    "            #Decrease rhs starting from lower bound - m\n",
    "            rhs = lower - m\n",
    "            while True:\n",
    "                if rhs < 0:\n",
    "                    break ## Stop if the rhs is lower than 0                \n",
    "            \n",
    "                solution = solve(c, rhs)                \n",
    "                if solution is None:\n",
    "                    break  # Stop if the model is infeasible\n",
    "                else:\n",
    "                    report(rhs, min_demand_B_constraint) #Diferencia con grafico funcional vs disp\n",
    "                    \n",
    "                # Perform sensitivity analysis to get the new lower bound\n",
    "                new_sensitivity = perform_sensitivity_analysis()                \n",
    "                for c_new_sens, (new_lower, _) in zip(mdl.iter_constraints(), new_sensitivity):\n",
    "                    if c_new_sens.name == constraint_name: \n",
    "                        rhs = new_lower\n",
    "                        if rhs < 0:\n",
    "                            break ## Stop if the rhs is lower than 0                \n",
    "                            \n",
    "                        solution = solve(c, rhs)\n",
    "                        if solution is None:\n",
    "                            break  # Stop if the model is infeasible\n",
    "                        report(c_new_sens.rhs.constant, min_demand_B_constraint)\n",
    "                        \n",
    "                        rhs = new_lower - m\n",
    "\n",
    "                        break\n",
    "\n",
    "\n",
    "            # Increase rhs starting from upper bound + m\n",
    "            rhs = upper + m\n",
    "            \n",
    "            while True:\n",
    "                if rhs >= mdl.infinity:\n",
    "                    break ## Stop if the rhs reaches or exceeds infinity\n",
    "\n",
    "                solution = solve(c, rhs)\n",
    "                if solution is None:\n",
    "                    break  # Stop if the model is infeasible\n",
    "                else:\n",
    "                    report(rhs, min_demand_B_constraint) #Diferencia con grafico funcional vs disp\n",
    "\n",
    "                # Perform sensitivity analysis to get the new upper bound\n",
    "                new_sensitivity = perform_sensitivity_analysis()\n",
    "                for c_new_sens, (_, new_upper) in zip(mdl.iter_constraints(), new_sensitivity):\n",
    "                    if c_new_sens.name == constraint_name:                        \n",
    "                        rhs = new_upper\n",
    "                        if rhs >= mdl.infinity:\n",
    "                            break ## Stop if the rhs reaches or exceeds infinity\n",
    "\n",
    "                        solution = solve(c, rhs)\n",
    "                        if solution is None:\n",
    "                            break  # Stop if the model is infeasible\n",
    "                        report(c_new_sens.rhs.constant, min_demand_B_constraint)\n",
    "                        \n",
    "                        rhs = new_upper + m\n",
    "\n",
    "                        break"
   ]
  },
  {
   "cell_type": "code",
   "execution_count": null,
   "id": "6bab410a",
   "metadata": {},
   "outputs": [
    {
     "name": "stdout",
     "output_type": "stream",
     "text": [
      "---Initial lower bound: 80.0\n",
      "---\n",
      "- Adjusting RHS to: 80.0\n",
      "* Production model solved with objective: 3200\n",
      "* Total benefit=3200\n",
      "Production of A: 0\n",
      "Production of B: 80.0\n",
      "Production of C: 0\n",
      "---Initial upper bound: 140.0\n",
      "---\n",
      "- Adjusting RHS to: 140.0\n",
      "* Production model solved with objective: 8200\n",
      "* Total benefit=8200\n",
      "Production of A: 100.0\n",
      "Production of B: 80.0\n",
      "Production of C: 0\n",
      "---\n",
      "- Adjusting RHS to: 79.99\n",
      "No solution found for RHS value: 79.99\n",
      "---\n",
      "- Adjusting RHS to: 140.01\n",
      "* Production model solved with objective: 8200.5\n",
      "* Total benefit=8200.5\n",
      "Production of A: 100.0\n",
      "Production of B: 80.0\n",
      "Production of C: 0.01666666666665151\n",
      "---\n",
      "- Adjusting RHS to: 172.0\n",
      "* Production model solved with objective: 9800\n",
      "* Total benefit=9800\n",
      "Production of A: 100.0\n",
      "Production of B: 80.0\n",
      "Production of C: 53.33333333333334\n",
      "---\n",
      "- Adjusting RHS to: 172.01\n",
      "* Production model solved with objective: 9800.3\n",
      "* Total benefit=9800.3\n",
      "Production of A: 99.99000000000001\n",
      "Production of B: 80.0\n",
      "Production of C: 53.359999999999985\n",
      "---\n",
      "- Adjusting RHS to: 272.0\n",
      "* Production model solved with objective: 12800\n",
      "* Total benefit=12800\n",
      "Production of A: 0\n",
      "Production of B: 80.0\n",
      "Production of C: 320.0\n",
      "---\n",
      "- Adjusting RHS to: 272.01\n",
      "* Production model solved with objective: 12800\n",
      "* Total benefit=12800\n",
      "Production of A: 0\n",
      "Production of B: 80.0\n",
      "Production of C: 320.0\n"
     ]
    }
   ],
   "source": [
    "# Usage of the iterate_over_rhs method\n",
    "constraint_name = 'Disp_Equipo3'  # The name of the constraint to analyze\n",
    "# Aux: si el producto (ej \"B\", aunque no lo mencionamos hasta ahora) tiene demanda mínima entonces:\n",
    "#min_demand_B_constraint = mdl.get_constraint_by_name('DemandMin_B')\n",
    "#iterate_over_rhs(constraint_name, min_demand_B_constraint)\n",
    "# aux: else\n",
    "min_demand_B_constraint=list(produccion_vars.values())[0] ## \"A\"\n",
    "#min_demand_B_constraint=list(produccion_vars.values())[2] ## \"C\"\n",
    "iterate_over_rhs(constraint_name, min_demand_B_constraint)\n",
    "\n",
    "### AUX TEMP, SOLO PARA EL PLOT, PRE REFACTOR\n",
    "product_name=min_demand_B_constraint\n",
    "prod_y=min_demand_B_constraint"
   ]
  },
  {
   "cell_type": "code",
   "execution_count": null,
   "id": "5fb8215a",
   "metadata": {},
   "outputs": [],
   "source": [
    "### Aux: plot generalizable\n",
    "\n",
    "# Plot the chart: objective vs. rhs value\n",
    "\n",
    "import matplotlib.pyplot as plt\n",
    "import matplotlib\n",
    "\n",
    "# Optional: xunit: unit to plot for x-axis\n",
    "# Optional: yunit: unit to plot for y-axis\n",
    "def plot(xunit, yunit):   \n",
    "    \n",
    "    # Set default font size for all text elements\n",
    "    matplotlib.rcParams.update({'font.size': 18})\n",
    "    \n",
    "    # Dibujar líneas horizontales entre los puntos\n",
    "    for i in range(len(rhs_values) - 1):\n",
    "        plt.hlines(dual_values[i], rhs_values[i], rhs_values[i + 1], linewidth=6, color='C0')\n",
    "        \n",
    "    # Dibujar un vector con origen en el último punto y dirección hacia el infinito horizontalmente\n",
    "    plt.annotate('', xy=(plt.xlim()[1], dual_values[-1]), xytext=(rhs_values[-1], dual_values[-1]),\n",
    "             arrowprops=dict(arrowstyle=\"->\", lw=2, color='C0'))\n",
    "\n",
    "    #Print current real value\n",
    "    plt.axvline(x=real_rhs_value, color='g', linestyle='--', label='Valor actual')\n",
    "\n",
    "    # Set the x-axis and y-axis ticks to the values we are printing\n",
    "    plt.xticks(rhs_values)\n",
    "    plt.yticks(dual_values) \n",
    "\n",
    "\n",
    "    plt.xlabel('{0} {1}'.format(constraint_name, xunit), labelpad=20, color='#DC143C')\n",
    "    plt.ylabel('C. Oport \\nprod min {}\\n{}'.format(yunit, prod_y), rotation=0, labelpad=70, color='#DC143C')\n",
    "    plt.title('Costo de oportunidad del producto {}'.format(product_name), pad=30)\n",
    "    plt.grid(True, which='both', linestyle='--', linewidth=0.2, color='gray', alpha=0.7)\n",
    "    plt.show()\n",
    "    "
   ]
  },
  {
   "cell_type": "code",
   "execution_count": null,
   "id": "55b40eb3",
   "metadata": {},
   "outputs": [
    {
     "data": {
      "image/png": "[encoded data removed]",
      "text/plain": [
       "<Figure size 640x480 with 1 Axes>"
      ]
     },
     "metadata": {},
     "output_type": "display_data"
    }
   ],
   "source": [
    "# Usage of pLot the chart\n",
    "plot(\"[hs/mes]\", \"[$/un mes]\")"
   ]
  }
 ],
 "metadata": {
  "language_info": {
   "name": "python",
   "pygments_lexer": "ipython3"
  }
 },
 "nbformat": 4,
 "nbformat_minor": 5
}
