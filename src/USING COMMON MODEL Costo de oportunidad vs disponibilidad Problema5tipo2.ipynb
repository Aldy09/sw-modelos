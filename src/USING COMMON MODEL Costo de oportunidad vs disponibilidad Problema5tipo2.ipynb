{
 "cells": [
  {
   "cell_type": "code",
   "execution_count": null,
   "id": "5f64678b",
   "metadata": {},
   "outputs": [
    {
     "name": "stdout",
     "output_type": "stream",
     "text": [
      "Model: guia5problematipo2\n",
      " - number of variables: 3\n",
      "   - binary=0, integer=0, continuous=3\n",
      " - number of constraints: 9\n",
      "   - linear=9\n",
      " - parameters: defaults\n",
      " - objective: none\n",
      " - problem type is: LP\n",
      "* Production model solved with objective: 5700\n",
      "* Total benefit=5700\n",
      "Production of A: 50.0\n",
      "Production of B: 80.0\n",
      "Production of C: 0\n"
     ]
    }
   ],
   "source": [
    "# Cargar los datos y obtener el modelo\n",
    "from common_model import *\n",
    "mdl, produccion_vars, products = create_model()\n",
    "solve_model(mdl, produccion_vars, products)\n"
   ]
  },
  {
   "cell_type": "code",
   "execution_count": null,
   "id": "bd23f3bd",
   "metadata": {},
   "outputs": [],
   "source": [
    "#***Added by JL - 2024 Mar 03th - Checking sensitivity analysis *****')\n",
    "\n",
    "# Initialize lists to store the results\n",
    "rhs_values = []\n",
    "dual_values = []\n",
    "internal_sortable_rhs_values = [] # Aux: esto es un fix rápido, mejorable en el futuro.\n",
    "\n",
    "#real_rhs_value = 0\n",
    "\n",
    "m = 0.01\n"
   ]
  },
  {
   "cell_type": "code",
   "execution_count": null,
   "id": "574376be",
   "metadata": {},
   "outputs": [],
   "source": [
    "# Report values for the chart\n",
    "\n",
    "def report_with_min_dem(internal_value, rhs_value, min_dem_constraint):\n",
    "    internal_sortable_rhs_values.append(internal_value)\n",
    "    rhs_values.append(rhs_value)\n",
    "    dual_values.append(-1 * min_dem_constraint.dual_value) #Diferencia con grafico funcional vs disp\n",
    "    \n",
    "def report_without_min_dem(internal_value, rhs_value, prod_var):\n",
    "    internal_sortable_rhs_values.append(internal_value)\n",
    "    rhs_values.append(rhs_value)    \n",
    "    dual_values.append(-1 * prod_var.reduced_cost)"
   ]
  },
  {
   "cell_type": "code",
   "execution_count": null,
   "id": "5d44cd8e",
   "metadata": {},
   "outputs": [],
   "source": [
    "### Aux: misma función que VM, cambia solo parámetros actuales\n",
    "### aux: pEro, esta función no es monótona: no me sirve la forma actual de ordenar, requiere algo más.\n",
    "# Aux: Aplico la mejora3 (report rhs+/-m) para guardar el rhs real ej 126 y no 125.99;\n",
    "# aux: pero también me guardo un internal (ej el 125.99) para poder ordenar fácilmente,\n",
    "# aux: xq de otra forma al estar ya desordenados, es imposible aplicar un sort con sentido\n",
    "# xq la función no es monótona. Otra forma sería refactorizar esta función para appendear en orden.\n",
    "\n",
    "# constraint_name: nombre de la restricción sobre cuyo rhs iterar (eje 'x')\n",
    "# prod_var_or_min_dem_constraint: restricción de demanda mínima del producto, o si la variable del producto (si el mismo no posee dem mín) (para eje 'y').\n",
    "def iterate_over_rhs(constraint_name, prod_var_or_min_dem_constraint, report_function):\n",
    "    c = mdl.get_constraint_by_name(constraint_name)\n",
    "    if c is None:\n",
    "        print(\"Constraint with name '{0}' not found.\".format(constraint_name))\n",
    "        return    \n",
    "            \n",
    "    # Perform initial sensitivity analysis to get the starting lower and upper bounds\n",
    "    initial_sensitivity = perform_sensitivity_analysis(mdl)\n",
    "    \n",
    "    # Find the sensitivity range for the specified constraint\n",
    "    for c_sens, (lower, upper) in zip(mdl.iter_constraints(), initial_sensitivity):\n",
    "        if c_sens.name == constraint_name:\n",
    "            \n",
    "            # Report the real RHS value for the chart\n",
    "            real_rhs_value = c_sens.rhs.constant\n",
    "            report_function(real_rhs_value, real_rhs_value, prod_var_or_min_dem_constraint)\n",
    "        \n",
    "            # *********Store and report the initial lower and upper bounds for the chart*********\n",
    "            print(\"---Initial lower bound: {0}\".format(lower))\n",
    "            rhs = lower\n",
    "            solution = solve(c, rhs, mdl, products, produccion_vars)\n",
    "            if solution is not None:                \n",
    "                report_function(rhs, rhs, prod_var_or_min_dem_constraint)\n",
    "\n",
    "            print(\"---Initial upper bound: {0}\".format(upper))\n",
    "            rhs = upper\n",
    "            solution = solve(c, rhs, mdl, products, produccion_vars)\n",
    "            if solution is not None and rhs < mdl.infinity:\n",
    "                report_function(rhs, rhs, prod_var_or_min_dem_constraint)\n",
    "            # ********* End of lower and upper bounds *********\n",
    "            \n",
    "            \n",
    "            #Decrease rhs starting from lower bound - m\n",
    "            rhs = lower - m\n",
    "            while True:\n",
    "                if rhs < 0:\n",
    "                    break ## Stop if the rhs is lower than 0                \n",
    "            \n",
    "                solution = solve(c, rhs, mdl, products, produccion_vars)\n",
    "                if solution is None:\n",
    "                    break  # Stop if the model is infeasible\n",
    "                else:\n",
    "                    report_function(rhs, rhs+m, prod_var_or_min_dem_constraint) #Diferencia con grafico funcional vs disp\n",
    "                    \n",
    "                # Perform sensitivity analysis to get the new lower bound\n",
    "                new_sensitivity = perform_sensitivity_analysis(mdl)                \n",
    "                for c_new_sens, (new_lower, _) in zip(mdl.iter_constraints(), new_sensitivity):\n",
    "                    if c_new_sens.name == constraint_name: \n",
    "                        rhs = new_lower\n",
    "                        if rhs < 0:\n",
    "                            break ## Stop if the rhs is lower than 0                \n",
    "                            \n",
    "                        solution = solve(c, rhs, mdl, products, produccion_vars)\n",
    "                        if solution is None:\n",
    "                            break  # Stop if the model is infeasible\n",
    "                        report_function(c_new_sens.rhs.constant, c_new_sens.rhs.constant, prod_var_or_min_dem_constraint)\n",
    "                        \n",
    "                        rhs = new_lower - m\n",
    "\n",
    "                        break\n",
    "\n",
    "\n",
    "            # Increase rhs starting from upper bound + m\n",
    "            rhs = upper + m\n",
    "            \n",
    "            while True:\n",
    "                if rhs >= mdl.infinity:\n",
    "                    break ## Stop if the rhs reaches or exceeds infinity\n",
    "\n",
    "                solution = solve(c, rhs, mdl, products, produccion_vars)\n",
    "                if solution is None:\n",
    "                    break  # Stop if the model is infeasible\n",
    "                else:\n",
    "                    report_function(rhs, rhs-m, prod_var_or_min_dem_constraint) #Diferencia con grafico funcional vs disp\n",
    "\n",
    "                # Perform sensitivity analysis to get the new upper bound\n",
    "                new_sensitivity = perform_sensitivity_analysis(mdl)\n",
    "                for c_new_sens, (_, new_upper) in zip(mdl.iter_constraints(), new_sensitivity):\n",
    "                    if c_new_sens.name == constraint_name:                        \n",
    "                        rhs = new_upper\n",
    "                        if rhs >= mdl.infinity:\n",
    "                            break ## Stop if the rhs reaches or exceeds infinity\n",
    "\n",
    "                        solution = solve(c, rhs, mdl, products, produccion_vars)\n",
    "                        if solution is None:\n",
    "                            break  # Stop if the model is infeasible\n",
    "                        report_function(c_new_sens.rhs.constant, c_new_sens.rhs.constant, prod_var_or_min_dem_constraint)\n",
    "                        \n",
    "                        rhs = new_upper + m\n",
    "\n",
    "                        break\n",
    "    return real_rhs_value"
   ]
  },
  {
   "cell_type": "code",
   "execution_count": null,
   "id": "348afeec",
   "metadata": {},
   "outputs": [],
   "source": [
    "# Al iterar, si el product_name tiene demanda mínima se desea obtener el VM (dual_value) de dicha restricción,\n",
    "# o caso contrario el Costo de oportunidad (reduced_cost) del product_name. Esta función analiza si existe o no demanda mínima\n",
    "# y le indica a iterate_over_rhs cuál de los dos valores se desea obtener al iterar.\n",
    "def iterate_over_rhs_checking_prod_min_dem(constraint_nameX, product_name):\n",
    "    # Buscamos el product_name en el array \"products\" para consultar en su tercera posición si el mismo tiene demanda mínima\n",
    "    # (aux: products tiene tuplas, esto obtiene la tupla que tiene 'product_name' como primer valor)\n",
    "    idx = next((i for i, prod in enumerate(products) if prod[0] == product_name), None)\n",
    "    if idx is None:\n",
    "        raise ValueError(f\"ERROR: no se encontró el product_name: {product_name} en el array products.\")\n",
    "\n",
    "    # Obtenemos la restricción (a la que tomarle el dual_value) si el producto tiene demanda mínima\n",
    "    # o la variable del producto en caso contrario (al que tomarle el reduced_cost), para llamar a iterar\n",
    "    dem_min = products[idx][3] > 0\n",
    "    if dem_min:\n",
    "        print(f\"Demanda mínima encontrada para el producto {product_name}.\")\n",
    "        constraint_nameY = f\"DemandMin_{product_name}\"\n",
    "        prod_var_or_min_dem_constraint = mdl.get_constraint_by_name(constraint_nameY)\n",
    "        report_function = report_with_min_dem\n",
    "    else:\n",
    "        print(f\"Demanda mínima No encontrada para el producto {product_name}.\")\n",
    "        # esto da, por ejemplo prod_var_or_min_dem_constraint=list(produccion_vars.values())[0] ## \"A\"\n",
    "        # Aux: es necesario que la key sea una tupla? Sería mucho más simple / legible si la key fuera directamente \"A\"\n",
    "        prod_var_or_min_dem_constraint = next((value for key, value in produccion_vars.items() if key[0] == product_name), None)\n",
    "        if prod_var_or_min_dem_constraint is None:\n",
    "            raise ValueError(f\"ERROR: no se encontró {product_name} en produccion_vars.\")\n",
    "        report_function = report_without_min_dem\n",
    "    return iterate_over_rhs(constraint_nameX, prod_var_or_min_dem_constraint, report_function)\n"
   ]
  },
  {
   "cell_type": "code",
   "execution_count": null,
   "id": "6bab410a",
   "metadata": {},
   "outputs": [
    {
     "name": "stdout",
     "output_type": "stream",
     "text": [
      "Demanda mínima encontrada para el producto B.\n"
     ]
    },
    {
     "name": "stdout",
     "output_type": "stream",
     "text": [
      "---Initial lower bound: 80.0\n",
      "---\n",
      "- Adjusting RHS to: 80.0\n",
      "* Production model solved with objective: 3200\n",
      "* Total benefit=3200\n",
      "Production of A: 0\n",
      "Production of B: 80.0\n",
      "Production of C: 0\n",
      "---Initial upper bound: 140.0\n",
      "---\n",
      "- Adjusting RHS to: 140.0\n",
      "* Production model solved with objective: 8200\n",
      "* Total benefit=8200\n",
      "Production of A: 100.0\n",
      "Production of B: 80.0\n",
      "Production of C: 0\n",
      "---\n",
      "- Adjusting RHS to: 79.99\n",
      "No solution found for RHS value: 79.99\n",
      "---\n",
      "- Adjusting RHS to: 140.01\n",
      "* Production model solved with objective: 8200.5\n",
      "* Total benefit=8200.5\n",
      "Production of A: 100.0\n",
      "Production of B: 80.0\n",
      "Production of C: 0.01666666666665151\n",
      "---\n",
      "- Adjusting RHS to: 172.0\n",
      "* Production model solved with objective: 9800\n",
      "* Total benefit=9800\n",
      "Production of A: 100.0\n",
      "Production of B: 80.0\n",
      "Production of C: 53.33333333333334\n",
      "---\n",
      "- Adjusting RHS to: 172.01\n",
      "* Production model solved with objective: 9800.3\n",
      "* Total benefit=9800.3\n",
      "Production of A: 99.99000000000001\n",
      "Production of B: 80.0\n",
      "Production of C: 53.359999999999985\n",
      "---\n",
      "- Adjusting RHS to: 272.0\n",
      "* Production model solved with objective: 12800\n",
      "* Total benefit=12800\n",
      "Production of A: 0\n",
      "Production of B: 80.0\n",
      "Production of C: 320.0\n",
      "---\n",
      "- Adjusting RHS to: 272.01\n",
      "* Production model solved with objective: 12800\n",
      "* Total benefit=12800\n",
      "Production of A: 0\n",
      "Production of B: 80.0\n",
      "Production of C: 320.0\n"
     ]
    }
   ],
   "source": [
    "# Usage of the iterate_over_rhs method, checking whether there exists demmin or not\n",
    "constraint_nameX = 'Disp_Equipo3'  # The name of the constraint to analyze\n",
    "product_name=\"B\"\n",
    "\n",
    "real_rhs_value = iterate_over_rhs_checking_prod_min_dem(constraint_nameX, product_name)"
   ]
  },
  {
   "cell_type": "code",
   "execution_count": null,
   "id": "741ac3dd",
   "metadata": {},
   "outputs": [
    {
     "name": "stdout",
     "output_type": "stream",
     "text": [
      "rhs_values [110, 80.0, 140.0, 140.0, 172.0, 172.0, 272.0, 272.0]\n",
      "dual_values [43.33333333333334, 43.33333333333334, 43.33333333333334, 10.0, 10.0, 22.0, 22.0, 40.0]\n"
     ]
    }
   ],
   "source": [
    "### DEBUG\n",
    "print(\"rhs_values\", rhs_values)\n",
    "print(\"dual_values\", dual_values)"
   ]
  },
  {
   "cell_type": "code",
   "execution_count": null,
   "id": "3abfb0ff",
   "metadata": {},
   "outputs": [
    {
     "name": "stdout",
     "output_type": "stream",
     "text": [
      "pairs [(110, 110, 43.33333333333334), (80.0, 80.0, 43.33333333333334), (140.0, 140.0, 43.33333333333334), (140.01, 140.0, 10.0), (172.0, 172.0, 10.0), (172.01, 172.0, 22.0), (272.0, 272.0, 22.0), (272.01, 272.0, 40.0)]\n",
      "pairs [(80.0, 80.0, 43.33333333333334), (110, 110, 43.33333333333334), (140.0, 140.0, 43.33333333333334), (140.01, 140.0, 10.0), (172.0, 172.0, 10.0), (172.01, 172.0, 22.0), (272.0, 272.0, 22.0), (272.01, 272.0, 40.0)]\n",
      "new_x [80.0, 110, 140.0, 140.0, 172.0, 172.0, 272.0, 272.0]\n",
      "new_y [43.33333333333334, 43.33333333333334, 43.33333333333334, 10.0, 10.0, 22.0, 22.0, 40.0]\n"
     ]
    }
   ],
   "source": [
    "### AUX: esto es temporal, mejorable en el futuro. Ordeno según el internal (que No se repite, ej es 125.99)\n",
    "# al internal lo uso solamente para ordenar, y grafico rhs_values y dual_values.\n",
    "\n",
    "### Mejora1\n",
    "# Armo pares y los ordeno según 'x'\n",
    "pairs = [] #triplets, en realidad\n",
    "for i in range(len(internal_sortable_rhs_values)):\n",
    "    pairs.append((internal_sortable_rhs_values[i], rhs_values[i], dual_values[i]))\n",
    "\n",
    "print(\"pairs\", pairs)\n",
    "\n",
    "pairs.sort() # sé que no habrá empates\n",
    "# Ordeno ascendentemente por la primera componente y Asc por la segunda si hay empates\n",
    "#pairs.sort(key=lambda x: (x[0], x[1]))\n",
    "\n",
    "print(\"pairs\", pairs)\n",
    "\n",
    "# Los vuelvo a separar en listas, para no cambiar la función plot\n",
    "new_x, new_y = [], []\n",
    "for elem in pairs:\n",
    "    new_x.append(elem[1])\n",
    "    new_y.append(elem[2])\n",
    "print(\"new_x\", new_x)\n",
    "print(\"new_y\", new_y)"
   ]
  },
  {
   "cell_type": "code",
   "execution_count": null,
   "id": "ef0bc975",
   "metadata": {},
   "outputs": [],
   "source": [
    "\n",
    "def get_text_for_plot(xunit, yunit):\n",
    "    xlabel='{0} {1}'.format(constraint_nameX, xunit)\n",
    "    ylabel='C. Oport \\nprod min {}\\n{}'.format(yunit, product_name)\n",
    "    title='Costo de oportunidad del producto {}'.format(product_name)\n",
    "    return {\"xlabel\": xlabel, \"ylabel\": ylabel, \"title\": title}"
   ]
  },
  {
   "cell_type": "code",
   "execution_count": null,
   "id": "55b40eb3",
   "metadata": {},
   "outputs": [
    {
     "name": "stdout",
     "output_type": "stream",
     "text": [
      "plt.hline dual_values[i], rhs_values[i], rhs_values[i + 1]: 43.33333333333334 80.0 110\n",
      "plt.hline dual_values[i], rhs_values[i], rhs_values[i + 1]: 43.33333333333334 110 140.0\n",
      "plt.hline dual_values[i], rhs_values[i], rhs_values[i + 1]: 43.33333333333334 140.0 140.0\n",
      "plt.hline dual_values[i], rhs_values[i], rhs_values[i + 1]: 10.0 140.0 172.0\n",
      "plt.hline dual_values[i], rhs_values[i], rhs_values[i + 1]: 10.0 172.0 172.0\n",
      "plt.hline dual_values[i], rhs_values[i], rhs_values[i + 1]: 22.0 172.0 272.0\n",
      "plt.hline dual_values[i], rhs_values[i], rhs_values[i + 1]: 22.0 272.0 272.0\n",
      "[debug], returned ticks: [<matplotlib.axis.XTick object at 0x7c4bfc1dc160>, <matplotlib.axis.XTick object at 0x7c4bfc1dc130>, <matplotlib.axis.XTick object at 0x7c4bfc1c4e20>, <matplotlib.axis.XTick object at 0x7c4bfc48a430>, <matplotlib.axis.XTick object at 0x7c4bfc53eb20>, <matplotlib.axis.XTick object at 0x7c4bfc53e1c0>, <matplotlib.axis.XTick object at 0x7c4bfc48af10>, <matplotlib.axis.XTick object at 0x7c4bfc4d95b0>]\n",
      "[debug] real_rhs_value: 110\n"
     ]
    },
    {
     "data": {
      "image/png": "[encoded data removed]",
      "text/plain": [
       "<Figure size 640x480 with 1 Axes>"
      ]
     },
     "metadata": {},
     "output_type": "display_data"
    },
    {
     "data": {
      "text/plain": [
       "<Figure size 2000x1000 with 0 Axes>"
      ]
     },
     "metadata": {},
     "output_type": "display_data"
    }
   ],
   "source": [
    "# Usage of pLot the chart\n",
    "plot_text = get_text_for_plot(\"[hs/mes]\", \"[$/un]\")\n",
    "plot(new_x, new_y, real_rhs_value, plot_text)"
   ]
  }
 ],
 "metadata": {
  "language_info": {
   "name": "python",
   "pygments_lexer": "ipython3"
  }
 },
 "nbformat": 4,
 "nbformat_minor": 5
}
