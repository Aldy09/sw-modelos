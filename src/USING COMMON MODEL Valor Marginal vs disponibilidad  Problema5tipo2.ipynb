{
 "cells": [
  {
   "cell_type": "code",
   "execution_count": null,
   "id": "bf341062",
   "metadata": {},
   "outputs": [
    {
     "name": "stdout",
     "output_type": "stream",
     "text": [
      "Model: guia5problematipo2\n",
      " - number of variables: 3\n",
      "   - binary=0, integer=0, continuous=3\n",
      " - number of constraints: 9\n",
      "   - linear=9\n",
      " - parameters: defaults\n",
      " - objective: none\n",
      " - problem type is: LP\n",
      "* Production model solved with objective: 5700\n",
      "* Total benefit=5700\n",
      "Production of A: 50.0\n",
      "Production of B: 80.0\n",
      "Production of C: 0\n"
     ]
    }
   ],
   "source": [
    "# Cargar los datos y obtener el modelo\n",
    "from common_model import *\n",
    "mdl, produccion_vars, products = create_model()\n",
    "solve_model(mdl, produccion_vars, products)"
   ]
  },
  {
   "cell_type": "code",
   "execution_count": null,
   "id": "bd23f3bd",
   "metadata": {},
   "outputs": [],
   "source": [
    "#***Added by JL - 2024 Mar 03th - Checking sensitivity analysis *****')\n",
    "\n",
    "# Initialize lists to store the results\n",
    "rhs_values = []\n",
    "dual_values = []\n",
    "\n",
    "#real_rhs_value = 0\n",
    "\n",
    "m = 0.01\n"
   ]
  },
  {
   "cell_type": "code",
   "execution_count": null,
   "id": "db0bd057",
   "metadata": {},
   "outputs": [],
   "source": [
    "# Report values for the chart\n",
    "\n",
    "def report(rhs_value, dual_value):\n",
    "    rhs_values.append(rhs_value)\n",
    "    dual_values.append(dual_value) #Diferencia con grafico Costo Op dem min B vs disp\n",
    "    \n"
   ]
  },
  {
   "cell_type": "code",
   "execution_count": null,
   "id": "8c965a10",
   "metadata": {},
   "outputs": [],
   "source": [
    "def iterate_over_rhs(constraint_nameX, constraint_nameY): # aux: var mdl, 'm', y funciones.\n",
    "    c = mdl.get_constraint_by_name(constraint_nameX)\n",
    "    if c is None:\n",
    "        print(\"Constraint with name '{0}' not found.\".format(constraint_nameX))\n",
    "        return\n",
    "            \n",
    "    # Perform initial sensitivity analysis to get the starting lower and upper bounds\n",
    "    initial_sensitivity = perform_sensitivity_analysis(mdl) # Aux: obtiene (lower, upper)\n",
    "    print(\"[debug] initial sensitivity\", initial_sensitivity)\n",
    "    print(\"[debug] constraint_nameY:\", constraint_nameY)\n",
    "    print(\"[debug] constraint_nameY type:\", type(constraint_nameY))\n",
    "    \n",
    "    # Find the sensitivity range for the specified constraint\n",
    "    for c_sens, (lower, upper) in zip(mdl.iter_constraints(), initial_sensitivity):\n",
    "        print(\"[debug] for c_sens, (lower, upper):\", c_sens, (lower, upper))\n",
    "        if c_sens.name == constraint_nameX:\n",
    "            \n",
    "            # Report the real RHS value for the chart\n",
    "            #global real_rhs_value #use the global keyword to declare that you want the function to update the global variable\n",
    "            real_rhs_value = c_sens.rhs.constant ### aux: ok agrega el actual, es una cte aparte\n",
    "            report(real_rhs_value, constraint_nameY.dual_value)\n",
    "\n",
    "        \n",
    "            # *********Store and report the initial lower and upper bounds for the chart*********\n",
    "            print(\"---Initial lower bound: {0}\".format(lower))\n",
    "            rhs = lower\n",
    "            solution = solve(c, rhs, mdl, products, produccion_vars)\n",
    "            if solution is not None:\n",
    "                report(rhs, constraint_nameY.dual_value)\n",
    "\n",
    "            print(\"---Initial upper bound: {0}\".format(upper))\n",
    "            rhs = upper\n",
    "            solution = solve(c, rhs, mdl, products, produccion_vars)\n",
    "            if solution is not None and rhs < mdl.infinity:\n",
    "                report(rhs, constraint_nameY.dual_value)\n",
    "            # ********* End of lower and upper bounds *********\n",
    "            \n",
    "            \n",
    "            #Decrease rhs starting from lower bound - m\n",
    "            rhs = lower - m\n",
    "            while True:\n",
    "                print(\"[debug] Viendo para rhs:\", rhs)\n",
    "                if rhs < 0:\n",
    "                    break ## Stop if the rhs is lower than 0                \n",
    "            \n",
    "                solution = solve(c, rhs, mdl, products, produccion_vars)\n",
    "                if solution is None:\n",
    "                    break  # Stop if the model is infeasible\n",
    "                else:\n",
    "                    #report(rhs, constraint_nameY.dual_value) #Diferencia con grafico funcional vs disp\n",
    "                    #report(c_sens.rhs.constant, constraint_nameY.dual_value) ### Aux, veamos si así queda 126 y no 125.99\n",
    "                    print(\"[debug al append] rhs:\", rhs)\n",
    "                    print(\"[debug al append] c_sens.rhs.constant:\", c_sens.rhs.constant)\n",
    "                    report(rhs + m, constraint_nameY.dual_value)\n",
    "                    \n",
    "                # Perform sensitivity analysis to get the new lower bound\n",
    "                new_sensitivity = perform_sensitivity_analysis(mdl)    \n",
    "                print(\"[debug] sensitivity\", new_sensitivity)            \n",
    "                for c_new_sens, (new_lower, _) in zip(mdl.iter_constraints(), new_sensitivity):\n",
    "                    if c_new_sens.name == constraint_nameX: \n",
    "                        rhs = new_lower\n",
    "                        if rhs < 0:\n",
    "                            break ## Stop if the rhs is lower than 0                \n",
    "                            \n",
    "                        solution = solve(c, rhs, mdl, products, produccion_vars)\n",
    "                        if solution is None:\n",
    "                            break  # Stop if the model is infeasible\n",
    "                        report(c_new_sens.rhs.constant, constraint_nameY.dual_value)\n",
    "                        \n",
    "                        rhs = new_lower - m #### aux: es para la sgte vuelta del while\n",
    "\n",
    "                        break\n",
    "\n",
    "\n",
    "            # Increase rhs starting from upper bound + m\n",
    "            rhs = upper + m\n",
    "            \n",
    "            while True:\n",
    "                print(\"[debug] Viendo para rhs:\", rhs)\n",
    "                if rhs >= mdl.infinity:\n",
    "                    break ## Stop if the rhs reaches or exceeds infinity\n",
    "\n",
    "                solution = solve(c, rhs, mdl, products, produccion_vars)\n",
    "                if solution is None:\n",
    "                    break  # Stop if the model is infeasible\n",
    "                else:\n",
    "                    report(rhs-m, constraint_nameY.dual_value) #Diferencia con grafico funcional vs disp\n",
    "\n",
    "                # Perform sensitivity analysis to get the new upper bound\n",
    "                new_sensitivity = perform_sensitivity_analysis(mdl)\n",
    "                for c_new_sens, (_, new_upper) in zip(mdl.iter_constraints(), new_sensitivity):\n",
    "                    if c_new_sens.name == constraint_nameX:                        \n",
    "                        rhs = new_upper\n",
    "                        if rhs >= mdl.infinity:\n",
    "                            break ## Stop if the rhs reaches or exceeds infinity\n",
    "\n",
    "                        solution = solve(c, rhs, mdl, products, produccion_vars)\n",
    "                        if solution is None:\n",
    "                            break  # Stop if the model is infeasible\n",
    "                        report(c_new_sens.rhs.constant, constraint_nameY.dual_value)\n",
    "                        \n",
    "                        rhs = new_upper + m\n",
    "\n",
    "                        break\n",
    "    return real_rhs_value"
   ]
  },
  {
   "cell_type": "code",
   "execution_count": null,
   "id": "0f9251e9",
   "metadata": {},
   "outputs": [
    {
     "name": "stdout",
     "output_type": "stream",
     "text": [
      "rhs_values: []\n",
      "dual_values: []\n",
      "\n",
      "\n",
      "mdl: docplex.mp.Model['guia5problematipo2']\n",
      "mdl: solution for: guia5problematipo2\n",
      "objective: 5700\n",
      "status: OPTIMAL_SOLUTION(2)\n",
      "produccion_A_50_100_0=50.000\n",
      "produccion_B_40_120_80=80.000\n",
      "\n"
     ]
    }
   ],
   "source": [
    "### Debug\n",
    "print(\"rhs_values:\",rhs_values)\n",
    "#print(\"real_rhs_value:\",real_rhs_value) # aux: es el actual, el bi\n",
    "print(\"dual_values:\", dual_values)\n",
    "print(\"\")\n",
    "#print(\"constraint_nameX:\", constraint_nameX)\n",
    "#print(\"constraint_nameY:\", constraint_nameY)\n",
    "print(\"\")\n",
    "print(\"mdl:\", mdl)\n",
    "print(\"mdl:\", mdl.solution)\n",
    "# if 0 not in rhs_values, significa que antes de su mín es incompatible.., revisar"
   ]
  },
  {
   "cell_type": "code",
   "execution_count": null,
   "id": "6bab410a",
   "metadata": {},
   "outputs": [
    {
     "name": "stdout",
     "output_type": "stream",
     "text": [
      "[debug] initial sensitivity [(104.0, 1e+20), (126.0, 1e+20), (80.0, 140.0), (50.0, 1e+20), (80.0, 1e+20), (0.0, 1e+20), (-1e+20, 50.0), (50.0, 110.0), (-1e+20, 0.0)]\n",
      "[debug] constraint_nameY: Disp_Equipo3: 0.600produccion_A_50_100_0+produccion_B_40_120_80+0.600produccion_C_30_999999999999999_0 <= 110\n",
      "[debug] constraint_nameY type: <class 'docplex.mp.constr.LinearConstraint'>\n",
      "[debug] for c_sens, (lower, upper): Disp_Equipo1: 0.800produccion_A_50_100_0+0.800produccion_B_40_120_80+0.300produccion_C_30_999999999999999_0 <= 160 (104.0, 1e+20)\n",
      "[debug] for c_sens, (lower, upper): Disp_Equipo2: 0.600produccion_A_50_100_0+1.200produccion_B_40_120_80 <= 180 (126.0, 1e+20)\n",
      "[debug] for c_sens, (lower, upper): Disp_Equipo3: 0.600produccion_A_50_100_0+produccion_B_40_120_80+0.600produccion_C_30_999999999999999_0 <= 110 (80.0, 140.0)\n",
      "---Initial lower bound: 80.0\n",
      "---\n",
      "- Adjusting RHS to: 80.0\n",
      "* Production model solved with objective: 3200\n",
      "* Total benefit=3200\n",
      "Production of A: 0\n",
      "Production of B: 80.0\n",
      "Production of C: 0\n",
      "---Initial upper bound: 140.0\n",
      "---\n",
      "- Adjusting RHS to: 140.0\n",
      "* Production model solved with objective: 8200\n",
      "* Total benefit=8200\n",
      "Production of A: 100.0\n",
      "Production of B: 80.0\n",
      "Production of C: 0\n",
      "[debug] Viendo para rhs: 79.99\n",
      "---\n",
      "- Adjusting RHS to: 79.99\n",
      "No solution found for RHS value: 79.99\n",
      "[debug] Viendo para rhs: 140.01\n",
      "---\n",
      "- Adjusting RHS to: 140.01\n",
      "* Production model solved with objective: 8200.5\n",
      "* Total benefit=8200.5\n",
      "Production of A: 100.0\n",
      "Production of B: 80.0\n",
      "Production of C: 0.01666666666665151\n",
      "---\n",
      "- Adjusting RHS to: 172.0\n",
      "* Production model solved with objective: 9800\n",
      "* Total benefit=9800\n",
      "Production of A: 100.0\n",
      "Production of B: 80.0\n",
      "Production of C: 53.33333333333334\n",
      "[debug] Viendo para rhs: 172.01\n",
      "---\n",
      "- Adjusting RHS to: 172.01\n",
      "* Production model solved with objective: 9800.3\n",
      "* Total benefit=9800.3\n",
      "Production of A: 99.99000000000001\n",
      "Production of B: 80.0\n",
      "Production of C: 53.359999999999985\n",
      "---\n",
      "- Adjusting RHS to: 272.0\n",
      "* Production model solved with objective: 12800\n",
      "* Total benefit=12800\n",
      "Production of A: 0\n",
      "Production of B: 80.0\n",
      "Production of C: 320.0\n",
      "[debug] Viendo para rhs: 272.01\n",
      "---\n",
      "- Adjusting RHS to: 272.01\n",
      "* Production model solved with objective: 12800\n",
      "* Total benefit=12800\n",
      "Production of A: 0\n",
      "Production of B: 80.0\n",
      "Production of C: 320.0\n",
      "[debug] Viendo para rhs: 1e+20\n",
      "[debug] for c_sens, (lower, upper): DemandMax_A: produccion_A_50_100_0 <= 100 (50.0, 1e+20)\n",
      "[debug] for c_sens, (lower, upper): DemandMax_B: produccion_B_40_120_80 <= 120 (80.0, 1e+20)\n",
      "[debug] for c_sens, (lower, upper): DemandMax_C: produccion_C_30_999999999999999_0 <= 999999999999999 (0.0, 1e+20)\n",
      "[debug] for c_sens, (lower, upper): DemandMin_A: produccion_A_50_100_0 >= 0 (-1e+20, 50.0)\n",
      "[debug] for c_sens, (lower, upper): DemandMin_B: produccion_B_40_120_80 >= 80 (50.0, 110.0)\n",
      "[debug] for c_sens, (lower, upper): DemandMin_C: produccion_C_30_999999999999999_0 >= 0 (-1e+20, 0.0)\n"
     ]
    }
   ],
   "source": [
    "# Usage of the iterate_over_rhs method\n",
    "constraint_nameX = 'Disp_Equipo3'  # The name of the constraint X to analyze\n",
    "constraint_nameY = mdl.get_constraint_by_name('Disp_Equipo3') # The name of the constraint Y to analyze\n",
    "\n",
    "real_rhs_value = iterate_over_rhs(constraint_nameX, constraint_nameY)"
   ]
  },
  {
   "cell_type": "code",
   "execution_count": null,
   "id": "5278522f",
   "metadata": {},
   "outputs": [
    {
     "name": "stdout",
     "output_type": "stream",
     "text": [
      "rhs_values: [110, 80.0, 140.0, 140.0, 172.0, 172.0, 272.0, 272.0]\n",
      "real_rhs_value: 110\n",
      "dual_values: [83.33333333333334, 83.33333333333334, 83.33333333333334, 50.0, 50.0, 30.0, 30.0, 0]\n",
      "\n",
      "constraint_nameX: Disp_Equipo3\n",
      "constraint_nameY: Disp_Equipo3: 0.600produccion_A_50_100_0+produccion_B_40_120_80+0.600produccion_C_30_999999999999999_0 <= 272.01\n",
      "\n",
      "mdl: docplex.mp.Model['guia5problematipo2']\n",
      "mdl: solution for: guia5problematipo2\n",
      "objective: 12800\n",
      "status: OPTIMAL_SOLUTION(2)\n",
      "produccion_B_40_120_80=80.000\n",
      "produccion_C_30_999999999999999_0=320.000\n",
      "\n"
     ]
    }
   ],
   "source": [
    "### Debug _ Notar que quedó en 12800 el Z, al terminar de iterar\n",
    "print(\"rhs_values:\",rhs_values)\n",
    "print(\"real_rhs_value:\",real_rhs_value) # es el actual, el bi\n",
    "print(\"dual_values:\", dual_values)\n",
    "print(\"\")\n",
    "print(\"constraint_nameX:\", constraint_nameX)\n",
    "print(\"constraint_nameY:\", constraint_nameY)\n",
    "print(\"\")\n",
    "print(\"mdl:\", mdl)\n",
    "print(\"mdl:\", mdl.solution) # por eso esto printea basura (no es la solución óptima de verdad)\n",
    "# if 0 not in rhs_values, significa que antes de su mín es incompatible.., revisar"
   ]
  },
  {
   "cell_type": "code",
   "execution_count": null,
   "id": "31a83080",
   "metadata": {},
   "outputs": [],
   "source": []
  },
  {
   "cell_type": "markdown",
   "id": "7f7e5ae2",
   "metadata": {},
   "source": [
    "# Entonces, las dos mejoras\n",
    "## Cambiando la restricción para el análisis y el gráfico, y las mejoras son ordenar la lista y sacar el 'infinito' del final"
   ]
  },
  {
   "cell_type": "code",
   "execution_count": null,
   "id": "80a94d17",
   "metadata": {},
   "outputs": [
    {
     "name": "stdout",
     "output_type": "stream",
     "text": [
      "Model: guia5problematipo2\n",
      " - number of variables: 3\n",
      "   - binary=0, integer=0, continuous=3\n",
      " - number of constraints: 9\n",
      "   - linear=9\n",
      " - parameters: defaults\n",
      " - objective: none\n",
      " - problem type is: LP\n",
      "* Production model solved with objective: 5700\n",
      "* Total benefit=5700\n",
      "Production of A: 50.0\n",
      "Production of B: 80.0\n",
      "Production of C: 0\n"
     ]
    }
   ],
   "source": [
    "### EJECUTAR ESTO DE NUEVO PARA QUE MDL NO HAYA QUEDADO VALIENDO NONE DE UNA ITERACIÓN ANTERIOR\n",
    "from common_model import *\n",
    "mdl, produccion_vars, products = create_model()\n",
    "solve_model(mdl, produccion_vars, products)\n",
    "\n",
    "### E INICIALIZAR LISTAS DE NUEVO PARA QUE NO ACUMULEN SOBRE LO DE LA CORRIDA ANTERIOR\n",
    "# Initialize lists to store the results\n",
    "rhs_values = []\n",
    "dual_values = []\n",
    "\n",
    "#real_rhs_value = 0\n",
    "\n",
    "m = 0.01"
   ]
  },
  {
   "cell_type": "code",
   "execution_count": null,
   "id": "e1717cbe",
   "metadata": {},
   "outputs": [
    {
     "name": "stdout",
     "output_type": "stream",
     "text": [
      "[debug] initial sensitivity [(104.0, 1e+20), (126.0, 1e+20), (80.0, 140.0), (50.0, 1e+20), (80.0, 1e+20), (0.0, 1e+20), (-1e+20, 50.0), (50.0, 110.0), (-1e+20, 0.0)]\n",
      "[debug] constraint_nameY: Disp_Equipo2: 0.600produccion_A_50_100_0+1.200produccion_B_40_120_80 <= 180\n",
      "[debug] constraint_nameY type: <class 'docplex.mp.constr.LinearConstraint'>\n",
      "[debug] for c_sens, (lower, upper): Disp_Equipo1: 0.800produccion_A_50_100_0+0.800produccion_B_40_120_80+0.300produccion_C_30_999999999999999_0 <= 160 (104.0, 1e+20)\n",
      "[debug] for c_sens, (lower, upper): Disp_Equipo2: 0.600produccion_A_50_100_0+1.200produccion_B_40_120_80 <= 180 (126.0, 1e+20)\n",
      "---Initial lower bound: 126.0\n",
      "---\n",
      "- Adjusting RHS to: 126.0\n",
      "* Production model solved with objective: 5700\n",
      "* Total benefit=5700\n",
      "Production of A: 50.0\n",
      "Production of B: 80.0\n",
      "Production of C: 0\n",
      "---Initial upper bound: 1e+20\n",
      "---\n",
      "- Adjusting RHS to: 1e+20\n",
      "* Production model solved with objective: 5700\n",
      "* Total benefit=5700\n",
      "Production of A: 50.0\n",
      "Production of B: 80.0\n",
      "Production of C: 0\n",
      "[debug] Viendo para rhs: 125.99\n",
      "---\n",
      "- Adjusting RHS to: 125.99\n",
      "* Production model solved with objective: 5699.67\n",
      "* Total benefit=5699.67\n",
      "Production of A: 49.98333333333332\n",
      "Production of B: 80.0\n",
      "Production of C: 0.01666666666667993\n",
      "[debug al append] rhs: 125.99\n",
      "[debug al append] c_sens.rhs.constant: 125.99\n",
      "[debug] sensitivity [(103.99166666666666, 1e+20), (96.0, 126.0), (109.99, 222.01666666666668), (49.98333333333332, 1e+20), (80.0, 1e+20), (0.0, 1e+20), (-1e+20, 49.98333333333332), (79.94999999999996, 104.99166666666666), (-1e+20, 0.01666666666667993)]\n",
      "---\n",
      "- Adjusting RHS to: 96.0\n",
      "* Production model solved with objective: 4700\n",
      "* Total benefit=4700\n",
      "Production of A: 0\n",
      "Production of B: 80.0\n",
      "Production of C: 50.0\n",
      "[debug] Viendo para rhs: 95.99\n",
      "---\n",
      "- Adjusting RHS to: 95.99\n",
      "No solution found for RHS value: 95.99\n",
      "[debug] Viendo para rhs: 1e+20\n",
      "[debug] for c_sens, (lower, upper): Disp_Equipo3: 0.600produccion_A_50_100_0+produccion_B_40_120_80+0.600produccion_C_30_999999999999999_0 <= 110 (80.0, 140.0)\n",
      "[debug] for c_sens, (lower, upper): DemandMax_A: produccion_A_50_100_0 <= 100 (50.0, 1e+20)\n",
      "[debug] for c_sens, (lower, upper): DemandMax_B: produccion_B_40_120_80 <= 120 (80.0, 1e+20)\n",
      "[debug] for c_sens, (lower, upper): DemandMax_C: produccion_C_30_999999999999999_0 <= 999999999999999 (0.0, 1e+20)\n",
      "[debug] for c_sens, (lower, upper): DemandMin_A: produccion_A_50_100_0 >= 0 (-1e+20, 50.0)\n",
      "[debug] for c_sens, (lower, upper): DemandMin_B: produccion_B_40_120_80 >= 80 (50.0, 110.0)\n",
      "[debug] for c_sens, (lower, upper): DemandMin_C: produccion_C_30_999999999999999_0 >= 0 (-1e+20, 0.0)\n"
     ]
    }
   ],
   "source": [
    "### AHORA CON DISP EQUIPO *2*.\n",
    "# Usage of the iterate_over_rhs method\n",
    "constraint_nameX = 'Disp_Equipo2'  # The name of the constraint X to analyze\n",
    "constraint_nameY = mdl.get_constraint_by_name(constraint_nameX)  # The name of the constraint X to analyze\n",
    "\n",
    "real_rhs_value = iterate_over_rhs(constraint_nameX, constraint_nameY)"
   ]
  },
  {
   "cell_type": "code",
   "execution_count": null,
   "id": "4bd6ae33",
   "metadata": {},
   "outputs": [
    {
     "name": "stdout",
     "output_type": "stream",
     "text": [
      "rhs_values: [180, 126.0, 126.0, 96.0]\n",
      "real_rhs_value: 180\n",
      "dual_values: [0, 0, 33.333333333333336, 33.333333333333336]\n",
      "\n",
      "constraint_nameX: Disp_Equipo2\n",
      "constraint_nameY: Disp_Equipo2: 0.600produccion_A_50_100_0+1.200produccion_B_40_120_80 <= 95.99\n",
      "\n",
      "mdl: docplex.mp.Model['guia5problematipo2']\n",
      "mdl: None\n"
     ]
    }
   ],
   "source": [
    "### Debug _ viendo\n",
    "print(\"rhs_values:\",rhs_values)\n",
    "print(\"real_rhs_value:\",real_rhs_value) # es el actual, el bi\n",
    "print(\"dual_values:\", dual_values)\n",
    "print(\"\")\n",
    "print(\"constraint_nameX:\", constraint_nameX)\n",
    "print(\"constraint_nameY:\", constraint_nameY)\n",
    "print(\"\")\n",
    "print(\"mdl:\", mdl)\n",
    "print(\"mdl:\", mdl.solution)\n",
    "# if 0 not in rhs_values, significa que antes de su mín es incompatible.. revisar"
   ]
  },
  {
   "cell_type": "code",
   "execution_count": null,
   "id": "af091bdd",
   "metadata": {},
   "outputs": [
    {
     "name": "stdout",
     "output_type": "stream",
     "text": [
      "pairs [(180, 0), (126.0, 0), (126.0, 33.333333333333336), (96.0, 33.333333333333336)]\n",
      "pairs [(96.0, 33.333333333333336), (126.0, 33.333333333333336), (126.0, 0), (180, 0)]\n",
      "new_rhs [96.0, 126.0, 126.0, 180]\n",
      "new_dual [33.333333333333336, 33.333333333333336, 0, 0]\n"
     ]
    }
   ],
   "source": [
    "### Mejora1\n",
    "# Armo pares y los ordeno según 'x'\n",
    "pairs = []\n",
    "for i in range(len(rhs_values)):\n",
    "    pairs.append((rhs_values[i], dual_values[i]))\n",
    "\n",
    "print(\"pairs\", pairs)\n",
    "\n",
    "#pairs.sort()\n",
    "# Ordeno ascendentemente por la primera componente y desc por la segunda si hay empates\n",
    "pairs.sort(key=lambda x: (x[0], -x[1]))\n",
    "\n",
    "print(\"pairs\", pairs)\n",
    "\n",
    "## Agrego acá la Mejora 2: elimino el 'infinito' si está\n",
    "#print(\"aux:\", pairs[-1][0])\n",
    "# Podría No appendearse el infinito directam, tmb\n",
    "# if pairs[-1][0] == mdl.infinity:\n",
    "#     pairs.pop()\n",
    "#     print(\"pairs\", pairs)\n",
    "# Esto ya no es necesario xq la agregué en la función iterate.\n",
    "\n",
    "# Los vuelvo a separar en listas, para no cambiar la función plot\n",
    "new_rhs, new_dual = [], []\n",
    "for elem in pairs:\n",
    "    new_rhs.append(elem[0])\n",
    "    new_dual.append(elem[1])\n",
    "print(\"new_rhs\", new_rhs)\n",
    "print(\"new_dual\", new_dual)"
   ]
  },
  {
   "cell_type": "code",
   "execution_count": null,
   "id": "4b665e1f",
   "metadata": {},
   "outputs": [],
   "source": [
    "def get_text_for_plot(xunit, yunit):\n",
    "    xlabel='{0} {1}'.format(constraint_nameX, xunit)\n",
    "    ylabel='Valor Marginal \\n {0} \\n{1}'.format(constraint_nameX, yunit)\n",
    "    title='Valor Marginal {}'.format(constraint_nameX)\n",
    "    \n",
    "    return {\"xlabel\": xlabel, \"ylabel\": ylabel, \"title\": title}"
   ]
  },
  {
   "cell_type": "code",
   "execution_count": null,
   "id": "1525d48a",
   "metadata": {},
   "outputs": [
    {
     "name": "stdout",
     "output_type": "stream",
     "text": [
      "plt.hline dual_values[i], rhs_values[i], rhs_values[i + 1]: 33.333333333333336 96.0 126.0\n",
      "plt.hline dual_values[i], rhs_values[i], rhs_values[i + 1]: 33.333333333333336 126.0 126.0\n",
      "plt.hline dual_values[i], rhs_values[i], rhs_values[i + 1]: 0 126.0 180\n",
      "[debug], returned ticks: [<matplotlib.axis.XTick object at 0x74eea9d4b9a0>, <matplotlib.axis.XTick object at 0x74eea9d4b970>, <matplotlib.axis.XTick object at 0x74eea9d4b460>, <matplotlib.axis.XTick object at 0x74eea9d029a0>]\n",
      "[debug] real_rhs_value: 180\n"
     ]
    },
    {
     "data": {
      "image/png": "[encoded data removed]",
      "text/plain": [
       "<Figure size 640x480 with 1 Axes>"
      ]
     },
     "metadata": {},
     "output_type": "display_data"
    },
    {
     "data": {
      "text/plain": [
       "<Figure size 2000x1000 with 0 Axes>"
      ]
     },
     "metadata": {},
     "output_type": "display_data"
    }
   ],
   "source": [
    "# AHORA SÍ GRAFICO\n",
    "plot_text = get_text_for_plot(\"[hs/mes]\", \"[$/un]\")\n",
    "plot(new_rhs, new_dual, real_rhs_value, plot_text)"
   ]
  }
 ],
 "metadata": {
  "language_info": {
   "name": "python",
   "pygments_lexer": "ipython3"
  }
 },
 "nbformat": 4,
 "nbformat_minor": 5
}
