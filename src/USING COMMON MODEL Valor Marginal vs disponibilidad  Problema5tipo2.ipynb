{
 "cells": [
  {
   "cell_type": "code",
   "execution_count": null,
   "id": "bf341062",
   "metadata": {},
   "outputs": [
    {
     "name": "stdout",
     "output_type": "stream",
     "text": [
      "Model: guia5problematipo2\n",
      " - number of variables: 3\n",
      "   - binary=0, integer=0, continuous=3\n",
      " - number of constraints: 9\n",
      "   - linear=9\n",
      " - parameters: defaults\n",
      " - objective: none\n",
      " - problem type is: LP\n",
      "* Production model solved with objective: 12800\n",
      "* Total benefit=12800\n",
      "Production of A: 0\n",
      "Production of B: 80.0\n",
      "Production of C: 320.0\n"
     ]
    }
   ],
   "source": [
    "# Cargar los datos y obtener el modelo\n",
    "from common import *\n",
    "#del perform_sensitivity_analysis ### AUX TEMP: ELIMINO EL IMPORT DE ESTA FN XQ ESTOY PROBANDO\n",
    "mdl, produccion_vars, products = create_model()\n",
    "solve_model(mdl, produccion_vars, products)"
   ]
  },
  {
   "cell_type": "code",
   "execution_count": null,
   "id": "bd23f3bd",
   "metadata": {},
   "outputs": [],
   "source": [
    "#***Added by JL - 2024 Mar 03th - Checking sensitivity analysis *****')\n",
    "\n",
    "# Initialize lists to store the results\n",
    "# rhs_values = []\n",
    "# dual_values = []\n",
    "\n",
    "#real_rhs_value = 0\n",
    "\n",
    "m = 0.01\n"
   ]
  },
  {
   "cell_type": "code",
   "execution_count": null,
   "id": "db0bd057",
   "metadata": {},
   "outputs": [],
   "source": [
    "# # Report values for the chart\n",
    "\n",
    "# def report(x_list, y_list, rhs_value, constraint_nameY):\n",
    "#     x_list.append(rhs_value)\n",
    "#     y_list.append(constraint_nameY.dual_value) #Diferencia con grafico Costo Op dem min B vs disp\n",
    "    \n"
   ]
  },
  {
   "cell_type": "code",
   "execution_count": null,
   "id": "671e9cbf",
   "metadata": {},
   "outputs": [],
   "source": [
    "#### PROBANDOOOOOOOOOOOO\n",
    "constraint_nameX = 'Disp_Equipo2'  # The name of the constraint X to analyze\n",
    "constraint_nameY = mdl.get_constraint_by_name(constraint_nameX)\n",
    "\n",
    "# # Perform sensitivity analysis of the RHS\n",
    "# ### Aux: VM, Funcional, costo op\n",
    "# # Constraint es el nombre de la restricción cuyos lower y upper bounds queremos obtener,\n",
    "# def perform_sensitivity_analysis(mdl, constraint):\n",
    "#     lp = LinearRelaxer.make_relaxed_model(mdl)\n",
    "#     lp.solve()\n",
    "#     cpx = lp.get_engine().get_cplex()\n",
    "\n",
    "#     rhs=cpx.solution.sensitivity.rhs()\n",
    "#     names = cpx.linear_constraints.get_names()\n",
    "#     print(\"[DEBUG] NOMBRES DE LAS RESTRICCIONES:\\n\", names)\n",
    "#     idx=names.index(constraint)\n",
    "#     print(f\"Lower y upper para restr: {constraint}: {rhs[idx]}\")\n",
    "    \n",
    "#     return rhs[idx]"
   ]
  },
  {
   "cell_type": "code",
   "execution_count": null,
   "id": "8f222b66",
   "metadata": {},
   "outputs": [],
   "source": [
    "# def iterate_left(c, lower):\n",
    "#     x_list = []\n",
    "#     y_list = []\n",
    "#     rhs = lower - m\n",
    "#     while True:\n",
    "#         print(\"[debug] Viendo para rhs:\", rhs)\n",
    "#         if rhs < 0:\n",
    "#             break ## Stop if the rhs is lower than 0                \n",
    "    \n",
    "#         solution = solve(c, rhs, mdl, products, produccion_vars)\n",
    "#         if solution is None:\n",
    "#             break  # Stop if the model is infeasible\n",
    "#         else:\n",
    "#             #report(rhs, constraint_nameY.dual_value) #Diferencia con grafico funcional vs disp\n",
    "#             #report(c_sens.rhs.constant, constraint_nameY.dual_value) ### Aux, veamos si así queda 126 y no 125.99\n",
    "#             print(\"[debug al append] rhs:\", rhs)\n",
    "#             print(\"[debug al append] c_sens.rhs.constant:\", c.rhs.constant)\n",
    "#             report(x_list, y_list, rhs + m, constraint_nameY.dual_value)\n",
    "            \n",
    "#         # Perform sensitivity analysis to get the new lower bound\n",
    "#         new_sensitivity = perform_sensitivity_analysis(mdl, constraint_nameX)\n",
    "#         print(\"[debug] sensitivity\", new_sensitivity)            \n",
    "#         # for c_new_sens, (new_lower, _) in zip(mdl.iter_constraints(), new_sensitivity):\n",
    "#         #     if c_new_sens.name == constraint_nameX: \n",
    "\n",
    "#         (new_lower, _) = new_sensitivity\n",
    "#         rhs = new_lower\n",
    "#         if rhs < 0:\n",
    "#             break ## Stop if the rhs is lower than 0                \n",
    "            \n",
    "#         solution = solve(c, rhs, mdl, products, produccion_vars)\n",
    "#         if solution is None:\n",
    "#             break  # Stop if the model is infeasible\n",
    "#         #report(c.rhs.constant, constraint_nameY.dual_value)\n",
    "#         report(x_list, y_list, rhs, constraint_nameY.dual_value)\n",
    "        \n",
    "#         rhs = new_lower - m #### aux: es para la sgte vuelta del while\n",
    "    \n",
    "#     return x_list, y_list\n",
    "    "
   ]
  },
  {
   "cell_type": "code",
   "execution_count": null,
   "id": "4feb25d0",
   "metadata": {},
   "outputs": [],
   "source": [
    "# def iterate_right(c, upper):\n",
    "#     x_list = []\n",
    "#     y_list = []\n",
    "#     rhs = upper + m\n",
    "    \n",
    "#     while True:\n",
    "#         print(\"[debug] Viendo para rhs:\", rhs)\n",
    "#         if rhs >= mdl.infinity:\n",
    "#             break ## Stop if the rhs reaches or exceeds infinity\n",
    "\n",
    "#         solution = solve(c, rhs, mdl, products, produccion_vars)\n",
    "#         if solution is None:\n",
    "#             break  # Stop if the model is infeasible\n",
    "#         else:\n",
    "#             report(x_list, y_list, rhs-m, constraint_nameY.dual_value) #Diferencia con grafico funcional vs disp\n",
    "\n",
    "#         # Perform sensitivity analysis to get the new upper bound\n",
    "#         new_sensitivity = perform_sensitivity_analysis(mdl, constraint_nameX)\n",
    "#         # for c_new_sens, (_, new_upper) in zip(mdl.iter_constraints(), new_sensitivity):\n",
    "#         #     if c_new_sens.name == constraint_nameX:\n",
    "#         (_, new_upper) = new_sensitivity\n",
    "#         rhs = new_upper\n",
    "#         if rhs >= mdl.infinity:\n",
    "#             break ## Stop if the rhs reaches or exceeds infinity\n",
    "\n",
    "#         solution = solve(c, rhs, mdl, products, produccion_vars)\n",
    "#         if solution is None:\n",
    "#             break  # Stop if the model is infeasible\n",
    "#         #report(c.rhs.constant, constraint_nameY.dual_value)\n",
    "#         report(x_list, y_list, rhs, constraint_nameY.dual_value)\n",
    "        \n",
    "#         rhs = new_upper + m\n",
    "        \n",
    "#     return x_list, y_list"
   ]
  },
  {
   "cell_type": "code",
   "execution_count": null,
   "id": "8c965a10",
   "metadata": {},
   "outputs": [],
   "source": [
    "# # pre: se resolvió el modelo y existe solución.\n",
    "# def iterate_over_rhs(constraint_nameX, constraint_nameY): # aux: var mdl, 'm', y funciones.\n",
    "#     # Inicializo listas para acumular los resultados\n",
    "#     rhs_values = []\n",
    "#     dual_values = []\n",
    "\n",
    "#     c = mdl.get_constraint_by_name(constraint_nameX)\n",
    "#     if c is None:\n",
    "#         print(\"Constraint with name '{0}' not found.\".format(constraint_nameX))\n",
    "#         return\n",
    "#     # Obtengo lower y upper iniciales\n",
    "#     initial_lower, initial_upper = perform_sensitivity_analysis(mdl, constraint_nameX)\n",
    "#     print(\"[debug] (lower, upper):\", (initial_lower, initial_upper)) \n",
    "\n",
    "#     # Obtengo punto actual\n",
    "#     current_rhs_value = c.rhs.constant\n",
    "#     current_dual_value = constraint_nameY.dual_value\n",
    "#     print(f\"[DEBUG] DUAL DE CURRENT_RHS: {constraint_nameY.dual_value}\")\n",
    "\n",
    "\n",
    "#     # Guardo puntos hacia atrás\n",
    "#     #Decrease rhs starting from lower bound - m\n",
    "#     left_x_list, left_y_list = iterate_left(c, initial_lower)\n",
    "#     rhs_values.extend(reversed(left_x_list))\n",
    "#     dual_values.extend(reversed(left_y_list))\n",
    "\n",
    "#     # Guardo lower inicial y upper inicial\n",
    "#     report(rhs_values, dual_values, initial_lower, current_dual_value) #aux: puede ser none xq sol infeaseable, pero recién en la sgte vuelta de lower-m (y no aća)\n",
    "#     report(rhs_values, dual_values, current_rhs_value, current_dual_value)\n",
    "#     rhs = initial_upper\n",
    "#     if rhs < mdl.infinity:\n",
    "#         report(rhs_values, dual_values, rhs, current_dual_value)\n",
    "    \n",
    "#     # Guardo puntos hacia adelante\n",
    "#     # Increase rhs starting from upper bound + m\n",
    "#     right_x_list, right_y_list = iterate_right(c, initial_upper)\n",
    "#     rhs_values.extend(right_x_list)\n",
    "#     dual_values.extend(right_y_list)\n",
    "    \n",
    "#     # Devuelvo el current\n",
    "#     current_rhs_value=current_rhs_value\n",
    "    \n",
    "#     return current_rhs_value, rhs_values, dual_values"
   ]
  },
  {
   "cell_type": "code",
   "execution_count": null,
   "id": "0f9251e9",
   "metadata": {},
   "outputs": [
    {
     "name": "stdout",
     "output_type": "stream",
     "text": [
      "\n",
      "\n",
      "mdl: docplex.mp.Model['guia5problematipo2']\n",
      "mdl: solution for: guia5problematipo2\n",
      "objective: 12800\n",
      "status: OPTIMAL_SOLUTION(2)\n",
      "produccion_B_40_120_80=80.000\n",
      "produccion_C_30_999999999999999_0=320.000\n",
      "\n"
     ]
    }
   ],
   "source": [
    "### Debug\n",
    "#print(\"rhs_values:\",rhs_values)\n",
    "#print(\"real_rhs_value:\",real_rhs_value) # aux: es el actual, el bi\n",
    "#print(\"dual_values:\", dual_values)\n",
    "print(\"\")\n",
    "#print(\"constraint_nameX:\", constraint_nameX)\n",
    "#print(\"constraint_nameY:\", constraint_nameY)\n",
    "print(\"\")\n",
    "print(\"mdl:\", mdl)\n",
    "print(\"mdl:\", mdl.solution)\n",
    "# if 0 not in rhs_values, significa que antes de su mín es incompatible.., revisar"
   ]
  },
  {
   "cell_type": "code",
   "execution_count": null,
   "id": "6bab410a",
   "metadata": {},
   "outputs": [
    {
     "name": "stdout",
     "output_type": "stream",
     "text": [
      "[DEBUG] NOMBRES DE LAS RESTRICCIONES:\n",
      " ['Disp_Equipo1', 'Disp_Equipo2', 'Disp_Equipo3', 'DemandMax_A', 'DemandMax_B', 'DemandMax_C', 'DemandMin_A', 'DemandMin_B', 'DemandMin_C']\n",
      "Lower y upper para restr: Disp_Equipo3: (272.0, 1e+20)\n",
      "[debug] (lower, upper): (272.0, 1e+20)\n",
      "[DEBUG] DUAL DE CURRENT_RHS: 0\n",
      "[debug] Viendo para rhs: 271.99\n",
      "---\n",
      "- Adjusting RHS to: 271.99\n",
      "* Production model solved with objective: 12799.7\n",
      "* Total benefit=12799.7\n",
      "Production of A: 0.010000000000005116\n",
      "Production of B: 80.0\n",
      "Production of C: 319.97333333333336\n",
      "[debug al append] rhs: 271.99\n",
      "[debug al append] c_sens.rhs.constant: 271.99\n",
      "[DEBUG] NOMBRES DE LAS RESTRICCIONES:\n",
      " ['Disp_Equipo1', 'Disp_Equipo2', 'Disp_Equipo3', 'DemandMax_A', 'DemandMax_B', 'DemandMax_C', 'DemandMin_A', 'DemandMin_B', 'DemandMin_C']\n",
      "Lower y upper para restr: Disp_Equipo3: (172.0, 272.0)\n",
      "[debug] sensitivity (172.0, 272.0)\n",
      "---\n",
      "- Adjusting RHS to: 172.0\n",
      "* Production model solved with objective: 9800\n",
      "* Total benefit=9800\n",
      "Production of A: 100.0\n",
      "Production of B: 80.0\n",
      "Production of C: 53.33333333333333\n",
      "[debug] Viendo para rhs: 171.99\n",
      "---\n",
      "- Adjusting RHS to: 171.99\n",
      "* Production model solved with objective: 9799.5\n",
      "* Total benefit=9799.5\n",
      "Production of A: 100.0\n",
      "Production of B: 80.0\n",
      "Production of C: 53.31666666666669\n",
      "[debug al append] rhs: 171.99\n",
      "[debug al append] c_sens.rhs.constant: 171.99\n",
      "[DEBUG] NOMBRES DE LAS RESTRICCIONES:\n",
      " ['Disp_Equipo1', 'Disp_Equipo2', 'Disp_Equipo3', 'DemandMax_A', 'DemandMax_B', 'DemandMax_C', 'DemandMin_A', 'DemandMin_B', 'DemandMin_C']\n",
      "Lower y upper para restr: Disp_Equipo3: (140.0, 172.0)\n",
      "[debug] sensitivity (140.0, 172.0)\n",
      "---\n",
      "- Adjusting RHS to: 140.0\n",
      "* Production model solved with objective: 8200\n",
      "* Total benefit=8200\n",
      "Production of A: 100.0\n",
      "Production of B: 80.0\n",
      "Production of C: 0\n",
      "[debug] Viendo para rhs: 139.99\n",
      "---\n",
      "- Adjusting RHS to: 139.99\n",
      "* Production model solved with objective: 8199.17\n",
      "* Total benefit=8199.17\n",
      "Production of A: 99.98333333333335\n",
      "Production of B: 80.0\n",
      "Production of C: 0\n",
      "[debug al append] rhs: 139.99\n",
      "[debug al append] c_sens.rhs.constant: 139.99\n",
      "[DEBUG] NOMBRES DE LAS RESTRICCIONES:\n",
      " ['Disp_Equipo1', 'Disp_Equipo2', 'Disp_Equipo3', 'DemandMax_A', 'DemandMax_B', 'DemandMax_C', 'DemandMin_A', 'DemandMin_B', 'DemandMin_C']\n",
      "Lower y upper para restr: Disp_Equipo3: (80.0, 140.0)\n",
      "[debug] sensitivity (80.0, 140.0)\n",
      "---\n",
      "- Adjusting RHS to: 80.0\n",
      "* Production model solved with objective: 3200\n",
      "* Total benefit=3200\n",
      "Production of A: 0\n",
      "Production of B: 80.0\n",
      "Production of C: 0\n",
      "[debug] Viendo para rhs: 79.99\n",
      "---\n",
      "- Adjusting RHS to: 79.99\n",
      "No solution found for RHS value: 79.99\n",
      "[debug] Viendo para rhs: 1e+20\n"
     ]
    }
   ],
   "source": [
    "# Usage of the iterate_over_rhs method\n",
    "constraint_nameX = 'Disp_Equipo3'  # The name of the constraint X to analyze\n",
    "constraint_nameY = mdl.get_constraint_by_name('Disp_Equipo3') # The name of the constraint Y to analyze\n",
    "\n",
    "current_rhs_value, rhs_values, dual_values = iterate_over_rhs(constraint_nameX, constraint_nameY, mdl, products, produccion_vars, vm_get_y)"
   ]
  },
  {
   "cell_type": "code",
   "execution_count": null,
   "id": "5278522f",
   "metadata": {},
   "outputs": [
    {
     "name": "stdout",
     "output_type": "stream",
     "text": [
      "rhs_values: [80.0, 140.0, 140.0, 172.0, 172.0, 272.0, 272.0, 300]\n",
      "real_rhs_value: 300\n",
      "dual_values: [83.33333333333334, 83.33333333333334, 50.0, 50.0, 30.000000000000007, 30.000000000000007, 0, 0]\n",
      "\n",
      "constraint_nameX: Disp_Equipo3\n",
      "constraint_nameY: Disp_Equipo3: 0.600produccion_A_50_100_0+produccion_B_40_120_80+0.600produccion_C_30_999999999999999_0 <= 79.99\n",
      "\n",
      "mdl: docplex.mp.Model['guia5problematipo2']\n",
      "mdl: None\n"
     ]
    }
   ],
   "source": [
    "### Debug _ Notar que quedó en 12800 el Z, al terminar de iterar\n",
    "print(\"rhs_values:\",rhs_values)\n",
    "print(\"real_rhs_value:\",current_rhs_value) # es el actual, el bi\n",
    "print(\"dual_values:\", dual_values)\n",
    "print(\"\")\n",
    "print(\"constraint_nameX:\", constraint_nameX)\n",
    "print(\"constraint_nameY:\", constraint_nameY)\n",
    "print(\"\")\n",
    "print(\"mdl:\", mdl)\n",
    "print(\"mdl:\", mdl.solution) # por eso esto printea basura (no es la solución óptima de verdad)\n",
    "# if 0 not in rhs_values, significa que antes de su mín es incompatible.., revisar"
   ]
  },
  {
   "cell_type": "code",
   "execution_count": null,
   "id": "31a83080",
   "metadata": {},
   "outputs": [],
   "source": []
  },
  {
   "cell_type": "markdown",
   "id": "7f7e5ae2",
   "metadata": {},
   "source": [
    "# Entonces, las dos mejoras\n",
    "## Cambiando la restricción para el análisis y el gráfico, y las mejoras son ordenar la lista y sacar el 'infinito' del final"
   ]
  },
  {
   "cell_type": "code",
   "execution_count": null,
   "id": "80a94d17",
   "metadata": {},
   "outputs": [
    {
     "name": "stdout",
     "output_type": "stream",
     "text": [
      "Model: guia5problematipo2\n",
      " - number of variables: 3\n",
      "   - binary=0, integer=0, continuous=3\n",
      " - number of constraints: 9\n",
      "   - linear=9\n",
      " - parameters: defaults\n",
      " - objective: none\n",
      " - problem type is: LP\n",
      "* Production model solved with objective: 12800\n",
      "* Total benefit=12800\n",
      "Production of A: 0\n",
      "Production of B: 80.0\n",
      "Production of C: 320.0\n"
     ]
    }
   ],
   "source": [
    "### EJECUTAR ESTO DE NUEVO PARA QUE MDL NO HAYA QUEDADO VALIENDO NONE DE UNA ITERACIÓN ANTERIOR\n",
    "#from common import *\n",
    "#del perform_sensitivity_analysis ### AUX TEMP: ELIMINO EL IMPORT DE ESTA FN XQ ESTOY PROBANDO\n",
    "mdl, produccion_vars, products = create_model()\n",
    "solve_model(mdl, produccion_vars, products)\n",
    "\n",
    "### E INICIALIZAR LISTAS DE NUEVO PARA QUE NO ACUMULEN SOBRE LO DE LA CORRIDA ANTERIOR\n",
    "# Initialize lists to store the results\n",
    "# rhs_values = []\n",
    "# dual_values = []\n",
    "\n",
    "#real_rhs_value = 0\n",
    "\n",
    "m = 0.01"
   ]
  },
  {
   "cell_type": "code",
   "execution_count": null,
   "id": "e1717cbe",
   "metadata": {},
   "outputs": [
    {
     "name": "stdout",
     "output_type": "stream",
     "text": [
      "[DEBUG] NOMBRES DE LAS RESTRICCIONES:\n",
      " ['Disp_Equipo1', 'Disp_Equipo2', 'Disp_Equipo3', 'DemandMax_A', 'DemandMax_B', 'DemandMax_C', 'DemandMin_A', 'DemandMin_B', 'DemandMin_C']\n",
      "Lower y upper para restr: Disp_Equipo3: (272.0, 1e+20)\n",
      "[debug] (lower, upper): (272.0, 1e+20)\n",
      "[DEBUG] DUAL DE CURRENT_RHS: 0\n",
      "[debug] Viendo para rhs: 271.99\n",
      "---\n",
      "- Adjusting RHS to: 271.99\n",
      "* Production model solved with objective: 12799.7\n",
      "* Total benefit=12799.7\n",
      "Production of A: 0.010000000000005116\n",
      "Production of B: 80.0\n",
      "Production of C: 319.97333333333336\n",
      "[debug al append] rhs: 271.99\n",
      "[debug al append] c_sens.rhs.constant: 271.99\n",
      "[DEBUG] NOMBRES DE LAS RESTRICCIONES:\n",
      " ['Disp_Equipo1', 'Disp_Equipo2', 'Disp_Equipo3', 'DemandMax_A', 'DemandMax_B', 'DemandMax_C', 'DemandMin_A', 'DemandMin_B', 'DemandMin_C']\n",
      "Lower y upper para restr: Disp_Equipo3: (172.0, 272.0)\n",
      "[debug] sensitivity (172.0, 272.0)\n",
      "---\n",
      "- Adjusting RHS to: 172.0\n",
      "* Production model solved with objective: 9800\n",
      "* Total benefit=9800\n",
      "Production of A: 100.0\n",
      "Production of B: 80.0\n",
      "Production of C: 53.33333333333333\n",
      "[debug] Viendo para rhs: 171.99\n",
      "---\n",
      "- Adjusting RHS to: 171.99\n",
      "* Production model solved with objective: 9799.5\n",
      "* Total benefit=9799.5\n",
      "Production of A: 100.0\n",
      "Production of B: 80.0\n",
      "Production of C: 53.31666666666669\n",
      "[debug al append] rhs: 171.99\n",
      "[debug al append] c_sens.rhs.constant: 171.99\n",
      "[DEBUG] NOMBRES DE LAS RESTRICCIONES:\n",
      " ['Disp_Equipo1', 'Disp_Equipo2', 'Disp_Equipo3', 'DemandMax_A', 'DemandMax_B', 'DemandMax_C', 'DemandMin_A', 'DemandMin_B', 'DemandMin_C']\n",
      "Lower y upper para restr: Disp_Equipo3: (140.0, 172.0)\n",
      "[debug] sensitivity (140.0, 172.0)\n",
      "---\n",
      "- Adjusting RHS to: 140.0\n",
      "* Production model solved with objective: 8200\n",
      "* Total benefit=8200\n",
      "Production of A: 100.0\n",
      "Production of B: 80.0\n",
      "Production of C: 0\n",
      "[debug] Viendo para rhs: 139.99\n",
      "---\n",
      "- Adjusting RHS to: 139.99\n",
      "* Production model solved with objective: 8199.17\n",
      "* Total benefit=8199.17\n",
      "Production of A: 99.98333333333335\n",
      "Production of B: 80.0\n",
      "Production of C: 0\n",
      "[debug al append] rhs: 139.99\n",
      "[debug al append] c_sens.rhs.constant: 139.99\n",
      "[DEBUG] NOMBRES DE LAS RESTRICCIONES:\n",
      " ['Disp_Equipo1', 'Disp_Equipo2', 'Disp_Equipo3', 'DemandMax_A', 'DemandMax_B', 'DemandMax_C', 'DemandMin_A', 'DemandMin_B', 'DemandMin_C']\n",
      "Lower y upper para restr: Disp_Equipo3: (80.0, 140.0)\n",
      "[debug] sensitivity (80.0, 140.0)\n",
      "---\n",
      "- Adjusting RHS to: 80.0\n",
      "* Production model solved with objective: 3200\n",
      "* Total benefit=3200\n",
      "Production of A: 0\n",
      "Production of B: 80.0\n",
      "Production of C: 0\n",
      "[debug] Viendo para rhs: 79.99\n",
      "---\n",
      "- Adjusting RHS to: 79.99\n",
      "No solution found for RHS value: 79.99\n",
      "[debug] Viendo para rhs: 1e+20\n"
     ]
    }
   ],
   "source": [
    "### AHORA CON DISP EQUIPO *2*.\n",
    "# Usage of the iterate_over_rhs method\n",
    "constraint_nameX = 'Disp_Equipo3'  # The name of the constraint X to analyze\n",
    "constraint_nameY = mdl.get_constraint_by_name(constraint_nameX)  # The name of the constraint X to analyze\n",
    "\n",
    "current_rhs_value, rhs_values, dual_values = iterate_over_rhs(constraint_nameX, constraint_nameY, mdl, products, produccion_vars, vm_get_y)"
   ]
  },
  {
   "cell_type": "code",
   "execution_count": null,
   "id": "4bd6ae33",
   "metadata": {},
   "outputs": [
    {
     "name": "stdout",
     "output_type": "stream",
     "text": [
      "rhs_values: [80.0, 140.0, 140.0, 172.0, 172.0, 272.0, 272.0, 300]\n",
      "real_rhs_value: 300\n",
      "dual_values: [83.33333333333334, 83.33333333333334, 50.0, 50.0, 30.000000000000007, 30.000000000000007, 0, 0]\n",
      "\n",
      "constraint_nameX: Disp_Equipo3\n",
      "constraint_nameY: Disp_Equipo3: 0.600produccion_A_50_100_0+produccion_B_40_120_80+0.600produccion_C_30_999999999999999_0 <= 79.99\n",
      "\n",
      "mdl: docplex.mp.Model['guia5problematipo2']\n",
      "mdl: None\n"
     ]
    }
   ],
   "source": [
    "### Debug _ viendo\n",
    "print(\"rhs_values:\",rhs_values)\n",
    "print(\"real_rhs_value:\",current_rhs_value) # es el actual, el bi\n",
    "print(\"dual_values:\", dual_values)\n",
    "print(\"\")\n",
    "print(\"constraint_nameX:\", constraint_nameX)\n",
    "print(\"constraint_nameY:\", constraint_nameY)\n",
    "print(\"\")\n",
    "print(\"mdl:\", mdl)\n",
    "print(\"mdl:\", mdl.solution)\n",
    "# if 0 not in rhs_values, significa que antes de su mín es incompatible.. revisar"
   ]
  },
  {
   "cell_type": "code",
   "execution_count": null,
   "id": "4b665e1f",
   "metadata": {},
   "outputs": [],
   "source": [
    "def get_text_for_plot(xunit, yunit):\n",
    "    xlabel='{0} {1}'.format(constraint_nameX, xunit)\n",
    "    ylabel='Valor Marginal \\n {0} \\n{1}'.format(constraint_nameX, yunit)\n",
    "    title='Valor Marginal {}'.format(constraint_nameX)\n",
    "    \n",
    "    return {\"xlabel\": xlabel, \"ylabel\": ylabel, \"title\": title}"
   ]
  },
  {
   "cell_type": "code",
   "execution_count": null,
   "id": "1525d48a",
   "metadata": {},
   "outputs": [
    {
     "name": "stdout",
     "output_type": "stream",
     "text": [
      "plt.hline dual_values[i], rhs_values[i], rhs_values[i + 1]: 83.33333333333334 80.0 140.0\n",
      "plt.hline dual_values[i], rhs_values[i], rhs_values[i + 1]: 83.33333333333334 140.0 140.0\n",
      "plt.hline dual_values[i], rhs_values[i], rhs_values[i + 1]: 50.0 140.0 172.0\n",
      "plt.hline dual_values[i], rhs_values[i], rhs_values[i + 1]: 50.0 172.0 172.0\n",
      "plt.hline dual_values[i], rhs_values[i], rhs_values[i + 1]: 30.000000000000007 172.0 272.0\n",
      "plt.hline dual_values[i], rhs_values[i], rhs_values[i + 1]: 30.000000000000007 272.0 272.0\n",
      "plt.hline dual_values[i], rhs_values[i], rhs_values[i + 1]: 0 272.0 300\n",
      "[debug] current_x_value: 300\n"
     ]
    },
    {
     "data": {
      "image/png": "[encoded data removed]",
      "text/plain": [
       "<Figure size 640x480 with 1 Axes>"
      ]
     },
     "metadata": {},
     "output_type": "display_data"
    },
    {
     "data": {
      "text/plain": [
       "<Figure size 2000x1000 with 0 Axes>"
      ]
     },
     "metadata": {},
     "output_type": "display_data"
    }
   ],
   "source": [
    "# AHORA SÍ GRAFICO\n",
    "plot_text = get_text_for_plot(\"[hs/mes]\", \"[$/un]\")\n",
    "plot(rhs_values, dual_values, current_rhs_value, plot_text)"
   ]
  }
 ],
 "metadata": {
  "language_info": {
   "name": "python",
   "pygments_lexer": "ipython3"
  }
 },
 "nbformat": 4,
 "nbformat_minor": 5
}
