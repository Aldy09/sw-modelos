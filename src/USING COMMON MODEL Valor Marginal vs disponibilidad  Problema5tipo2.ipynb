{
 "cells": [
  {
   "cell_type": "code",
   "execution_count": null,
   "id": "bf341062",
   "metadata": {},
   "outputs": [
    {
     "name": "stdout",
     "output_type": "stream",
     "text": [
      "Model: guia5problematipo2\n",
      " - number of variables: 3\n",
      "   - binary=0, integer=0, continuous=3\n",
      " - number of constraints: 9\n",
      "   - linear=9\n",
      " - parameters: defaults\n",
      " - objective: none\n",
      " - problem type is: LP\n",
      "* Production model solved with objective: 5700\n",
      "* Total benefit=5700\n",
      "Production of A: 50.0\n",
      "Production of B: 80.0\n",
      "Production of C: 0\n"
     ]
    }
   ],
   "source": [
    "# Cargar los datos y obtener el modelo\n",
    "from common import *\n",
    "del perform_sensitivity_analysis ### AUX TEMP: ELIMINO EL IMPORT DE ESTA FN XQ ESTOY PROBANDO\n",
    "mdl, produccion_vars, products = create_model()\n",
    "solve_model(mdl, produccion_vars, products)"
   ]
  },
  {
   "cell_type": "code",
   "execution_count": null,
   "id": "bd23f3bd",
   "metadata": {},
   "outputs": [],
   "source": [
    "#***Added by JL - 2024 Mar 03th - Checking sensitivity analysis *****')\n",
    "\n",
    "# Initialize lists to store the results\n",
    "rhs_values = []\n",
    "dual_values = []\n",
    "\n",
    "#real_rhs_value = 0\n",
    "\n",
    "m = 0.01\n"
   ]
  },
  {
   "cell_type": "code",
   "execution_count": null,
   "id": "db0bd057",
   "metadata": {},
   "outputs": [],
   "source": [
    "# Report values for the chart\n",
    "\n",
    "def report(rhs_value, dual_value):\n",
    "    rhs_values.append(rhs_value)\n",
    "    dual_values.append(dual_value) #Diferencia con grafico Costo Op dem min B vs disp\n",
    "    \n"
   ]
  },
  {
   "cell_type": "code",
   "execution_count": null,
   "id": "671e9cbf",
   "metadata": {},
   "outputs": [],
   "source": [
    "#### PROBANDOOOOOOOOOOOO\n",
    "constraint_nameX = 'Disp_Equipo2'  # The name of the constraint X to analyze\n",
    "constraint_nameY = mdl.get_constraint_by_name(constraint_nameX)\n",
    "\n",
    "# Perform sensitivity analysis of the RHS\n",
    "### Aux: VM, Funcional, costo op\n",
    "# Constraint es el nombre de la restricción cuyos lower y upper bounds queremos obtener,\n",
    "def perform_sensitivity_analysis(mdl, constraint):\n",
    "    lp = LinearRelaxer.make_relaxed_model(mdl)\n",
    "    lp.solve()\n",
    "    cpx = lp.get_engine().get_cplex()\n",
    "\n",
    "    rhs=cpx.solution.sensitivity.rhs()\n",
    "    names = cpx.linear_constraints.get_names()\n",
    "    print(\"[DEBUG] NOMBRES DE LAS RESTRICCIONES:\\n\", names)\n",
    "    idx=names.index(constraint)\n",
    "    print(f\"Lower y upper para restr: {constraint}: {rhs[idx]}\")\n",
    "    \n",
    "    #return cpx.solution.sensitivity.rhs()\n",
    "    return rhs[idx]"
   ]
  },
  {
   "cell_type": "code",
   "execution_count": null,
   "id": "b0d55bd0",
   "metadata": {},
   "outputs": [
    {
     "name": "stdout",
     "output_type": "stream",
     "text": [
      "[DEBUG] NOMBRES DE LAS RESTRICCIONES:\n",
      " ['Disp_Equipo1', 'Disp_Equipo2', 'Disp_Equipo3', 'DemandMax_A', 'DemandMax_B', 'DemandMax_C', 'DemandMin_A', 'DemandMin_B', 'DemandMin_C']\n",
      "Lower y upper para restr: Disp_Equipo2: (126.0, 1e+20)\n"
     ]
    },
    {
     "data": {
      "text/plain": [
       "(126.0, 1e+20)"
      ]
     },
     "execution_count": 5,
     "metadata": {},
     "output_type": "execute_result"
    }
   ],
   "source": [
    "### PROBANDOOO\n",
    "constraint_nameX = 'Disp_Equipo2'  # The name of the constraint X to analyze\n",
    "constraint_nameY = mdl.get_constraint_by_name(constraint_nameX)\n",
    "\n",
    "perform_sensitivity_analysis(mdl, constraint_nameX)"
   ]
  },
  {
   "cell_type": "code",
   "execution_count": null,
   "id": "8c965a10",
   "metadata": {},
   "outputs": [],
   "source": [
    "def iterate_over_rhs(constraint_nameX, constraint_nameY): # aux: var mdl, 'm', y funciones.\n",
    "    c = mdl.get_constraint_by_name(constraint_nameX)\n",
    "    if c is None:\n",
    "        print(\"Constraint with name '{0}' not found.\".format(constraint_nameX))\n",
    "        return\n",
    "            \n",
    "    # Perform initial sensitivity analysis to get the starting lower and upper bounds\n",
    "    initial_sensitivity = perform_sensitivity_analysis(mdl, constraint_nameX) # Aux: obtiene (lower, upper)\n",
    "    print(\"[debug] initial sensitivity\", initial_sensitivity)\n",
    "    print(\"[debug] constraint_nameY:\", constraint_nameY)\n",
    "    print(\"[debug] constraint_nameY type:\", type(constraint_nameY))\n",
    "    \n",
    "    # # Find the sensitivity range for the specified constraint\n",
    "    # for c_sens, (lower, upper) in zip(mdl.iter_constraints(), initial_sensitivity):\n",
    "    #     print(\"[debug] for c_sens, (lower, upper):\", c_sens, (lower, upper))\n",
    "    #     if c_sens.name == constraint_nameX:\n",
    "\n",
    "    (lower, upper) = initial_sensitivity\n",
    "    print(\"[debug] (lower, upper):\", (lower, upper))\n",
    "\n",
    "    # Report the real RHS value for the chart\n",
    "    #global real_rhs_value #use the global keyword to declare that you want the function to update the global variable\n",
    "    real_rhs_value = c.rhs.constant ### aux: ok agrega el actual, es una cte aparte\n",
    "    report(real_rhs_value, constraint_nameY.dual_value)\n",
    "\n",
    "\n",
    "    # *********Store and report the initial lower and upper bounds for the chart*********\n",
    "    print(\"---Initial lower bound: {0}\".format(lower))\n",
    "    rhs = lower\n",
    "    solution = solve(c, rhs, mdl, products, produccion_vars)\n",
    "    if solution is not None:\n",
    "        report(rhs, constraint_nameY.dual_value)\n",
    "\n",
    "    print(\"---Initial upper bound: {0}\".format(upper))\n",
    "    rhs = upper\n",
    "    solution = solve(c, rhs, mdl, products, produccion_vars)\n",
    "    if solution is not None and rhs < mdl.infinity:\n",
    "        report(rhs, constraint_nameY.dual_value)\n",
    "    # ********* End of lower and upper bounds *********\n",
    "    \n",
    "    \n",
    "    #Decrease rhs starting from lower bound - m\n",
    "    rhs = lower - m\n",
    "    while True:\n",
    "        print(\"[debug] Viendo para rhs:\", rhs)\n",
    "        if rhs < 0:\n",
    "            break ## Stop if the rhs is lower than 0                \n",
    "    \n",
    "        solution = solve(c, rhs, mdl, products, produccion_vars)\n",
    "        if solution is None:\n",
    "            break  # Stop if the model is infeasible\n",
    "        else:\n",
    "            #report(rhs, constraint_nameY.dual_value) #Diferencia con grafico funcional vs disp\n",
    "            #report(c_sens.rhs.constant, constraint_nameY.dual_value) ### Aux, veamos si así queda 126 y no 125.99\n",
    "            print(\"[debug al append] rhs:\", rhs)\n",
    "            print(\"[debug al append] c_sens.rhs.constant:\", c.rhs.constant)\n",
    "            report(rhs + m, constraint_nameY.dual_value)\n",
    "            \n",
    "        # Perform sensitivity analysis to get the new lower bound\n",
    "        new_sensitivity = perform_sensitivity_analysis(mdl, constraint_nameX)\n",
    "        print(\"[debug] sensitivity\", new_sensitivity)            \n",
    "        # for c_new_sens, (new_lower, _) in zip(mdl.iter_constraints(), new_sensitivity):\n",
    "        #     if c_new_sens.name == constraint_nameX: \n",
    "\n",
    "        (new_lower, _) = new_sensitivity\n",
    "        rhs = new_lower\n",
    "        if rhs < 0:\n",
    "            break ## Stop if the rhs is lower than 0                \n",
    "            \n",
    "        solution = solve(c, rhs, mdl, products, produccion_vars)\n",
    "        if solution is None:\n",
    "            break  # Stop if the model is infeasible\n",
    "        #report(c.rhs.constant, constraint_nameY.dual_value)\n",
    "        report(rhs, constraint_nameY.dual_value)\n",
    "        \n",
    "        rhs = new_lower - m #### aux: es para la sgte vuelta del while\n",
    "\n",
    "\n",
    "    # Increase rhs starting from upper bound + m\n",
    "    rhs = upper + m\n",
    "    \n",
    "    while True:\n",
    "        print(\"[debug] Viendo para rhs:\", rhs)\n",
    "        if rhs >= mdl.infinity:\n",
    "            break ## Stop if the rhs reaches or exceeds infinity\n",
    "\n",
    "        solution = solve(c, rhs, mdl, products, produccion_vars)\n",
    "        if solution is None:\n",
    "            break  # Stop if the model is infeasible\n",
    "        else:\n",
    "            report(rhs-m, constraint_nameY.dual_value) #Diferencia con grafico funcional vs disp\n",
    "\n",
    "        # Perform sensitivity analysis to get the new upper bound\n",
    "        new_sensitivity = perform_sensitivity_analysis(mdl, constraint_nameX)\n",
    "        # for c_new_sens, (_, new_upper) in zip(mdl.iter_constraints(), new_sensitivity):\n",
    "        #     if c_new_sens.name == constraint_nameX:\n",
    "        (_, new_upper) = new_sensitivity\n",
    "        rhs = new_upper\n",
    "        if rhs >= mdl.infinity:\n",
    "            break ## Stop if the rhs reaches or exceeds infinity\n",
    "\n",
    "        solution = solve(c, rhs, mdl, products, produccion_vars)\n",
    "        if solution is None:\n",
    "            break  # Stop if the model is infeasible\n",
    "        #report(c.rhs.constant, constraint_nameY.dual_value)\n",
    "        report(rhs, constraint_nameY.dual_value)\n",
    "        \n",
    "        rhs = new_upper + m\n",
    "        \n",
    "    return real_rhs_value"
   ]
  },
  {
   "cell_type": "code",
   "execution_count": null,
   "id": "0f9251e9",
   "metadata": {},
   "outputs": [
    {
     "name": "stdout",
     "output_type": "stream",
     "text": [
      "rhs_values: []\n",
      "dual_values: []\n",
      "\n",
      "\n",
      "mdl: docplex.mp.Model['guia5problematipo2']\n",
      "mdl: solution for: guia5problematipo2\n",
      "objective: 5700\n",
      "status: OPTIMAL_SOLUTION(2)\n",
      "produccion_A_50_100_0=50.000\n",
      "produccion_B_40_120_80=80.000\n",
      "\n"
     ]
    }
   ],
   "source": [
    "### Debug\n",
    "print(\"rhs_values:\",rhs_values)\n",
    "#print(\"real_rhs_value:\",real_rhs_value) # aux: es el actual, el bi\n",
    "print(\"dual_values:\", dual_values)\n",
    "print(\"\")\n",
    "#print(\"constraint_nameX:\", constraint_nameX)\n",
    "#print(\"constraint_nameY:\", constraint_nameY)\n",
    "print(\"\")\n",
    "print(\"mdl:\", mdl)\n",
    "print(\"mdl:\", mdl.solution)\n",
    "# if 0 not in rhs_values, significa que antes de su mín es incompatible.., revisar"
   ]
  },
  {
   "cell_type": "code",
   "execution_count": null,
   "id": "6bab410a",
   "metadata": {},
   "outputs": [
    {
     "name": "stdout",
     "output_type": "stream",
     "text": [
      "[DEBUG] NOMBRES DE LAS RESTRICCIONES:\n",
      " ['Disp_Equipo1', 'Disp_Equipo2', 'Disp_Equipo3', 'DemandMax_A', 'DemandMax_B', 'DemandMax_C', 'DemandMin_A', 'DemandMin_B', 'DemandMin_C']\n",
      "Lower y upper para restr: Disp_Equipo3: (80.0, 140.0)\n",
      "[debug] initial sensitivity (80.0, 140.0)\n",
      "[debug] constraint_nameY: Disp_Equipo3: 0.600produccion_A_50_100_0+produccion_B_40_120_80+0.600produccion_C_30_999999999999999_0 <= 110\n",
      "[debug] constraint_nameY type: <class 'docplex.mp.constr.LinearConstraint'>\n",
      "[debug] (lower, upper): (80.0, 140.0)\n",
      "---Initial lower bound: 80.0\n",
      "---\n",
      "- Adjusting RHS to: 80.0\n",
      "* Production model solved with objective: 3200\n",
      "* Total benefit=3200\n",
      "Production of A: 0\n",
      "Production of B: 80.0\n",
      "Production of C: 0\n",
      "---Initial upper bound: 140.0\n",
      "---\n",
      "- Adjusting RHS to: 140.0\n",
      "* Production model solved with objective: 8200\n",
      "* Total benefit=8200\n",
      "Production of A: 100.0\n",
      "Production of B: 80.0\n",
      "Production of C: 0\n",
      "[debug] Viendo para rhs: 79.99\n",
      "---\n",
      "- Adjusting RHS to: 79.99\n",
      "No solution found for RHS value: 79.99\n",
      "[debug] Viendo para rhs: 140.01\n",
      "---\n",
      "- Adjusting RHS to: 140.01\n",
      "* Production model solved with objective: 8200.5\n",
      "* Total benefit=8200.5\n",
      "Production of A: 100.0\n",
      "Production of B: 80.0\n",
      "Production of C: 0.01666666666665151\n",
      "[DEBUG] NOMBRES DE LAS RESTRICCIONES:\n",
      " ['Disp_Equipo1', 'Disp_Equipo2', 'Disp_Equipo3', 'DemandMax_A', 'DemandMax_B', 'DemandMax_C', 'DemandMin_A', 'DemandMin_B', 'DemandMin_C']\n",
      "Lower y upper para restr: Disp_Equipo3: (140.0, 172.0)\n",
      "---\n",
      "- Adjusting RHS to: 172.0\n",
      "* Production model solved with objective: 9800\n",
      "* Total benefit=9800\n",
      "Production of A: 100.0\n",
      "Production of B: 80.0\n",
      "Production of C: 53.33333333333334\n",
      "[debug] Viendo para rhs: 172.01\n",
      "---\n",
      "- Adjusting RHS to: 172.01\n",
      "* Production model solved with objective: 9800.3\n",
      "* Total benefit=9800.3\n",
      "Production of A: 99.99000000000001\n",
      "Production of B: 80.0\n",
      "Production of C: 53.359999999999985\n",
      "[DEBUG] NOMBRES DE LAS RESTRICCIONES:\n",
      " ['Disp_Equipo1', 'Disp_Equipo2', 'Disp_Equipo3', 'DemandMax_A', 'DemandMax_B', 'DemandMax_C', 'DemandMin_A', 'DemandMin_B', 'DemandMin_C']\n",
      "Lower y upper para restr: Disp_Equipo3: (172.0, 272.0)\n",
      "---\n",
      "- Adjusting RHS to: 272.0\n",
      "* Production model solved with objective: 12800\n",
      "* Total benefit=12800\n",
      "Production of A: 0\n",
      "Production of B: 80.0\n",
      "Production of C: 320.0\n",
      "[debug] Viendo para rhs: 272.01\n",
      "---\n",
      "- Adjusting RHS to: 272.01\n",
      "* Production model solved with objective: 12800\n",
      "* Total benefit=12800\n",
      "Production of A: 0\n",
      "Production of B: 80.0\n",
      "Production of C: 320.0\n",
      "[DEBUG] NOMBRES DE LAS RESTRICCIONES:\n",
      " ['Disp_Equipo1', 'Disp_Equipo2', 'Disp_Equipo3', 'DemandMax_A', 'DemandMax_B', 'DemandMax_C', 'DemandMin_A', 'DemandMin_B', 'DemandMin_C']\n",
      "Lower y upper para restr: Disp_Equipo3: (272.0, 1e+20)\n"
     ]
    }
   ],
   "source": [
    "# Usage of the iterate_over_rhs method\n",
    "constraint_nameX = 'Disp_Equipo3'  # The name of the constraint X to analyze\n",
    "constraint_nameY = mdl.get_constraint_by_name('Disp_Equipo3') # The name of the constraint Y to analyze\n",
    "\n",
    "real_rhs_value = iterate_over_rhs(constraint_nameX, constraint_nameY)"
   ]
  },
  {
   "cell_type": "code",
   "execution_count": null,
   "id": "5278522f",
   "metadata": {},
   "outputs": [
    {
     "name": "stdout",
     "output_type": "stream",
     "text": [
      "rhs_values: [110, 80.0, 140.0, 140.0, 172.0, 172.0, 272.0, 272.0]\n",
      "real_rhs_value: 110\n",
      "dual_values: [83.33333333333334, 83.33333333333334, 83.33333333333334, 50.0, 50.0, 30.0, 30.0, 0]\n",
      "\n",
      "constraint_nameX: Disp_Equipo3\n",
      "constraint_nameY: Disp_Equipo3: 0.600produccion_A_50_100_0+produccion_B_40_120_80+0.600produccion_C_30_999999999999999_0 <= 272.01\n",
      "\n",
      "mdl: docplex.mp.Model['guia5problematipo2']\n",
      "mdl: solution for: guia5problematipo2\n",
      "objective: 12800\n",
      "status: OPTIMAL_SOLUTION(2)\n",
      "produccion_B_40_120_80=80.000\n",
      "produccion_C_30_999999999999999_0=320.000\n",
      "\n"
     ]
    }
   ],
   "source": [
    "### Debug _ Notar que quedó en 12800 el Z, al terminar de iterar\n",
    "print(\"rhs_values:\",rhs_values)\n",
    "print(\"real_rhs_value:\",real_rhs_value) # es el actual, el bi\n",
    "print(\"dual_values:\", dual_values)\n",
    "print(\"\")\n",
    "print(\"constraint_nameX:\", constraint_nameX)\n",
    "print(\"constraint_nameY:\", constraint_nameY)\n",
    "print(\"\")\n",
    "print(\"mdl:\", mdl)\n",
    "print(\"mdl:\", mdl.solution) # por eso esto printea basura (no es la solución óptima de verdad)\n",
    "# if 0 not in rhs_values, significa que antes de su mín es incompatible.., revisar"
   ]
  },
  {
   "cell_type": "code",
   "execution_count": null,
   "id": "31a83080",
   "metadata": {},
   "outputs": [],
   "source": []
  },
  {
   "cell_type": "markdown",
   "id": "7f7e5ae2",
   "metadata": {},
   "source": [
    "# Entonces, las dos mejoras\n",
    "## Cambiando la restricción para el análisis y el gráfico, y las mejoras son ordenar la lista y sacar el 'infinito' del final"
   ]
  },
  {
   "cell_type": "code",
   "execution_count": null,
   "id": "80a94d17",
   "metadata": {},
   "outputs": [
    {
     "name": "stdout",
     "output_type": "stream",
     "text": [
      "Model: guia5problematipo2\n",
      " - number of variables: 3\n",
      "   - binary=0, integer=0, continuous=3\n",
      " - number of constraints: 9\n",
      "   - linear=9\n",
      " - parameters: defaults\n",
      " - objective: none\n",
      " - problem type is: LP\n",
      "* Production model solved with objective: 5700\n",
      "* Total benefit=5700\n",
      "Production of A: 50.0\n",
      "Production of B: 80.0\n",
      "Production of C: 0\n"
     ]
    }
   ],
   "source": [
    "### EJECUTAR ESTO DE NUEVO PARA QUE MDL NO HAYA QUEDADO VALIENDO NONE DE UNA ITERACIÓN ANTERIOR\n",
    "#from common import *\n",
    "#del perform_sensitivity_analysis ### AUX TEMP: ELIMINO EL IMPORT DE ESTA FN XQ ESTOY PROBANDO\n",
    "mdl, produccion_vars, products = create_model()\n",
    "solve_model(mdl, produccion_vars, products)\n",
    "\n",
    "### E INICIALIZAR LISTAS DE NUEVO PARA QUE NO ACUMULEN SOBRE LO DE LA CORRIDA ANTERIOR\n",
    "# Initialize lists to store the results\n",
    "rhs_values = []\n",
    "dual_values = []\n",
    "\n",
    "#real_rhs_value = 0\n",
    "\n",
    "m = 0.01"
   ]
  },
  {
   "cell_type": "code",
   "execution_count": null,
   "id": "e1717cbe",
   "metadata": {},
   "outputs": [
    {
     "ename": "NameError",
     "evalue": "name 'perform_sensitivity_analysis' is not defined",
     "output_type": "error",
     "traceback": [
      "\u001b[0;31m---------------------------------------------------------------------------\u001b[0m",
      "\u001b[0;31mNameError\u001b[0m                                 Traceback (most recent call last)",
      "Cell \u001b[0;32mIn[11], line 6\u001b[0m\n\u001b[1;32m      3\u001b[0m constraint_nameX \u001b[38;5;241m=\u001b[39m \u001b[38;5;124m'\u001b[39m\u001b[38;5;124mDisp_Equipo3\u001b[39m\u001b[38;5;124m'\u001b[39m  \u001b[38;5;66;03m# The name of the constraint X to analyze\u001b[39;00m\n\u001b[1;32m      4\u001b[0m constraint_nameY \u001b[38;5;241m=\u001b[39m mdl\u001b[38;5;241m.\u001b[39mget_constraint_by_name(constraint_nameX)  \u001b[38;5;66;03m# The name of the constraint X to analyze\u001b[39;00m\n\u001b[0;32m----> 6\u001b[0m real_rhs_value \u001b[38;5;241m=\u001b[39m \u001b[43miterate_over_rhs\u001b[49m\u001b[43m(\u001b[49m\u001b[43mconstraint_nameX\u001b[49m\u001b[43m,\u001b[49m\u001b[43m \u001b[49m\u001b[43mconstraint_nameY\u001b[49m\u001b[43m)\u001b[49m\n",
      "Cell \u001b[0;32mIn[6], line 8\u001b[0m, in \u001b[0;36miterate_over_rhs\u001b[0;34m(constraint_nameX, constraint_nameY)\u001b[0m\n\u001b[1;32m      5\u001b[0m     \u001b[38;5;28;01mreturn\u001b[39;00m\n\u001b[1;32m      7\u001b[0m \u001b[38;5;66;03m# Perform initial sensitivity analysis to get the starting lower and upper bounds\u001b[39;00m\n\u001b[0;32m----> 8\u001b[0m initial_sensitivity \u001b[38;5;241m=\u001b[39m \u001b[43mperform_sensitivity_analysis\u001b[49m(mdl, constraint_nameX) \u001b[38;5;66;03m# Aux: obtiene (lower, upper)\u001b[39;00m\n\u001b[1;32m      9\u001b[0m \u001b[38;5;28mprint\u001b[39m(\u001b[38;5;124m\"\u001b[39m\u001b[38;5;124m[debug] initial sensitivity\u001b[39m\u001b[38;5;124m\"\u001b[39m, initial_sensitivity)\n\u001b[1;32m     10\u001b[0m \u001b[38;5;28mprint\u001b[39m(\u001b[38;5;124m\"\u001b[39m\u001b[38;5;124m[debug] constraint_nameY:\u001b[39m\u001b[38;5;124m\"\u001b[39m, constraint_nameY)\n",
      "\u001b[0;31mNameError\u001b[0m: name 'perform_sensitivity_analysis' is not defined"
     ]
    }
   ],
   "source": [
    "### AHORA CON DISP EQUIPO *2*.\n",
    "# Usage of the iterate_over_rhs method\n",
    "constraint_nameX = 'Disp_Equipo3'  # The name of the constraint X to analyze\n",
    "constraint_nameY = mdl.get_constraint_by_name(constraint_nameX)  # The name of the constraint X to analyze\n",
    "\n",
    "real_rhs_value = iterate_over_rhs(constraint_nameX, constraint_nameY)"
   ]
  },
  {
   "cell_type": "code",
   "execution_count": null,
   "id": "4bd6ae33",
   "metadata": {},
   "outputs": [
    {
     "name": "stdout",
     "output_type": "stream",
     "text": [
      "rhs_values: [110, 80.0, 140.0, 140.0, 172.0, 172.0, 272.0, 272.0]\n",
      "real_rhs_value: 110\n",
      "dual_values: [83.33333333333334, 83.33333333333334, 83.33333333333334, 50.0, 50.0, 30.0, 30.0, 0]\n",
      "\n",
      "constraint_nameX: Disp_Equipo3\n",
      "constraint_nameY: Disp_Equipo3: 0.600produccion_A_50_100_0+produccion_B_40_120_80+0.600produccion_C_30_999999999999999_0 <= 272.01\n",
      "\n",
      "mdl: docplex.mp.Model['guia5problematipo2']\n",
      "mdl: solution for: guia5problematipo2\n",
      "objective: 12800\n",
      "status: OPTIMAL_SOLUTION(2)\n",
      "produccion_B_40_120_80=80.000\n",
      "produccion_C_30_999999999999999_0=320.000\n",
      "\n"
     ]
    }
   ],
   "source": [
    "### Debug _ viendo\n",
    "print(\"rhs_values:\",rhs_values)\n",
    "print(\"real_rhs_value:\",real_rhs_value) # es el actual, el bi\n",
    "print(\"dual_values:\", dual_values)\n",
    "print(\"\")\n",
    "print(\"constraint_nameX:\", constraint_nameX)\n",
    "print(\"constraint_nameY:\", constraint_nameY)\n",
    "print(\"\")\n",
    "print(\"mdl:\", mdl)\n",
    "print(\"mdl:\", mdl.solution)\n",
    "# if 0 not in rhs_values, significa que antes de su mín es incompatible.. revisar"
   ]
  },
  {
   "cell_type": "code",
   "execution_count": null,
   "id": "af091bdd",
   "metadata": {},
   "outputs": [
    {
     "name": "stdout",
     "output_type": "stream",
     "text": [
      "pairs [(110, 83.33333333333334), (80.0, 83.33333333333334), (140.0, 83.33333333333334), (140.0, 50.0), (172.0, 50.0), (172.0, 30.0), (272.0, 30.0), (272.0, 0)]\n",
      "pairs [(80.0, 83.33333333333334), (110, 83.33333333333334), (140.0, 83.33333333333334), (140.0, 50.0), (172.0, 50.0), (172.0, 30.0), (272.0, 30.0), (272.0, 0)]\n",
      "new_rhs [80.0, 110, 140.0, 140.0, 172.0, 172.0, 272.0, 272.0]\n",
      "new_dual [83.33333333333334, 83.33333333333334, 83.33333333333334, 50.0, 50.0, 30.0, 30.0, 0]\n"
     ]
    }
   ],
   "source": [
    "### Mejora1\n",
    "# Armo pares y los ordeno según 'x'\n",
    "pairs = []\n",
    "for i in range(len(rhs_values)):\n",
    "    pairs.append((rhs_values[i], dual_values[i]))\n",
    "\n",
    "print(\"pairs\", pairs)\n",
    "\n",
    "#pairs.sort()\n",
    "# Ordeno ascendentemente por la primera componente y desc por la segunda si hay empates\n",
    "pairs.sort(key=lambda x: (x[0], -x[1]))\n",
    "\n",
    "print(\"pairs\", pairs)\n",
    "\n",
    "# Los vuelvo a separar en listas, para no cambiar la función plot\n",
    "new_rhs, new_dual = [], []\n",
    "for elem in pairs:\n",
    "    new_rhs.append(elem[0])\n",
    "    new_dual.append(elem[1])\n",
    "print(\"new_rhs\", new_rhs)\n",
    "print(\"new_dual\", new_dual)"
   ]
  },
  {
   "cell_type": "code",
   "execution_count": null,
   "id": "4b665e1f",
   "metadata": {},
   "outputs": [],
   "source": [
    "def get_text_for_plot(xunit, yunit):\n",
    "    xlabel='{0} {1}'.format(constraint_nameX, xunit)\n",
    "    ylabel='Valor Marginal \\n {0} \\n{1}'.format(constraint_nameX, yunit)\n",
    "    title='Valor Marginal {}'.format(constraint_nameX)\n",
    "    \n",
    "    return {\"xlabel\": xlabel, \"ylabel\": ylabel, \"title\": title}"
   ]
  },
  {
   "cell_type": "code",
   "execution_count": null,
   "id": "1525d48a",
   "metadata": {},
   "outputs": [
    {
     "name": "stdout",
     "output_type": "stream",
     "text": [
      "plt.hline dual_values[i], rhs_values[i], rhs_values[i + 1]: 83.33333333333334 80.0 110\n",
      "plt.hline dual_values[i], rhs_values[i], rhs_values[i + 1]: 83.33333333333334 110 140.0\n",
      "plt.hline dual_values[i], rhs_values[i], rhs_values[i + 1]: 83.33333333333334 140.0 140.0\n",
      "plt.hline dual_values[i], rhs_values[i], rhs_values[i + 1]: 50.0 140.0 172.0\n",
      "plt.hline dual_values[i], rhs_values[i], rhs_values[i + 1]: 50.0 172.0 172.0\n",
      "plt.hline dual_values[i], rhs_values[i], rhs_values[i + 1]: 30.0 172.0 272.0\n",
      "plt.hline dual_values[i], rhs_values[i], rhs_values[i + 1]: 30.0 272.0 272.0\n",
      "[debug] current_x_value: 110\n"
     ]
    },
    {
     "data": {
      "image/png": "[encoded data removed]",
      "text/plain": [
       "<Figure size 640x480 with 1 Axes>"
      ]
     },
     "metadata": {},
     "output_type": "display_data"
    },
    {
     "data": {
      "text/plain": [
       "<Figure size 2000x1000 with 0 Axes>"
      ]
     },
     "metadata": {},
     "output_type": "display_data"
    }
   ],
   "source": [
    "# AHORA SÍ GRAFICO\n",
    "plot_text = get_text_for_plot(\"[hs/mes]\", \"[$/un]\")\n",
    "plot(new_rhs, new_dual, real_rhs_value, plot_text)"
   ]
  }
 ],
 "metadata": {
  "language_info": {
   "name": "python",
   "pygments_lexer": "ipython3"
  }
 },
 "nbformat": 4,
 "nbformat_minor": 5
}
