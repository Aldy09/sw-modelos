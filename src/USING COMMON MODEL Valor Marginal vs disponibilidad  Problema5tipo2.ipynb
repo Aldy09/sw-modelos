{
 "cells": [
  {
   "cell_type": "code",
   "execution_count": null,
   "id": "bf341062",
   "metadata": {},
   "outputs": [
    {
     "name": "stdout",
     "output_type": "stream",
     "text": [
      "Model: guia5problematipo2\n",
      " - number of variables: 3\n",
      "   - binary=0, integer=0, continuous=3\n",
      " - number of constraints: 9\n",
      "   - linear=9\n",
      " - parameters: defaults\n",
      " - objective: none\n",
      " - problem type is: LP\n",
      "* Production model solved with objective: 5700\n",
      "* Total benefit=5700\n",
      "Production of A: 50.0\n",
      "Production of B: 80.0\n",
      "Production of C: 0\n"
     ]
    }
   ],
   "source": [
    "# Cargar los datos y obtener el modelo\n",
    "from common import create_model, solve_model, plot\n",
    "from rhs_iterator import iterate_over_rhs\n",
    "from vm_vs_disp import get_y, get_text_for_plot\n",
    "from data import create_data_dict\n",
    "\n",
    "data = create_data_dict()\n",
    "mdl, produccion_vars, products = create_model(data)\n",
    "solve_model(mdl, produccion_vars, products)"
   ]
  },
  {
   "cell_type": "code",
   "execution_count": null,
   "id": "e1717cbe",
   "metadata": {},
   "outputs": [
    {
     "name": "stdout",
     "output_type": "stream",
     "text": [
      "[debug] (lower, upper): (80.0, 140.0)\n",
      "---\n",
      "- Adjusting RHS to: 79.99\n",
      "No solution found for RHS value: 79.99\n",
      "---\n",
      "- Adjusting RHS to: 140.01\n",
      "* Production model solved with objective: 8200.5\n",
      "* Total benefit=8200.5\n",
      "Production of A: 100.0\n",
      "Production of B: 80.0\n",
      "Production of C: 0.01666666666665151\n",
      "---\n",
      "- Adjusting RHS to: 172.0\n",
      "* Production model solved with objective: 9800\n",
      "* Total benefit=9800\n",
      "Production of A: 100.0\n",
      "Production of B: 80.0\n",
      "Production of C: 53.33333333333334\n",
      "---\n",
      "- Adjusting RHS to: 172.01\n",
      "* Production model solved with objective: 9800.3\n",
      "* Total benefit=9800.3\n",
      "Production of A: 99.99000000000001\n",
      "Production of B: 80.0\n",
      "Production of C: 53.359999999999985\n",
      "---\n",
      "- Adjusting RHS to: 272.0\n",
      "* Production model solved with objective: 12800\n",
      "* Total benefit=12800\n",
      "Production of A: 0\n",
      "Production of B: 80.0\n",
      "Production of C: 320.0\n",
      "---\n",
      "- Adjusting RHS to: 272.01\n",
      "* Production model solved with objective: 12800\n",
      "* Total benefit=12800\n",
      "Production of A: 0\n",
      "Production of B: 80.0\n",
      "Production of C: 320.0\n"
     ]
    }
   ],
   "source": [
    "# Usage of the iterate_over_rhs method\n",
    "constraint_nameX = 'Disp_Equipo3'  # The name of the constraint X to analyze\n",
    "constraint_nameY = mdl.get_constraint_by_name(constraint_nameX)\n",
    "\n",
    "current_rhs_value, rhs_values, dual_values = iterate_over_rhs(constraint_nameX, constraint_nameY, mdl, products, produccion_vars, get_y)"
   ]
  },
  {
   "cell_type": "code",
   "execution_count": null,
   "id": "1525d48a",
   "metadata": {},
   "outputs": [
    {
     "name": "stdout",
     "output_type": "stream",
     "text": [
      "[debug] current_x_value: 110\n"
     ]
    },
    {
     "data": {
      "text/plain": [
       "<Figure size 640x480 with 1 Axes>"
      ]
     },
     "metadata": {},
     "output_type": "display_data"
    },
    {
     "data": {
      "text/plain": [
       "<Figure size 2000x1000 with 0 Axes>"
      ]
     },
     "metadata": {},
     "output_type": "display_data"
    }
   ],
   "source": [
    "# Graficamos\n",
    "plot_text = get_text_for_plot(constraint_nameX, \"[hs/mes]\", \"[$/un]\")\n",
    "plot(rhs_values, dual_values, current_rhs_value, plot_text)"
   ]
  },
  {
   "cell_type": "markdown",
   "id": "9e2e7080",
   "metadata": {},
   "source": [
    "# Más ejecuciones"
   ]
  },
  {
   "cell_type": "code",
   "execution_count": null,
   "id": "545890ef",
   "metadata": {},
   "outputs": [
    {
     "name": "stdout",
     "output_type": "stream",
     "text": [
      "Model: guia5problematipo2\n",
      " - number of variables: 3\n",
      "   - binary=0, integer=0, continuous=3\n",
      " - number of constraints: 9\n",
      "   - linear=9\n",
      " - parameters: defaults\n",
      " - objective: none\n",
      " - problem type is: LP\n",
      "* Production model solved with objective: 5700\n",
      "* Total benefit=5700\n",
      "Production of A: 50.0\n",
      "Production of B: 80.0\n",
      "Production of C: 0\n",
      "[debug] (lower, upper): (126.0, 1e+20)\n",
      "---\n",
      "- Adjusting RHS to: 125.99\n",
      "* Production model solved with objective: 5699.67\n",
      "* Total benefit=5699.67\n",
      "Production of A: 49.98333333333332\n",
      "Production of B: 80.0\n",
      "Production of C: 0.01666666666667993\n",
      "---\n",
      "- Adjusting RHS to: 96.0\n",
      "* Production model solved with objective: 4700\n",
      "* Total benefit=4700\n",
      "Production of A: 0\n",
      "Production of B: 80.0\n",
      "Production of C: 50.0\n",
      "---\n",
      "- Adjusting RHS to: 95.99\n",
      "No solution found for RHS value: 95.99\n",
      "[debug] current_x_value: 180\n"
     ]
    },
    {
     "data": {
      "text/plain": [
       "<Figure size 640x480 with 1 Axes>"
      ]
     },
     "metadata": {},
     "output_type": "display_data"
    },
    {
     "data": {
      "text/plain": [
       "<Figure size 2000x1000 with 0 Axes>"
      ]
     },
     "metadata": {},
     "output_type": "display_data"
    }
   ],
   "source": [
    "mdl, produccion_vars, products = create_model(data)\n",
    "solve_model(mdl, produccion_vars, products)\n",
    "\n",
    "# Usage of the iterate_over_rhs method\n",
    "constraint_nameX = 'Disp_Equipo2'  # The name of the constraint X to analyze\n",
    "constraint_nameY = mdl.get_constraint_by_name(constraint_nameX)\n",
    "\n",
    "current_rhs_value, rhs_values, dual_values = iterate_over_rhs(constraint_nameX, constraint_nameY, mdl, products, produccion_vars, get_y)\n",
    "\n",
    "# Graficamos\n",
    "plot_text = get_text_for_plot(constraint_nameX, \"[hs/mes]\", \"[$/un]\")\n",
    "plot(rhs_values, dual_values, current_rhs_value, plot_text)"
   ]
  },
  {
   "cell_type": "code",
   "execution_count": null,
   "id": "39719169",
   "metadata": {},
   "outputs": [
    {
     "name": "stdout",
     "output_type": "stream",
     "text": [
      "Model: guia5problematipo2\n",
      " - number of variables: 3\n",
      "   - binary=0, integer=0, continuous=3\n",
      " - number of constraints: 9\n",
      "   - linear=9\n",
      " - parameters: defaults\n",
      " - objective: none\n",
      " - problem type is: LP\n",
      "* Production model solved with objective: 5700\n",
      "* Total benefit=5700\n",
      "Production of A: 50.0\n",
      "Production of B: 80.0\n",
      "Production of C: 0\n",
      "[debug] (lower, upper): (104.0, 1e+20)\n",
      "---\n",
      "- Adjusting RHS to: 103.99\n",
      "* Production model solved with objective: 5699.6\n",
      "* Total benefit=5699.6\n",
      "Production of A: 49.97999999999999\n",
      "Production of B: 80.0\n",
      "Production of C: 0.020000000000010232\n",
      "---\n",
      "- Adjusting RHS to: 79.0\n",
      "* Production model solved with objective: 4700\n",
      "* Total benefit=4700\n",
      "Production of A: 0\n",
      "Production of B: 80.0\n",
      "Production of C: 50.0\n",
      "---\n",
      "- Adjusting RHS to: 78.99\n",
      "* Production model solved with objective: 4699\n",
      "* Total benefit=4699\n",
      "Production of A: 0\n",
      "Production of B: 80.0\n",
      "Production of C: 49.966666666666654\n",
      "---\n",
      "- Adjusting RHS to: 64.0\n",
      "* Production model solved with objective: 3200\n",
      "* Total benefit=3200\n",
      "Production of A: 0\n",
      "Production of B: 80.0\n",
      "Production of C: 0\n",
      "---\n",
      "- Adjusting RHS to: 63.99\n",
      "No solution found for RHS value: 63.99\n",
      "[debug] current_x_value: 160\n"
     ]
    },
    {
     "data": {
      "text/plain": [
       "<Figure size 640x480 with 1 Axes>"
      ]
     },
     "metadata": {},
     "output_type": "display_data"
    },
    {
     "data": {
      "text/plain": [
       "<Figure size 2000x1000 with 0 Axes>"
      ]
     },
     "metadata": {},
     "output_type": "display_data"
    }
   ],
   "source": [
    "mdl, produccion_vars, products = create_model(data)\n",
    "solve_model(mdl, produccion_vars, products)\n",
    "\n",
    "# Usage of the iterate_over_rhs method\n",
    "constraint_nameX = 'Disp_Equipo1'  # The name of the constraint X to analyze\n",
    "constraint_nameY = mdl.get_constraint_by_name(constraint_nameX)\n",
    "\n",
    "current_rhs_value, rhs_values, dual_values = iterate_over_rhs(constraint_nameX, constraint_nameY, mdl, products, produccion_vars, get_y)\n",
    "\n",
    "# Graficamos\n",
    "plot_text = get_text_for_plot(constraint_nameX, \"[hs/mes]\", \"[$/un]\")\n",
    "plot(rhs_values, dual_values, current_rhs_value, plot_text)"
   ]
  },
  {
   "cell_type": "code",
   "execution_count": null,
   "id": "fd33cdb1",
   "metadata": {},
   "outputs": [
    {
     "ename": "ValueError",
     "evalue": "ERROR: faltan datos de entrada: 'products'",
     "output_type": "error",
     "traceback": [
      "\u001b[0;31m---------------------------------------------------------------------------\u001b[0m",
      "\u001b[0;31mKeyError\u001b[0m                                  Traceback (most recent call last)",
      "File \u001b[0;32m~/fiuba/vacs24-25/repo-modelos/src/data.py:44\u001b[0m, in \u001b[0;36munpack_data\u001b[0;34m(data_dict)\u001b[0m\n\u001b[1;32m     43\u001b[0m name \u001b[38;5;241m=\u001b[39m data_dict[\u001b[38;5;124m\"\u001b[39m\u001b[38;5;124mname\u001b[39m\u001b[38;5;124m\"\u001b[39m]\n\u001b[0;32m---> 44\u001b[0m products \u001b[38;5;241m=\u001b[39m \u001b[43mdata_dict\u001b[49m\u001b[43m[\u001b[49m\u001b[38;5;124;43m\"\u001b[39;49m\u001b[38;5;124;43mproducts\u001b[39;49m\u001b[38;5;124;43m\"\u001b[39;49m\u001b[43m]\u001b[49m\n\u001b[1;32m     45\u001b[0m resources \u001b[38;5;241m=\u001b[39m data_dict[\u001b[38;5;124m\"\u001b[39m\u001b[38;5;124mresources\u001b[39m\u001b[38;5;124m\"\u001b[39m]\n",
      "\u001b[0;31mKeyError\u001b[0m: 'products'",
      "\nDuring handling of the above exception, another exception occurred:\n",
      "\u001b[0;31mValueError\u001b[0m                                Traceback (most recent call last)",
      "Cell \u001b[0;32mIn[6], line 8\u001b[0m\n\u001b[1;32m      4\u001b[0m data \u001b[38;5;241m=\u001b[39m \u001b[38;5;124m\"\u001b[39m\u001b[38;5;124mafsd\u001b[39m\u001b[38;5;124m\"\u001b[39m\n\u001b[1;32m      6\u001b[0m data2 \u001b[38;5;241m=\u001b[39m {\u001b[38;5;124m\"\u001b[39m\u001b[38;5;124mname\u001b[39m\u001b[38;5;124m\"\u001b[39m: \u001b[38;5;124m\"\u001b[39m\u001b[38;5;124mhola\u001b[39m\u001b[38;5;124m\"\u001b[39m, \u001b[38;5;124m\"\u001b[39m\u001b[38;5;124mres\u001b[39m\u001b[38;5;124m\"\u001b[39m: \u001b[38;5;124m\"\u001b[39m\u001b[38;5;124m3\u001b[39m\u001b[38;5;124m\"\u001b[39m}\n\u001b[0;32m----> 8\u001b[0m \u001b[43munpack_data\u001b[49m\u001b[43m(\u001b[49m\u001b[43mdata2\u001b[49m\u001b[43m)\u001b[49m\n",
      "File \u001b[0;32m~/fiuba/vacs24-25/repo-modelos/src/data.py:48\u001b[0m, in \u001b[0;36munpack_data\u001b[0;34m(data_dict)\u001b[0m\n\u001b[1;32m     46\u001b[0m     consumptions \u001b[38;5;241m=\u001b[39m data_dict[\u001b[38;5;124m\"\u001b[39m\u001b[38;5;124mconsumptions\u001b[39m\u001b[38;5;124m\"\u001b[39m]\n\u001b[1;32m     47\u001b[0m \u001b[38;5;28;01mexcept\u001b[39;00m \u001b[38;5;167;01mException\u001b[39;00m \u001b[38;5;28;01mas\u001b[39;00m e:\n\u001b[0;32m---> 48\u001b[0m     \u001b[38;5;28;01mraise\u001b[39;00m \u001b[38;5;167;01mValueError\u001b[39;00m(\u001b[38;5;124mf\u001b[39m\u001b[38;5;124m\"\u001b[39m\u001b[38;5;124mERROR: faltan datos de entrada: \u001b[39m\u001b[38;5;132;01m{\u001b[39;00me\u001b[38;5;132;01m}\u001b[39;00m\u001b[38;5;124m\"\u001b[39m)\n\u001b[1;32m     50\u001b[0m \u001b[38;5;28;01mreturn\u001b[39;00m name, products, resources, consumptions\n",
      "\u001b[0;31mValueError\u001b[0m: ERROR: faltan datos de entrada: 'products'"
     ]
    }
   ],
   "source": [
    "from data import unpack_data\n",
    "\n",
    "# Se espera error por pasar data incorrecta\n",
    "data = \"afsd\"\n",
    "\n",
    "data2 = {\"name\": \"hola\", \"res\": \"3\"}\n",
    "\n",
    "unpack_data(data2)"
   ]
  },
  {
   "cell_type": "code",
   "execution_count": null,
   "id": "a522c3e2",
   "metadata": {},
   "outputs": [
    {
     "name": "stdout",
     "output_type": "stream",
     "text": [
      "Model: guia5problematipo2\n",
      " - number of variables: 3\n",
      "   - binary=0, integer=0, continuous=3\n",
      " - number of constraints: 9\n",
      "   - linear=9\n",
      " - parameters: defaults\n",
      " - objective: none\n",
      " - problem type is: LP\n",
      "* Production model solved with objective: 5700\n",
      "* Total benefit=5700\n",
      "Production of A: 50.0\n",
      "Production of B: 80.0\n",
      "Production of C: 0\n"
     ]
    }
   ],
   "source": [
    "# Cargar los datos y obtener el modelo\n",
    "from common import create_model, solve_model, plot\n",
    "from rhs_iterator import iterate_over_rhs\n",
    "from vm_vs_disp import get_y, get_text_for_plot\n",
    "from data import create_data_dict\n",
    "\n",
    "data = create_data_dict()\n",
    "mdl, produccion_vars, products = create_model(data)\n",
    "solve_model(mdl, produccion_vars, products)"
   ]
  },
  {
   "cell_type": "code",
   "execution_count": null,
   "id": "8dc57705",
   "metadata": {},
   "outputs": [
    {
     "name": "stdout",
     "output_type": "stream",
     "text": [
      "Model: guia5problematipo2\n",
      " - number of variables: 3\n",
      "   - binary=0, integer=0, continuous=3\n",
      " - number of constraints: 9\n",
      "   - linear=9\n",
      " - parameters: defaults\n",
      " - objective: none\n",
      " - problem type is: LP\n",
      "* Production model solved with objective: 12800\n",
      "* Total benefit=12800\n",
      "Production of A: 0\n",
      "Production of B: 80.0\n",
      "Production of C: 320.0\n",
      "[debug] (lower, upper): (272.0, 1e+20)\n",
      "---\n",
      "- Adjusting RHS to: 271.99\n",
      "* Production model solved with objective: 12799.9\n",
      "* Total benefit=12799.9\n",
      "Production of A: 0.010000000000005116\n",
      "Production of B: 80.0\n",
      "Production of C: 319.97333333333336\n",
      "---\n",
      "- Adjusting RHS to: 172.0\n",
      "* Production model solved with objective: 11800\n",
      "* Total benefit=11800\n",
      "Production of A: 100.0\n",
      "Production of B: 80.0\n",
      "Production of C: 53.33333333333333\n",
      "---\n",
      "- Adjusting RHS to: 171.99\n",
      "* Production model solved with objective: 11799.5\n",
      "* Total benefit=11799.5\n",
      "Production of A: 100.0\n",
      "Production of B: 80.0\n",
      "Production of C: 53.31666666666669\n",
      "---\n",
      "- Adjusting RHS to: 140.0\n",
      "* Production model solved with objective: 10200\n",
      "* Total benefit=10200\n",
      "Production of A: 100.0\n",
      "Production of B: 80.0\n",
      "Production of C: 0\n",
      "---\n",
      "- Adjusting RHS to: 139.99\n",
      "* Production model solved with objective: 10198.8\n",
      "* Total benefit=10198.8\n",
      "Production of A: 99.98333333333335\n",
      "Production of B: 80.0\n",
      "Production of C: 0\n",
      "---\n",
      "- Adjusting RHS to: 80.0\n",
      "* Production model solved with objective: 3200\n",
      "* Total benefit=3200\n",
      "Production of A: 0\n",
      "Production of B: 80.0\n",
      "Production of C: 0\n",
      "---\n",
      "- Adjusting RHS to: 79.99\n",
      "No solution found for RHS value: 79.99\n",
      "[debug] current_x_value: 300\n"
     ]
    },
    {
     "data": {
      "text/plain": [
       "<Figure size 640x480 with 1 Axes>"
      ]
     },
     "metadata": {},
     "output_type": "display_data"
    },
    {
     "data": {
      "text/plain": [
       "<Figure size 2000x1000 with 0 Axes>"
      ]
     },
     "metadata": {},
     "output_type": "display_data"
    }
   ],
   "source": [
    "# Ahora con otra data\n",
    "\n",
    "def create_data_dict2():\n",
    "    # human friendly problem name\n",
    "    name = \"guia5problematipo2\"\n",
    "\n",
    "    # name, benefit, max demand, min demand\n",
    "    #products = [(\"A\", 50, 100, 0),### original, así estaba\n",
    "    ###products = [(\"A\", 10, 100, 0), # aux probando\n",
    "    products = [(\"A\", 70, 100, 0), # aux probando\n",
    "                (\"B\", 40, 120, 80),\n",
    "                (\"C\", 30, 999999999999999, 0)]\n",
    "\n",
    "    # resources are a list of simple tuples (name, capacity)\n",
    "    resources = [(\"Equipo1\", 160),\n",
    "                (\"Equipo2\", 180),\n",
    "                #(\"Equipo3\", 110)] ### Aux: orig, así estaba\n",
    "                (\"Equipo3\", 300)] ### Probando\n",
    "\n",
    "    consumptions = {\n",
    "        \"Equipo1\": (0.8, 0.8, 0.3),  # ex 0.8*A + 0.8*B + 0.3*C\n",
    "        \"Equipo2\": (0.6, 1.2, 0),    # Consumptions for Equipo2\n",
    "        \"Equipo3\": (0.6, 1, 0.6)     # Consumptions for Equipo3\n",
    "    }\n",
    "    return {\"name\": name, \"products\": products, \"resources\": resources, \"consumptions\": consumptions}\n",
    "\n",
    "data2 = create_data_dict2()\n",
    "\n",
    "mdl, produccion_vars, products = create_model(data2)\n",
    "solve_model(mdl, produccion_vars, products)\n",
    "\n",
    "# Usage of the iterate_over_rhs method\n",
    "constraint_nameX = 'Disp_Equipo3'  # The name of the constraint X to analyze\n",
    "constraint_nameY = mdl.get_constraint_by_name(constraint_nameX)\n",
    "\n",
    "current_rhs_value, rhs_values, dual_values = iterate_over_rhs(constraint_nameX, constraint_nameY, mdl, products, produccion_vars, get_y)\n",
    "\n",
    "# Graficamos\n",
    "plot_text = get_text_for_plot(constraint_nameX, \"[hs/mes]\", \"[$/un]\")\n",
    "plot(rhs_values, dual_values, current_rhs_value, plot_text)"
   ]
  },
  {
   "cell_type": "markdown",
   "id": "e672fb42",
   "metadata": {},
   "source": []
  }
 ],
 "metadata": {
  "language_info": {
   "name": "python",
   "pygments_lexer": "ipython3"
  }
 },
 "nbformat": 4,
 "nbformat_minor": 5
}
